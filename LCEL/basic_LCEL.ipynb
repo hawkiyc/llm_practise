{
 "cells": [
  {
   "cell_type": "markdown",
   "metadata": {},
   "source": [
    "## Load Libraries"
   ]
  },
  {
   "cell_type": "code",
   "execution_count": 1,
   "metadata": {},
   "outputs": [],
   "source": [
    "import os\n",
    "from dotenv import load_dotenv\n",
    "from langchain_groq import ChatGroq\n",
    "from langchain_core.messages import HumanMessage, SystemMessage\n",
    "from langchain_core.output_parsers import StrOutputParser\n",
    "from langchain_core.prompts import ChatPromptTemplate\n",
    "\n",
    "load_dotenv()\n",
    "groq_api_key = os.getenv(\"GROQ_API_KEY\")"
   ]
  },
  {
   "cell_type": "markdown",
   "metadata": {},
   "source": [
    "## Load LLM"
   ]
  },
  {
   "cell_type": "code",
   "execution_count": 2,
   "metadata": {},
   "outputs": [],
   "source": [
    "llm = ChatGroq(model=\"llama-3.2-90b-text-preview\", api_key = groq_api_key,)"
   ]
  },
  {
   "cell_type": "markdown",
   "metadata": {},
   "source": [
    "## Sys and Human Message"
   ]
  },
  {
   "cell_type": "code",
   "execution_count": 3,
   "metadata": {},
   "outputs": [],
   "source": [
    "\n",
    "text = \"\"\"Out of all of Donald Trump’s supporters, Derrick Evans has a particular reason to be happy with November’s election results – he hopes the president-elect will give him a pardon for participating in the 6 January riot at the US Capitol. \n",
    "'A pardon will be life changing,' said Evans, who was a member of the West Virginia legislature when he and at least 2,000 others stormed the Capitol in 2021. It was part of an effort to overturn the results of the US election, inspired by the false belief that it was Trump, not President Joe Biden, who had won.\n",
    "He reached an agreement with prosecutors which saw him plead guilty to civil disorder and spent three months in federal prison in 2022. On the campaign trail, Trump repeatedly said he would pardon the rioters, whom he has called “patriots” and “political prisoners”. But who exactly will be pardoned - and when - is still an open question.\"\"\""
   ]
  },
  {
   "cell_type": "code",
   "execution_count": 4,
   "metadata": {},
   "outputs": [],
   "source": [
    "messages = [\n",
    "    SystemMessage(content = \"You are a expericnced translator, please translate English input into Traditional Chinese\"),\n",
    "    HumanMessage(content = text)\n",
    "    ]"
   ]
  },
  {
   "cell_type": "code",
   "execution_count": 5,
   "metadata": {},
   "outputs": [
    {
     "name": "stdout",
     "output_type": "stream",
     "text": [
      "在唐納·川普的支持者中，德里克·埃文斯（Derrick Evans）有理由對11月大選結果感到特别高興 – 他希望當選總統會赦免他參與2021年1月6日美國國會山莊暴動的罪行。 \n",
      "\n",
      "“赦免將會改變我的一生，”埃文斯說，他在2021年曾是西維吉尼亞州立法機構的一員，当時他和至少另外2000人衝進國會山莊，試圖推翻美國大選結果，受虛假信念驅使，認為該次大選的實際勝利者是川普而非總統乔·拜登。 \n",
      "\n",
      "他與檢察官達成協議，承認觸犯了公民動亂罪，並在2022年在聯邦監獄服刑三個月。 在競選期間，川普多次表示將赦免暴徒，他稱呼暴徒為“愛國者”和“政治犯”。 但是誰會被赦免以及何時赦免仍然是未解之謎。\n"
     ]
    }
   ],
   "source": [
    "ans = llm.invoke(messages)\n",
    "print(ans.content)"
   ]
  },
  {
   "cell_type": "markdown",
   "metadata": {},
   "source": [
    "## Output Parser"
   ]
  },
  {
   "cell_type": "code",
   "execution_count": 6,
   "metadata": {},
   "outputs": [
    {
     "name": "stdout",
     "output_type": "stream",
     "text": [
      "在唐納·川普的支持者中，德里克·埃文斯（Derrick Evans）有理由對11月大選結果感到特别高興 – 他希望當選總統會赦免他參與2021年1月6日美國國會山莊暴動的罪行。 \n",
      "\n",
      "“赦免將會改變我的一生，”埃文斯說，他在2021年曾是西維吉尼亞州立法機構的一員，当時他和至少另外2000人衝進國會山莊，試圖推翻美國大選結果，受虛假信念驅使，認為該次大選的實際勝利者是川普而非總統乔·拜登。 \n",
      "\n",
      "他與檢察官達成協議，承認觸犯了公民動亂罪，並在2022年在聯邦監獄服刑三個月。 在競選期間，川普多次表示將赦免暴徒，他稱呼暴徒為“愛國者”和“政治犯”。 但是誰會被赦免以及何時赦免仍然是未解之謎。\n"
     ]
    }
   ],
   "source": [
    "parser = StrOutputParser()\n",
    "print(parser.invoke(ans))"
   ]
  },
  {
   "cell_type": "markdown",
   "metadata": {},
   "source": [
    "## LCEL"
   ]
  },
  {
   "cell_type": "code",
   "execution_count": 7,
   "metadata": {},
   "outputs": [
    {
     "name": "stdout",
     "output_type": "stream",
     "text": [
      "在唐納德·特朗普的支持者中，德里克·埃文斯（Derrick Evans）有理由為今年 11 月的選舉結果感到高興–他希望總統當選人會為他參加 2021 年 1 月 6 日美國國會山莊暴動而赦免。 \n",
      "埃文斯說：「赦免將會改變我的人生。」 當時埃文斯是西維吉尼亞州立法機構的成員，他和至少 2000 人衝進了美國國會山莊，試圖推翻美國選舉的結果，受到錯誤的信念影響，認為是特朗普，而不是總統喬·拜登當選。 \n",
      "他與檢察官達成協議，承認犯有民事失序罪，並在 2022 年在聯邦監獄度過了三個月。 在競選期間，特朗普多次表示會赦免暴動者，他稱呼暴動者為「愛國者」和「政治犯」。 但是誰會被赦免，何時赦免，仍然是未知數。\n"
     ]
    }
   ],
   "source": [
    "chain = llm|parser\n",
    "ans = chain.invoke(messages)\n",
    "print(ans)"
   ]
  },
  {
   "cell_type": "markdown",
   "metadata": {},
   "source": [
    "## Prompt Template"
   ]
  },
  {
   "cell_type": "code",
   "execution_count": 8,
   "metadata": {},
   "outputs": [],
   "source": [
    "sys_temp = \"You are a expericnced translator, please translate English input into {language}\"\n",
    "prompt = ChatPromptTemplate.from_messages(\n",
    "    [('system', sys_temp), ('user', \"{text}\")])"
   ]
  },
  {
   "cell_type": "code",
   "execution_count": 9,
   "metadata": {},
   "outputs": [
    {
     "data": {
      "text/plain": [
       "ChatPromptValue(messages=[SystemMessage(content='You are a expericnced translator, please translate English input into Tranditional Chinese'), HumanMessage(content=\"Out of all of Donald Trump’s supporters, Derrick Evans has a particular reason to be happy with November’s election results – he hopes the president-elect will give him a pardon for participating in the 6 January riot at the US Capitol. \\n'A pardon will be life changing,' said Evans, who was a member of the West Virginia legislature when he and at least 2,000 others stormed the Capitol in 2021. It was part of an effort to overturn the results of the US election, inspired by the false belief that it was Trump, not President Joe Biden, who had won.\\nHe reached an agreement with prosecutors which saw him plead guilty to civil disorder and spent three months in federal prison in 2022. On the campaign trail, Trump repeatedly said he would pardon the rioters, whom he has called “patriots” and “political prisoners”. But who exactly will be pardoned - and when - is still an open question.\")])"
      ]
     },
     "execution_count": 9,
     "metadata": {},
     "output_type": "execute_result"
    }
   ],
   "source": [
    "prompt.invoke({'language':\"Tranditional Chinese\", \"text\": text})"
   ]
  },
  {
   "cell_type": "code",
   "execution_count": 10,
   "metadata": {},
   "outputs": [
    {
     "data": {
      "text/plain": [
       "[SystemMessage(content='You are a expericnced translator, please translate English input into Tranditional Chinese'),\n",
       " HumanMessage(content=\"Out of all of Donald Trump’s supporters, Derrick Evans has a particular reason to be happy with November’s election results – he hopes the president-elect will give him a pardon for participating in the 6 January riot at the US Capitol. \\n'A pardon will be life changing,' said Evans, who was a member of the West Virginia legislature when he and at least 2,000 others stormed the Capitol in 2021. It was part of an effort to overturn the results of the US election, inspired by the false belief that it was Trump, not President Joe Biden, who had won.\\nHe reached an agreement with prosecutors which saw him plead guilty to civil disorder and spent three months in federal prison in 2022. On the campaign trail, Trump repeatedly said he would pardon the rioters, whom he has called “patriots” and “political prisoners”. But who exactly will be pardoned - and when - is still an open question.\")]"
      ]
     },
     "execution_count": 10,
     "metadata": {},
     "output_type": "execute_result"
    }
   ],
   "source": [
    "query = prompt.invoke({'language':\"Tranditional Chinese\", \"text\": text})\n",
    "query.to_messages()"
   ]
  },
  {
   "cell_type": "code",
   "execution_count": 11,
   "metadata": {},
   "outputs": [
    {
     "name": "stdout",
     "output_type": "stream",
     "text": [
      "唐納·川普的支持者中，德里克·埃文斯有着特殊的理由為11月份的選舉結果感到高興——他希望總統當選人會赦免他參與美國國會大廈1月6日暴亂的罪行。 \n",
      "\n",
      "「赦免將會改變我的一生，」埃文斯說。埃文斯曾是西維吉尼亞州立法機關的一員，当時他與另外至少2000人一起衝進了美國國會大廈，試圖推翻美國總統選舉結果。他們的行為受到一個錯誤的信念的驅使，以為川普贏得了選舉，而非總統乔·拜登。 \n",
      "\n",
      "埃文斯與檢察官達成了協議，承認自己犯了煽動公眾暴亂罪，並在2022年在聯邦監獄服刑了3個月。在競選期間，川普曾多次聲稱會赦免這些暴亂者，他稱這些人是「愛國者」和「政治犯」。 但是，誰會被赦免以及何時赦免仍然是個未知數。\n"
     ]
    }
   ],
   "source": [
    "chain = prompt|llm|parser\n",
    "print(chain.invoke({'language':\"Tranditional Chinese\", \"text\": text}))"
   ]
  },
  {
   "cell_type": "code",
   "execution_count": 12,
   "metadata": {},
   "outputs": [
    {
     "name": "stdout",
     "output_type": "stream",
     "text": [
      "Von allen Anhängern Donald Trumps hat Derrick Evans einen besonderen Grund, sich über die Ergebnisse der Wahl im November zu freuen – er hofft, dass der designierte Präsident ihm einen Straferlass für seine Teilnahme am Aufstand vom 6. Januar im US-Kapitol gewähren wird.\n",
      "\n",
      "\"Ein Straferlass wäre lebensverändernd\", sagte Evans, der zum Zeitpunkt des Aufstands Mitglied des Parlaments von West Virginia war, als er und mindestens 2.000 weitere Personen das Kapitol stürmten. Es war Teil einer Bemühung, die Ergebnisse der US-Präsidentschaftswahl zu annullieren, inspiriert von der falschen Überzeugung, dass Trump und nicht Präsident Joe Biden gewonnen habe.\n",
      "\n",
      "Er schloss einen Vergleich mit den Staatsanwälten, bei dem er sich des Vergehens der Zivilen Unruhen schuldig bekannte und drei Monate im Bundesgefängnis verbrachte. Während des Wahlkampfs erklärte Trump wiederholt, dass er die Aufständischen begnadigen werde, die er als \"Patrioten\" und \"politische Gefangene\" bezeichnet. Doch wer genau begnadigt wird – und wann – bleibt eine offene Frage.\n"
     ]
    }
   ],
   "source": [
    "print(chain.invoke({'language':\"German\", \"text\": text}))"
   ]
  }
 ],
 "metadata": {
  "kernelspec": {
   "display_name": "env_llm",
   "language": "python",
   "name": "python3"
  },
  "language_info": {
   "codemirror_mode": {
    "name": "ipython",
    "version": 3
   },
   "file_extension": ".py",
   "mimetype": "text/x-python",
   "name": "python",
   "nbconvert_exporter": "python",
   "pygments_lexer": "ipython3",
   "version": "3.8.19"
  }
 },
 "nbformat": 4,
 "nbformat_minor": 2
}
