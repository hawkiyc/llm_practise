{
 "cells": [
  {
   "cell_type": "markdown",
   "metadata": {},
   "source": [
    "## Load Libraries"
   ]
  },
  {
   "cell_type": "code",
   "execution_count": 1,
   "metadata": {},
   "outputs": [],
   "source": [
    "import os\n",
    "from dotenv import load_dotenv\n",
    "from langchain_groq import ChatGroq\n",
    "from langchain_core.messages import HumanMessage, SystemMessage\n",
    "from langchain_core.output_parsers import StrOutputParser\n",
    "from langchain_core.prompts import ChatPromptTemplate\n",
    "\n",
    "load_dotenv()\n",
    "groq_api_key = os.getenv(\"GROQ_API_KEY\")"
   ]
  },
  {
   "cell_type": "markdown",
   "metadata": {},
   "source": [
    "## Load LLM"
   ]
  },
  {
   "cell_type": "code",
   "execution_count": 2,
   "metadata": {},
   "outputs": [],
   "source": [
    "llm = ChatGroq(model=\"llama-3.2-90b-text-preview\", api_key = groq_api_key,)"
   ]
  },
  {
   "cell_type": "markdown",
   "metadata": {},
   "source": [
    "## Sys and Human Message"
   ]
  },
  {
   "cell_type": "code",
   "execution_count": 3,
   "metadata": {},
   "outputs": [],
   "source": [
    "text = \"\"\"Out of all of Donald Trump’s supporters, Derrick Evans has a particular reason to be happy with November’s election results – he hopes the president-elect will give him a pardon for participating in the 6 January riot at the US Capitol. \n",
    "'A pardon will be life changing,' said Evans, who was a member of the West Virginia legislature when he and at least 2,000 others stormed the Capitol in 2021. It was part of an effort to overturn the results of the US election, inspired by the false belief that it was Trump, not President Joe Biden, who had won.\n",
    "He reached an agreement with prosecutors which saw him plead guilty to civil disorder and spent three months in federal prison in 2022. On the campaign trail, Trump repeatedly said he would pardon the rioters, whom he has called “patriots” and “political prisoners”. But who exactly will be pardoned - and when - is still an open question.\"\"\""
   ]
  },
  {
   "cell_type": "code",
   "execution_count": 4,
   "metadata": {},
   "outputs": [],
   "source": [
    "messages = [\n",
    "    SystemMessage(content = \"You are a expericnced translator, please translate English input into Traditional Chinese\"),\n",
    "    HumanMessage(content = text)\n",
    "    ]"
   ]
  },
  {
   "cell_type": "code",
   "execution_count": 5,
   "metadata": {},
   "outputs": [
    {
     "name": "stdout",
     "output_type": "stream",
     "text": [
      "在唐納·川普（Donald Trump）所有支持者當中，德里克·埃文斯（Derrick Evans）對於選舉結果有特別的理由感到高興 – 他希望當選總統會赦免他參與2021年1月6日美國國會大廈暴亂的罪行。 \n",
      "\n",
      "“赦免將會改變我的一生。”埃文斯說，他曾是西維吉尼亞州立法機構成員，當時他和至少2000名其他人衝擊國會山莊，大廈暴亂是试圖推翻美國選舉結果的一部分，受假新聞影響，認為是川普，而不是總統喬·拜登（Joe Biden）贏得了選舉。 \n",
      "\n",
      "他與檢察官達成協議，承認犯有民事騷亂罪，並在2022年在聯邦監獄服刑三個月。在競選活動中，川普一再表示會赦免暴徒，他稱暴徒為“愛國者”和“政治犯”。但究竟誰會被赦免，以及何時赦免，仍是個未知數。\n"
     ]
    }
   ],
   "source": [
    "ans = llm.invoke(messages)\n",
    "print(ans.content)"
   ]
  },
  {
   "cell_type": "markdown",
   "metadata": {},
   "source": [
    "## Output Parser"
   ]
  },
  {
   "cell_type": "code",
   "execution_count": 6,
   "metadata": {},
   "outputs": [
    {
     "name": "stdout",
     "output_type": "stream",
     "text": [
      "在唐納·川普（Donald Trump）所有支持者當中，德里克·埃文斯（Derrick Evans）對於選舉結果有特別的理由感到高興 – 他希望當選總統會赦免他參與2021年1月6日美國國會大廈暴亂的罪行。 \n",
      "\n",
      "“赦免將會改變我的一生。”埃文斯說，他曾是西維吉尼亞州立法機構成員，當時他和至少2000名其他人衝擊國會山莊，大廈暴亂是试圖推翻美國選舉結果的一部分，受假新聞影響，認為是川普，而不是總統喬·拜登（Joe Biden）贏得了選舉。 \n",
      "\n",
      "他與檢察官達成協議，承認犯有民事騷亂罪，並在2022年在聯邦監獄服刑三個月。在競選活動中，川普一再表示會赦免暴徒，他稱暴徒為“愛國者”和“政治犯”。但究竟誰會被赦免，以及何時赦免，仍是個未知數。\n"
     ]
    }
   ],
   "source": [
    "parser = StrOutputParser()\n",
    "print(parser.invoke(ans))"
   ]
  },
  {
   "cell_type": "markdown",
   "metadata": {},
   "source": [
    "## LCEL"
   ]
  },
  {
   "cell_type": "code",
   "execution_count": 7,
   "metadata": {},
   "outputs": [
    {
     "name": "stdout",
     "output_type": "stream",
     "text": [
      "在唐納·川普（Donald Trump）的支持者中，德里克·埃文斯（Derrick Evans）有特殊的理由對十一月的選舉結果感到高興——他希望當選總統會赦免他參與2021年1月6日美國國會山莊暴動的罪行。 \n",
      "\n",
      "「赦免將會改變我的一生，」埃文斯說。他當時是西維吉尼亞州立法機構成員，隨著至少2000人進攻美國國會山莊，試圖推翻美國選舉結果。這是受偽信念的驅使，以為是川普而不是總統喬·拜登（Joe Biden）贏得選舉。 \n",
      "\n",
      "他與檢察官達成協議，承認觸犯民事騷亂罪，並在2022年入獄服刑3個月。川普在競選活動中多次表示，他將赦免暴動份子，他稱其為「愛國者」（patriots）及「政治犯」（political prisoners）。 但是，誰會被赦免以及何時赦免仍然是個未解的問題。\n"
     ]
    }
   ],
   "source": [
    "chain = llm|parser\n",
    "ans = chain.invoke(messages)\n",
    "print(ans)"
   ]
  },
  {
   "cell_type": "markdown",
   "metadata": {},
   "source": [
    "## Prompt Template"
   ]
  },
  {
   "cell_type": "code",
   "execution_count": 8,
   "metadata": {},
   "outputs": [],
   "source": [
    "sys_temp = \"You are a expericnced translator, please translate English input into {language}\"\n",
    "prompt = ChatPromptTemplate.from_messages(\n",
    "    [('system', sys_temp), ('user', \"{text}\")])"
   ]
  },
  {
   "cell_type": "code",
   "execution_count": 9,
   "metadata": {},
   "outputs": [
    {
     "data": {
      "text/plain": [
       "ChatPromptValue(messages=[SystemMessage(content='You are a expericnced translator, please translate English input into Tranditional Chinese'), HumanMessage(content=\"Out of all of Donald Trump’s supporters, Derrick Evans has a particular reason to be happy with November’s election results – he hopes the president-elect will give him a pardon for participating in the 6 January riot at the US Capitol. \\n'A pardon will be life changing,' said Evans, who was a member of the West Virginia legislature when he and at least 2,000 others stormed the Capitol in 2021. It was part of an effort to overturn the results of the US election, inspired by the false belief that it was Trump, not President Joe Biden, who had won.\\nHe reached an agreement with prosecutors which saw him plead guilty to civil disorder and spent three months in federal prison in 2022. On the campaign trail, Trump repeatedly said he would pardon the rioters, whom he has called “patriots” and “political prisoners”. But who exactly will be pardoned - and when - is still an open question.\")])"
      ]
     },
     "execution_count": 9,
     "metadata": {},
     "output_type": "execute_result"
    }
   ],
   "source": [
    "prompt.invoke({'language':\"Tranditional Chinese\", \"text\": text})"
   ]
  },
  {
   "cell_type": "code",
   "execution_count": 10,
   "metadata": {},
   "outputs": [
    {
     "data": {
      "text/plain": [
       "[SystemMessage(content='You are a expericnced translator, please translate English input into Tranditional Chinese'),\n",
       " HumanMessage(content=\"Out of all of Donald Trump’s supporters, Derrick Evans has a particular reason to be happy with November’s election results – he hopes the president-elect will give him a pardon for participating in the 6 January riot at the US Capitol. \\n'A pardon will be life changing,' said Evans, who was a member of the West Virginia legislature when he and at least 2,000 others stormed the Capitol in 2021. It was part of an effort to overturn the results of the US election, inspired by the false belief that it was Trump, not President Joe Biden, who had won.\\nHe reached an agreement with prosecutors which saw him plead guilty to civil disorder and spent three months in federal prison in 2022. On the campaign trail, Trump repeatedly said he would pardon the rioters, whom he has called “patriots” and “political prisoners”. But who exactly will be pardoned - and when - is still an open question.\")]"
      ]
     },
     "execution_count": 10,
     "metadata": {},
     "output_type": "execute_result"
    }
   ],
   "source": [
    "query = prompt.invoke({'language':\"Tranditional Chinese\", \"text\": text})\n",
    "query.to_messages()"
   ]
  },
  {
   "cell_type": "code",
   "execution_count": 11,
   "metadata": {},
   "outputs": [
    {
     "name": "stdout",
     "output_type": "stream",
     "text": [
      "在唐納·川普的支持者中，Derrick Evans 對11月大選的結果有特別的理由感到高興——他希望當選總統會赦免他在美國國會大廈1月6日暴動中的罪行。 \n",
      "\"赦免將是改變我一生的機會，\" Evans 表示。2021年，他在西維吉尼亞州立法機構任職時，他和其他至少2000人衝擊了美國國會大廈。這是為了推翻美國大選的結果，這是基於一種錯誤的信念：他們認為川普贏了大選，而不是總統喬·拜登 (Joe Biden)。\n",
      "他與檢察官達成協議，承認犯有公民騷亂罪，並在2022年在聯邦監獄服刑3個月。 在競選期間，川普一再表示他會赦免暴徒，他稱暴徒是\"愛國者\"和\"政治犯\"。  但究竟誰會被赦免以及何時赦免仍是未知數。\n"
     ]
    }
   ],
   "source": [
    "chain = prompt|llm|parser\n",
    "print(chain.invoke({'language':\"Tranditional Chinese\", \"text\": text}))"
   ]
  },
  {
   "cell_type": "code",
   "execution_count": 12,
   "metadata": {},
   "outputs": [
    {
     "name": "stdout",
     "output_type": "stream",
     "text": [
      "Unter allen Anhängern von Donald Trump hat Derrick Evans einen besonderen Grund, sich über das Ergebnis der Novemberwahlen zu freuen – er hofft, der gewählte Präsident wird ihm einen Gnadenakt gewähren für seine Teilnahme am Aufstand am 6. Januar im US-Kapitol. \n",
      "\"Ein Gnadenakt wird mein Leben verändern\", sagte Evans, der Mitglied der West Virginia-Legislativversammlung war, als er und mindestens 2.000 andere das Kapitol im Jahr 2021 stürmten. Es war Teil eines Versuchs, das Ergebnis der US-Wahl aufzuheben, das von der falschen Überzeugung inspiriert war, dass Trump, nicht Präsident Joe Biden, gewonnen hatte.\n",
      "Er schloss mit den Staatsanwälten einen Vergleich, der dazu führte, dass er sich wegen öffentlicher Unruhestiftung schuldig bekannte und drei Monate im Bundesgefängnis im Jahr 2022 verbrachte. Auf dem Wahlkampfweg wiederholte Trump wiederholt, dass er die Aufständischen begnadigen würde, die er \"Patrioten\" und \"politische Gefangene\" genannt hat. Aber wer genau begnadigt wird - und wann - ist immer noch eine offene Frage.\n"
     ]
    }
   ],
   "source": [
    "print(chain.invoke({'language':\"German\", \"text\": text}))"
   ]
  }
 ],
 "metadata": {
  "kernelspec": {
   "display_name": "env_llm",
   "language": "python",
   "name": "env_llm"
  },
  "language_info": {
   "codemirror_mode": {
    "name": "ipython",
    "version": 3
   },
   "file_extension": ".py",
   "mimetype": "text/x-python",
   "name": "python",
   "nbconvert_exporter": "python",
   "pygments_lexer": "ipython3",
   "version": "3.8.19"
  }
 },
 "nbformat": 4,
 "nbformat_minor": 2
}
