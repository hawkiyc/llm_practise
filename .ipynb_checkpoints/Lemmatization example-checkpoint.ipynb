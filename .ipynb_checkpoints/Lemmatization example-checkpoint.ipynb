{
 "cells": [
  {
   "cell_type": "markdown",
   "id": "49e44485-ac64-431a-b1b3-42d845634bf7",
   "metadata": {},
   "source": [
    "## Lemmatization\n",
    "Due to poor performance of stemming, lemmatization is suggested for better transformation of words."
   ]
  },
  {
   "cell_type": "code",
   "execution_count": 6,
   "id": "e365100d-4f4d-4dda-b7ea-9078f91c68e9",
   "metadata": {
    "tags": []
   },
   "outputs": [
    {
     "name": "stderr",
     "output_type": "stream",
     "text": [
      "[nltk_data] Downloading package wordnet to\n",
      "[nltk_data]     C:\\Users\\revlis_user\\AppData\\Roaming\\nltk_data...\n"
     ]
    },
    {
     "data": {
      "text/plain": [
       "True"
      ]
     },
     "execution_count": 6,
     "metadata": {},
     "output_type": "execute_result"
    }
   ],
   "source": [
    "import nltk\n",
    "from nltk.stem import WordNetLemmatizer\n",
    "nltk.download('wordnet')"
   ]
  },
  {
   "cell_type": "code",
   "execution_count": 7,
   "id": "2b6d80b4-49f5-4a6a-8fa9-8c32fb62cf43",
   "metadata": {
    "tags": []
   },
   "outputs": [],
   "source": [
    "words = [\"eat\", \"eaten\", \"eating\", \"ate\", \"write\", \"writing\", \"wrote\", \"written\",\n",
    "         \"final\", \"finally\", \"finalize\", \"history\", \"program\", \"programing\", \"programer\",\n",
    "        \"countable\", \"available\", \"believable\", \"stoppable\", \"uncountable\", \"unavailable\", \"unbelievable\", \"unstoppable\"]"
   ]
  },
  {
   "cell_type": "code",
   "execution_count": 8,
   "id": "1376c26d-743f-426f-b52f-dc8acd8e4a1c",
   "metadata": {
    "tags": []
   },
   "outputs": [],
   "source": [
    "lemmatizer = WordNetLemmatizer()"
   ]
  },
  {
   "cell_type": "code",
   "execution_count": 9,
   "id": "ba7b2187-8667-4ece-8907-9e38037f57fe",
   "metadata": {
    "tags": []
   },
   "outputs": [
    {
     "name": "stdout",
     "output_type": "stream",
     "text": [
      "eat---->eat\n",
      "eaten---->eaten\n",
      "eating---->eating\n",
      "ate---->ate\n",
      "write---->write\n",
      "writing---->writing\n",
      "wrote---->wrote\n",
      "written---->written\n",
      "final---->final\n",
      "finally---->finally\n",
      "finalize---->finalize\n",
      "history---->history\n",
      "program---->program\n",
      "programing---->programing\n",
      "programer---->programer\n",
      "countable---->countable\n",
      "available---->available\n",
      "believable---->believable\n",
      "stoppable---->stoppable\n",
      "uncountable---->uncountable\n",
      "unavailable---->unavailable\n",
      "unbelievable---->unbelievable\n",
      "unstoppable---->unstoppable\n"
     ]
    }
   ],
   "source": [
    "for w in words:\n",
    "    print(f\"{w}---->{lemmatizer.lemmatize(w)}\")"
   ]
  },
  {
   "cell_type": "markdown",
   "id": "8fef94c8-99ed-408e-8da1-49b7ea853b76",
   "metadata": {},
   "source": [
    "## lemmatizer.lemmatize(word: str, pos: str = 'n') -> str\n",
    "param pos: The Part Of Speech tag. Valid options are `\"n\"` for nouns,\n",
    "            `\"v\"` for verbs, `\"a\"` for adjectives, `\"r\"` for adverbs and `\"s\"`\n",
    "            for satellite adjectives."
   ]
  },
  {
   "cell_type": "code",
   "execution_count": 10,
   "id": "cee92f85-45bd-4746-87fd-119513041f29",
   "metadata": {
    "tags": []
   },
   "outputs": [
    {
     "name": "stdout",
     "output_type": "stream",
     "text": [
      "eat---->eat\n",
      "eaten---->eat\n",
      "eating---->eat\n",
      "ate---->eat\n",
      "write---->write\n",
      "writing---->write\n",
      "wrote---->write\n",
      "written---->write\n",
      "final---->final\n",
      "finally---->finally\n",
      "finalize---->finalize\n",
      "history---->history\n",
      "program---->program\n",
      "programing---->program\n",
      "programer---->programer\n",
      "countable---->countable\n",
      "available---->available\n",
      "believable---->believable\n",
      "stoppable---->stoppable\n",
      "uncountable---->uncountable\n",
      "unavailable---->unavailable\n",
      "unbelievable---->unbelievable\n",
      "unstoppable---->unstoppable\n"
     ]
    }
   ],
   "source": [
    "for w in words:\n",
    "    print(f\"{w}---->{lemmatizer.lemmatize(w, 'v')}\")"
   ]
  },
  {
   "cell_type": "code",
   "execution_count": 11,
   "id": "86cd834a-7f7e-43da-b125-61da57150420",
   "metadata": {
    "tags": []
   },
   "outputs": [
    {
     "name": "stdout",
     "output_type": "stream",
     "text": [
      "eat---->eat\n",
      "eaten---->eaten\n",
      "eating---->eating\n",
      "ate---->ate\n",
      "write---->write\n",
      "writing---->writing\n",
      "wrote---->wrote\n",
      "written---->written\n",
      "final---->final\n",
      "finally---->finally\n",
      "finalize---->finalize\n",
      "history---->history\n",
      "program---->program\n",
      "programing---->programing\n",
      "programer---->programer\n",
      "countable---->countable\n",
      "available---->available\n",
      "believable---->believable\n",
      "stoppable---->stoppable\n",
      "uncountable---->uncountable\n",
      "unavailable---->unavailable\n",
      "unbelievable---->unbelievable\n",
      "unstoppable---->unstoppable\n"
     ]
    }
   ],
   "source": [
    "for w in words:\n",
    "    print(f\"{w}---->{lemmatizer.lemmatize(w, 'a')}\")"
   ]
  }
 ],
 "metadata": {
  "kernelspec": {
   "display_name": "env_llm",
   "language": "python",
   "name": "env_llm"
  },
  "language_info": {
   "codemirror_mode": {
    "name": "ipython",
    "version": 3
   },
   "file_extension": ".py",
   "mimetype": "text/x-python",
   "name": "python",
   "nbconvert_exporter": "python",
   "pygments_lexer": "ipython3",
   "version": "3.11.9"
  }
 },
 "nbformat": 4,
 "nbformat_minor": 5
}
