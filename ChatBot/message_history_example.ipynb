{
 "cells": [
  {
   "cell_type": "markdown",
   "metadata": {},
   "source": [
    "## Import Libraries"
   ]
  },
  {
   "cell_type": "code",
   "execution_count": 1,
   "metadata": {},
   "outputs": [],
   "source": [
    "import os\n",
    "from dotenv import load_dotenv\n",
    "from langchain_groq import ChatGroq\n",
    "from langchain_core.messages import HumanMessage, AIMessage, SystemMessage, trim_messages\n",
    "from langchain_community.chat_message_histories import ChatMessageHistory\n",
    "from langchain_core.chat_history import BaseChatMessageHistory\n",
    "from langchain_core.runnables import RunnablePassthrough\n",
    "from langchain_core.runnables.history import RunnableWithMessageHistory\n",
    "from langchain_core.prompts import ChatPromptTemplate, MessagesPlaceholder\n",
    "from operator import itemgetter\n",
    "\n",
    "load_dotenv()\n",
    "groq_api_key = os.getenv(\"GROQ_API_KEY\")"
   ]
  },
  {
   "cell_type": "markdown",
   "metadata": {},
   "source": [
    "## Load LLM"
   ]
  },
  {
   "cell_type": "code",
   "execution_count": 2,
   "metadata": {},
   "outputs": [],
   "source": [
    "llm = ChatGroq(model=\"llama-3.2-90b-text-preview\", api_key = groq_api_key,)"
   ]
  },
  {
   "cell_type": "code",
   "execution_count": 3,
   "metadata": {},
   "outputs": [
    {
     "name": "stdout",
     "output_type": "stream",
     "text": [
      "**Wrap Function in Python: Introduction**\n",
      "=====================================================\n",
      "\n",
      "In Python, a wrap function (also known as a decorator) is a design pattern that allows a user to add new functionality to an existing object without modifying its structure. It's a way to \"wrap\" another function in order to extend the behavior of the wrapped function, without permanently modifying it.\n",
      "\n",
      "**How Wrap Function Works**\n",
      "---------------------------\n",
      "\n",
      "Here's a step-by-step explanation of how a wrap function works:\n",
      "\n",
      "1.  **Define a wrap function**: You define a function that takes another function as an argument.\n",
      "2.  **Define a nested function**: Inside the wrap function, you define a nested function that calls the original function.\n",
      "3.  **Add new behavior**: Before or after calling the original function, you can add new behavior to the nested function.\n",
      "4.  **Return the nested function**: The wrap function returns the nested function.\n",
      "5.  **Apply the wrap function**: You apply the wrap function to an existing function using the `@` symbol.\n",
      "\n",
      "**Example Code**\n",
      "---------------\n",
      "\n",
      "Here's an example of a simple wrap function that adds a logging feature to an existing function:\n",
      "\n",
      "```python\n",
      "def my_logger(original_function):\n",
      "    \"\"\"\n",
      "    A wrap function that logs the execution of a function.\n",
      "    \"\"\"\n",
      "    def wrapper_function(*args, **kwargs):\n",
      "        \"\"\"\n",
      "        A nested function that calls the original function and logs its execution.\n",
      "        \"\"\"\n",
      "        print(f\"{original_function.__name__} is started.\")\n",
      "        result = original_function(*args, **kwargs)\n",
      "        print(f\"{original_function.__name__} is ended.\")\n",
      "        return result\n",
      "    return wrapper_function\n",
      "\n",
      "# Apply the wrap function to an existing function\n",
      "@my_logger\n",
      "def add(a, b):\n",
      "    \"\"\"\n",
      "    An existing function that adds two numbers.\n",
      "    \"\"\"\n",
      "    return a + b\n",
      "\n",
      "# Test the wrapped function\n",
      "result = add(2, 3)\n",
      "print(f\"Result: {result}\")\n",
      "```\n",
      "\n",
      "**Output**\n",
      "\n",
      "```\n",
      "add is started.\n",
      "add is ended.\n",
      "Result: 5\n",
      "```\n",
      "\n",
      "**Real-World Use Cases**\n",
      "----------------------\n",
      "\n",
      "Wrap functions have many real-world use cases, including:\n",
      "\n",
      "*   **Logging**: Add logging features to existing functions to track their execution.\n",
      "*   **Authentication**: Add authentication checks to existing functions to restrict access.\n",
      "*   **Error handling**: Add error handling to existing functions to handle exceptions.\n",
      "*   **Caching**: Add caching to existing functions to improve performance.\n",
      "\n",
      "By using wrap functions, you can extend the behavior of existing functions without modifying their structure, making your code more flexible and maintainable.\n"
     ]
    }
   ],
   "source": [
    "ans = llm.invoke([HumanMessage(content = \"Tell me about wrap function in python, how it works\")])\n",
    "print(ans.content)"
   ]
  },
  {
   "cell_type": "code",
   "execution_count": 4,
   "metadata": {},
   "outputs": [
    {
     "name": "stdout",
     "output_type": "stream",
     "text": [
      "**Decorators and Wrap Functions**\n",
      "================================\n",
      "\n",
      "In Python, a decorator is a small function that takes another function as an argument and extends the behavior of the latter function without permanently modifying it.\n",
      "\n",
      "While a wrap function is a specific design pattern that involves defining a nested function inside a decorator, not all decorators require a wrap function. However, most decorators do use a wrap function to extend the behavior of the original function.\n",
      "\n",
      "**Types of Decorators**\n",
      "------------------------\n",
      "\n",
      "There are two main types of decorators:\n",
      "\n",
      "1.  **Simple Decorators**: These decorators do not use a wrap function. Instead, they simply return a new function that replaces the original function.\n",
      "\n",
      "    ```python\n",
      "def simple_decorator(func):\n",
      "    def new_func():\n",
      "        return \"Hello, world!\"\n",
      "    return new_func\n",
      "\n",
      "@simple_decorator\n",
      "def original_func():\n",
      "    return \"Original function\"\n",
      "\n",
      "print(original_func())  # Output: Hello, world!\n",
      "```\n",
      "\n",
      "    In this example, the `simple_decorator` function returns a new function `new_func` that replaces the original function `original_func`.\n",
      "\n",
      "2.  **Decorators with Wrap Functions**: These decorators use a wrap function to extend the behavior of the original function.\n",
      "\n",
      "    ```python\n",
      "def decorator_with_wrap(func):\n",
      "    def wrap(*args, **kwargs):\n",
      "        print(\"Before calling the original function\")\n",
      "        result = func(*args, **kwargs)\n",
      "        print(\"After calling the original function\")\n",
      "        return result\n",
      "    return wrap\n",
      "\n",
      "@decorator_with_wrap\n",
      "def original_func():\n",
      "    return \"Original function\"\n",
      "\n",
      "print(original_func())  # Output: Before calling the original function, Original function, After calling the original function\n",
      "```\n",
      "\n",
      "    In this example, the `decorator_with_wrap` function returns a wrap function `wrap` that extends the behavior of the original function `original_func`.\n",
      "\n",
      "**When to Use a Wrap Function**\n",
      "------------------------------\n",
      "\n",
      "While it's possible to write decorators without a wrap function, using a wrap function is often the preferred approach. Here are some scenarios where a wrap function is particularly useful:\n",
      "\n",
      "*   **Adding pre- and post-execution logic**: A wrap function allows you to add code that runs before and after the original function is executed.\n",
      "*   **Preserving the original function's metadata**: By using a wrap function, you can preserve the original function's metadata, such as its name, docstring, and argument signature.\n",
      "*   **Improving code readability**: A wrap function can make the decorator code more readable by separating the original function's logic from the decorator's logic.\n",
      "\n",
      "In summary, while a decorator doesn't strictly require a wrap function, using a wrap function is often the best approach to extend the behavior of an original function.\n"
     ]
    }
   ],
   "source": [
    "ans1 = llm.invoke(\n",
    "    [HumanMessage(content = 'Tell me about wrap function in python, how it works'),\n",
    "     AIMessage(content = ans.content),\n",
    "     HumanMessage(content = \"So, a decorator must have wrap function?\")])\n",
    "print(ans1.content)"
   ]
  },
  {
   "cell_type": "markdown",
   "metadata": {},
   "source": [
    "## Message History"
   ]
  },
  {
   "cell_type": "code",
   "execution_count": 5,
   "metadata": {},
   "outputs": [],
   "source": [
    "store = {}\n",
    "\n",
    "def get_session_history(session_id: str) -> BaseChatMessageHistory:\n",
    "    if session_id not in store:\n",
    "        store[session_id] = ChatMessageHistory()\n",
    "    return store[session_id]"
   ]
  },
  {
   "cell_type": "code",
   "execution_count": 6,
   "metadata": {},
   "outputs": [
    {
     "data": {
      "text/plain": [
       "RunnableWithMessageHistory(bound=RunnableBinding(bound=RunnableBinding(bound=RunnableLambda(_enter_history), config={'run_name': 'load_history'})\n",
       "| RunnableBinding(bound=RunnableLambda(_call_runnable_sync), config={'run_name': 'check_sync_or_async'}), config={'run_name': 'RunnableWithMessageHistory'}), get_session_history=<function get_session_history at 0x7cbb672a71f0>, history_factory_config=[ConfigurableFieldSpec(id='session_id', annotation=<class 'str'>, name='Session ID', description='Unique identifier for a session.', default='', is_shared=True, dependencies=None)])"
      ]
     },
     "execution_count": 6,
     "metadata": {},
     "output_type": "execute_result"
    }
   ],
   "source": [
    "with_history_message = RunnableWithMessageHistory(llm, get_session_history)\n",
    "with_history_message"
   ]
  },
  {
   "cell_type": "code",
   "execution_count": 7,
   "metadata": {},
   "outputs": [
    {
     "data": {
      "text/plain": [
       "{}"
      ]
     },
     "execution_count": 7,
     "metadata": {},
     "output_type": "execute_result"
    }
   ],
   "source": [
    "store"
   ]
  },
  {
   "cell_type": "code",
   "execution_count": 8,
   "metadata": {},
   "outputs": [],
   "source": [
    "config0 = {'configurable' : {'session_id' : 'chat0'}}"
   ]
  },
  {
   "cell_type": "code",
   "execution_count": 9,
   "metadata": {},
   "outputs": [
    {
     "name": "stdout",
     "output_type": "stream",
     "text": [
      "Here's a template for a self-introduction you can use in a data scientist interview:\n",
      "\n",
      "**Template:**\n",
      "\n",
      "\"Hello, my name is [Your Name], and I'm excited to be here tonight to discuss the data scientist position. With [Number of Years] years of experience in data science and analytics, I've developed a passion for extracting insights from complex data and driving business growth through data-driven decision making.\n",
      "\n",
      "\"My background is in [Your Educational Background or Relevant Field], and I've honed my skills in [Key Skills, e.g., machine learning, statistical modeling, data visualization, programming languages like Python or R]. In my previous roles at [Previous Companies or Organizations], I've worked on various projects, including [Briefly Mention a Few Relevant Projects or Accomplishments].\n",
      "\n",
      "\"As a data scientist, I'm committed to staying up-to-date with the latest advancements in the field and continuously learning and improving my skills. I'm excited about the opportunity to join [Company Name] and contribute my expertise to drive business success.\n",
      "\n",
      "\"I'm looking forward to discussing my qualifications further and learning more about the role and the company's vision for data science. Thank you for having me tonight.\"\n",
      "\n",
      "**Example:**\n",
      "\n",
      "\"Hello, my name is Emily Chen, and I'm excited to be here tonight to discuss the data scientist position. With 5 years of experience in data science and analytics, I've developed a passion for extracting insights from complex data and driving business growth through data-driven decision making.\n",
      "\n",
      "\"My background is in computer science, and I've honed my skills in machine learning, statistical modeling, and data visualization using tools like Python, R, and Tableau. In my previous roles at ABC Corporation and DEF Startups, I've worked on various projects, including predictive modeling for customer churn and developing a recommender system for e-commerce.\n",
      "\n",
      "\"As a data scientist, I'm committed to staying up-to-date with the latest advancements in the field and continuously learning and improving my skills. I'm excited about the opportunity to join XYZ Company and contribute my expertise to drive business success.\n",
      "\n",
      "\"I'm looking forward to discussing my qualifications further and learning more about the role and the company's vision for data science. Thank you for having me tonight.\"\n",
      "\n",
      "**Tips:**\n",
      "\n",
      "* Customize the template to fit your own experiences and qualifications.\n",
      "* Practice your self-introduction to feel confident and comfortable with the material.\n",
      "* Keep your self-introduction concise and focused on the most important information.\n",
      "* Be sure to highlight your relevant skills and experiences, and express your enthusiasm for the role and the company.\n",
      "\n",
      "I hope this helps! Good luck with your interview tonight.\n"
     ]
    }
   ],
   "source": [
    "response = with_history_message.invoke(\n",
    "    [HumanMessage(content = 'Hi, I have a interview for data scientist tonight, please give me a template of self-introduction')],\n",
    "    config = config0)\n",
    "print(response.content)"
   ]
  },
  {
   "cell_type": "code",
   "execution_count": 10,
   "metadata": {},
   "outputs": [
    {
     "data": {
      "text/plain": [
       "{'chat0': InMemoryChatMessageHistory(messages=[HumanMessage(content='Hi, I have a interview for data scientist tonight, please give me a template of self-introduction'), AIMessage(content='Here\\'s a template for a self-introduction you can use in a data scientist interview:\\n\\n**Template:**\\n\\n\"Hello, my name is [Your Name], and I\\'m excited to be here tonight to discuss the data scientist position. With [Number of Years] years of experience in data science and analytics, I\\'ve developed a passion for extracting insights from complex data and driving business growth through data-driven decision making.\\n\\n\"My background is in [Your Educational Background or Relevant Field], and I\\'ve honed my skills in [Key Skills, e.g., machine learning, statistical modeling, data visualization, programming languages like Python or R]. In my previous roles at [Previous Companies or Organizations], I\\'ve worked on various projects, including [Briefly Mention a Few Relevant Projects or Accomplishments].\\n\\n\"As a data scientist, I\\'m committed to staying up-to-date with the latest advancements in the field and continuously learning and improving my skills. I\\'m excited about the opportunity to join [Company Name] and contribute my expertise to drive business success.\\n\\n\"I\\'m looking forward to discussing my qualifications further and learning more about the role and the company\\'s vision for data science. Thank you for having me tonight.\"\\n\\n**Example:**\\n\\n\"Hello, my name is Emily Chen, and I\\'m excited to be here tonight to discuss the data scientist position. With 5 years of experience in data science and analytics, I\\'ve developed a passion for extracting insights from complex data and driving business growth through data-driven decision making.\\n\\n\"My background is in computer science, and I\\'ve honed my skills in machine learning, statistical modeling, and data visualization using tools like Python, R, and Tableau. In my previous roles at ABC Corporation and DEF Startups, I\\'ve worked on various projects, including predictive modeling for customer churn and developing a recommender system for e-commerce.\\n\\n\"As a data scientist, I\\'m committed to staying up-to-date with the latest advancements in the field and continuously learning and improving my skills. I\\'m excited about the opportunity to join XYZ Company and contribute my expertise to drive business success.\\n\\n\"I\\'m looking forward to discussing my qualifications further and learning more about the role and the company\\'s vision for data science. Thank you for having me tonight.\"\\n\\n**Tips:**\\n\\n* Customize the template to fit your own experiences and qualifications.\\n* Practice your self-introduction to feel confident and comfortable with the material.\\n* Keep your self-introduction concise and focused on the most important information.\\n* Be sure to highlight your relevant skills and experiences, and express your enthusiasm for the role and the company.\\n\\nI hope this helps! Good luck with your interview tonight.', response_metadata={'token_usage': {'completion_tokens': 528, 'prompt_tokens': 55, 'total_tokens': 583, 'completion_time': 2.112, 'prompt_time': 0.009443282, 'queue_time': 0.004068275, 'total_time': 2.121443282}, 'model_name': 'llama-3.2-90b-text-preview', 'system_fingerprint': 'fp_5c5d1b5cfb', 'finish_reason': 'stop', 'logprobs': None}, id='run-3b9a995b-b04d-4ea9-b634-14a06088a8b0-0', usage_metadata={'input_tokens': 55, 'output_tokens': 528, 'total_tokens': 583})])}"
      ]
     },
     "execution_count": 10,
     "metadata": {},
     "output_type": "execute_result"
    }
   ],
   "source": [
    "store"
   ]
  },
  {
   "cell_type": "code",
   "execution_count": 11,
   "metadata": {},
   "outputs": [
    {
     "name": "stdout",
     "output_type": "stream",
     "text": [
      "Here's a revised template for a self-introduction, tailored to your experience:\n",
      "\n",
      "**Template:**\n",
      "\n",
      "\"Hello, my name is Gavin Jang, and I'm excited to be here tonight to discuss the data scientist position. With over 10 years of experience in data science and analytics, I've developed a strong track record of driving business growth and improving decision-making through data-driven insights.\n",
      "\n",
      "\"My expertise spans a wide range of areas, including [Key Areas of Expertise, e.g., machine learning, statistical modeling, data visualization, programming languages like Python or R]. I've had the opportunity to work with various industries and organizations, including [Previous Companies or Industries], where I've developed and implemented data-driven solutions that have delivered significant value.\n",
      "\n",
      "\"Throughout my career, I've stayed at the forefront of the latest advancements in data science, leveraging tools and technologies like [Relevant Tools or Technologies] to drive innovation and efficiency. I'm passionate about collaborating with cross-functional teams and communicating complex data insights to both technical and non-technical stakeholders.\n",
      "\n",
      "\"I'm excited about the opportunity to join [Company Name] and contribute my expertise to drive business success. I'm looking forward to discussing my qualifications further and learning more about the role and the company's vision for data science. Thank you for having me tonight.\"\n",
      "\n",
      "**Example:**\n",
      "\n",
      "\"Hello, my name is Gavin Jang, and I'm excited to be here tonight to discuss the data scientist position. With over 10 years of experience in data science and analytics, I've developed a strong track record of driving business growth and improving decision-making through data-driven insights.\n",
      "\n",
      "\"My expertise spans a wide range of areas, including machine learning, statistical modeling, and data visualization using tools like Python, R, and Tableau. I've had the opportunity to work with various industries and organizations, including finance, healthcare, and technology, where I've developed and implemented data-driven solutions that have delivered significant value.\n",
      "\n",
      "\"Throughout my career, I've stayed at the forefront of the latest advancements in data science, leveraging tools and technologies like deep learning, natural language processing, and cloud-based platforms to drive innovation and efficiency. I'm passionate about collaborating with cross-functional teams and communicating complex data insights to both technical and non-technical stakeholders.\n",
      "\n",
      "\"I'm excited about the opportunity to join [Company Name] and contribute my expertise to drive business success. I'm looking forward to discussing my qualifications further and learning more about the role and the company's vision for data science. Thank you for having me tonight.\"\n",
      "\n",
      "**Tips:**\n",
      "\n",
      "* Customize the template to fit your own experiences and qualifications.\n",
      "* Highlight your achievements and the impact you've made in your previous roles.\n",
      "* Emphasize your passion for data science and your enthusiasm for the role and the company.\n",
      "* Keep your self-introduction concise and focused on the most important information.\n",
      "\n",
      "I hope this revised template helps! Good luck with your interview tonight.\n"
     ]
    }
   ],
   "source": [
    "response = with_history_message.invoke(\n",
    "    [HumanMessage(content = 'My name is Gavin Jang, I have 10 years experience in data science. Please revise your template')],\n",
    "    config = config0)\n",
    "print(response.content)"
   ]
  },
  {
   "cell_type": "code",
   "execution_count": 12,
   "metadata": {},
   "outputs": [
    {
     "data": {
      "text/plain": [
       "{'chat0': InMemoryChatMessageHistory(messages=[HumanMessage(content='Hi, I have a interview for data scientist tonight, please give me a template of self-introduction'), AIMessage(content='Here\\'s a template for a self-introduction you can use in a data scientist interview:\\n\\n**Template:**\\n\\n\"Hello, my name is [Your Name], and I\\'m excited to be here tonight to discuss the data scientist position. With [Number of Years] years of experience in data science and analytics, I\\'ve developed a passion for extracting insights from complex data and driving business growth through data-driven decision making.\\n\\n\"My background is in [Your Educational Background or Relevant Field], and I\\'ve honed my skills in [Key Skills, e.g., machine learning, statistical modeling, data visualization, programming languages like Python or R]. In my previous roles at [Previous Companies or Organizations], I\\'ve worked on various projects, including [Briefly Mention a Few Relevant Projects or Accomplishments].\\n\\n\"As a data scientist, I\\'m committed to staying up-to-date with the latest advancements in the field and continuously learning and improving my skills. I\\'m excited about the opportunity to join [Company Name] and contribute my expertise to drive business success.\\n\\n\"I\\'m looking forward to discussing my qualifications further and learning more about the role and the company\\'s vision for data science. Thank you for having me tonight.\"\\n\\n**Example:**\\n\\n\"Hello, my name is Emily Chen, and I\\'m excited to be here tonight to discuss the data scientist position. With 5 years of experience in data science and analytics, I\\'ve developed a passion for extracting insights from complex data and driving business growth through data-driven decision making.\\n\\n\"My background is in computer science, and I\\'ve honed my skills in machine learning, statistical modeling, and data visualization using tools like Python, R, and Tableau. In my previous roles at ABC Corporation and DEF Startups, I\\'ve worked on various projects, including predictive modeling for customer churn and developing a recommender system for e-commerce.\\n\\n\"As a data scientist, I\\'m committed to staying up-to-date with the latest advancements in the field and continuously learning and improving my skills. I\\'m excited about the opportunity to join XYZ Company and contribute my expertise to drive business success.\\n\\n\"I\\'m looking forward to discussing my qualifications further and learning more about the role and the company\\'s vision for data science. Thank you for having me tonight.\"\\n\\n**Tips:**\\n\\n* Customize the template to fit your own experiences and qualifications.\\n* Practice your self-introduction to feel confident and comfortable with the material.\\n* Keep your self-introduction concise and focused on the most important information.\\n* Be sure to highlight your relevant skills and experiences, and express your enthusiasm for the role and the company.\\n\\nI hope this helps! Good luck with your interview tonight.', response_metadata={'token_usage': {'completion_tokens': 528, 'prompt_tokens': 55, 'total_tokens': 583, 'completion_time': 2.112, 'prompt_time': 0.009443282, 'queue_time': 0.004068275, 'total_time': 2.121443282}, 'model_name': 'llama-3.2-90b-text-preview', 'system_fingerprint': 'fp_5c5d1b5cfb', 'finish_reason': 'stop', 'logprobs': None}, id='run-3b9a995b-b04d-4ea9-b634-14a06088a8b0-0', usage_metadata={'input_tokens': 55, 'output_tokens': 528, 'total_tokens': 583}), HumanMessage(content='My name is Gavin Jang, I have 10 years experience in data science. Please revise your template'), AIMessage(content='Here\\'s a revised template for a self-introduction, tailored to your experience:\\n\\n**Template:**\\n\\n\"Hello, my name is Gavin Jang, and I\\'m excited to be here tonight to discuss the data scientist position. With over 10 years of experience in data science and analytics, I\\'ve developed a strong track record of driving business growth and improving decision-making through data-driven insights.\\n\\n\"My expertise spans a wide range of areas, including [Key Areas of Expertise, e.g., machine learning, statistical modeling, data visualization, programming languages like Python or R]. I\\'ve had the opportunity to work with various industries and organizations, including [Previous Companies or Industries], where I\\'ve developed and implemented data-driven solutions that have delivered significant value.\\n\\n\"Throughout my career, I\\'ve stayed at the forefront of the latest advancements in data science, leveraging tools and technologies like [Relevant Tools or Technologies] to drive innovation and efficiency. I\\'m passionate about collaborating with cross-functional teams and communicating complex data insights to both technical and non-technical stakeholders.\\n\\n\"I\\'m excited about the opportunity to join [Company Name] and contribute my expertise to drive business success. I\\'m looking forward to discussing my qualifications further and learning more about the role and the company\\'s vision for data science. Thank you for having me tonight.\"\\n\\n**Example:**\\n\\n\"Hello, my name is Gavin Jang, and I\\'m excited to be here tonight to discuss the data scientist position. With over 10 years of experience in data science and analytics, I\\'ve developed a strong track record of driving business growth and improving decision-making through data-driven insights.\\n\\n\"My expertise spans a wide range of areas, including machine learning, statistical modeling, and data visualization using tools like Python, R, and Tableau. I\\'ve had the opportunity to work with various industries and organizations, including finance, healthcare, and technology, where I\\'ve developed and implemented data-driven solutions that have delivered significant value.\\n\\n\"Throughout my career, I\\'ve stayed at the forefront of the latest advancements in data science, leveraging tools and technologies like deep learning, natural language processing, and cloud-based platforms to drive innovation and efficiency. I\\'m passionate about collaborating with cross-functional teams and communicating complex data insights to both technical and non-technical stakeholders.\\n\\n\"I\\'m excited about the opportunity to join [Company Name] and contribute my expertise to drive business success. I\\'m looking forward to discussing my qualifications further and learning more about the role and the company\\'s vision for data science. Thank you for having me tonight.\"\\n\\n**Tips:**\\n\\n* Customize the template to fit your own experiences and qualifications.\\n* Highlight your achievements and the impact you\\'ve made in your previous roles.\\n* Emphasize your passion for data science and your enthusiasm for the role and the company.\\n* Keep your self-introduction concise and focused on the most important information.\\n\\nI hope this revised template helps! Good luck with your interview tonight.', response_metadata={'token_usage': {'completion_tokens': 585, 'prompt_tokens': 613, 'total_tokens': 1198, 'completion_time': 2.34, 'prompt_time': 0.160189098, 'queue_time': 0.00338311899999999, 'total_time': 2.500189098}, 'model_name': 'llama-3.2-90b-text-preview', 'system_fingerprint': 'fp_5c5d1b5cfb', 'finish_reason': 'stop', 'logprobs': None}, id='run-b075801a-f919-4a02-bcf8-cb865a72f227-0', usage_metadata={'input_tokens': 613, 'output_tokens': 585, 'total_tokens': 1198})])}"
      ]
     },
     "execution_count": 12,
     "metadata": {},
     "output_type": "execute_result"
    }
   ],
   "source": [
    "store"
   ]
  },
  {
   "cell_type": "code",
   "execution_count": 13,
   "metadata": {},
   "outputs": [
    {
     "name": "stdout",
     "output_type": "stream",
     "text": [
      "Oceanography Knowledge Date: December 2023\n",
      "Today Date: 15 November 2024\n",
      "\n",
      "Please ask your question or provide context related to oceanography, and I'll do my best to assist you.\n"
     ]
    }
   ],
   "source": [
    "config1 = {'configurable' : {'session_id' : 'chat1'}}\n",
    "response = with_history_message.invoke(\n",
    "    [HumanMessage(content = 'My expertise is oceanography. Please revise your template')],\n",
    "    config = config1)\n",
    "print(response.content)"
   ]
  },
  {
   "cell_type": "code",
   "execution_count": 14,
   "metadata": {},
   "outputs": [
    {
     "data": {
      "text/plain": [
       "{'chat0': InMemoryChatMessageHistory(messages=[HumanMessage(content='Hi, I have a interview for data scientist tonight, please give me a template of self-introduction'), AIMessage(content='Here\\'s a template for a self-introduction you can use in a data scientist interview:\\n\\n**Template:**\\n\\n\"Hello, my name is [Your Name], and I\\'m excited to be here tonight to discuss the data scientist position. With [Number of Years] years of experience in data science and analytics, I\\'ve developed a passion for extracting insights from complex data and driving business growth through data-driven decision making.\\n\\n\"My background is in [Your Educational Background or Relevant Field], and I\\'ve honed my skills in [Key Skills, e.g., machine learning, statistical modeling, data visualization, programming languages like Python or R]. In my previous roles at [Previous Companies or Organizations], I\\'ve worked on various projects, including [Briefly Mention a Few Relevant Projects or Accomplishments].\\n\\n\"As a data scientist, I\\'m committed to staying up-to-date with the latest advancements in the field and continuously learning and improving my skills. I\\'m excited about the opportunity to join [Company Name] and contribute my expertise to drive business success.\\n\\n\"I\\'m looking forward to discussing my qualifications further and learning more about the role and the company\\'s vision for data science. Thank you for having me tonight.\"\\n\\n**Example:**\\n\\n\"Hello, my name is Emily Chen, and I\\'m excited to be here tonight to discuss the data scientist position. With 5 years of experience in data science and analytics, I\\'ve developed a passion for extracting insights from complex data and driving business growth through data-driven decision making.\\n\\n\"My background is in computer science, and I\\'ve honed my skills in machine learning, statistical modeling, and data visualization using tools like Python, R, and Tableau. In my previous roles at ABC Corporation and DEF Startups, I\\'ve worked on various projects, including predictive modeling for customer churn and developing a recommender system for e-commerce.\\n\\n\"As a data scientist, I\\'m committed to staying up-to-date with the latest advancements in the field and continuously learning and improving my skills. I\\'m excited about the opportunity to join XYZ Company and contribute my expertise to drive business success.\\n\\n\"I\\'m looking forward to discussing my qualifications further and learning more about the role and the company\\'s vision for data science. Thank you for having me tonight.\"\\n\\n**Tips:**\\n\\n* Customize the template to fit your own experiences and qualifications.\\n* Practice your self-introduction to feel confident and comfortable with the material.\\n* Keep your self-introduction concise and focused on the most important information.\\n* Be sure to highlight your relevant skills and experiences, and express your enthusiasm for the role and the company.\\n\\nI hope this helps! Good luck with your interview tonight.', response_metadata={'token_usage': {'completion_tokens': 528, 'prompt_tokens': 55, 'total_tokens': 583, 'completion_time': 2.112, 'prompt_time': 0.009443282, 'queue_time': 0.004068275, 'total_time': 2.121443282}, 'model_name': 'llama-3.2-90b-text-preview', 'system_fingerprint': 'fp_5c5d1b5cfb', 'finish_reason': 'stop', 'logprobs': None}, id='run-3b9a995b-b04d-4ea9-b634-14a06088a8b0-0', usage_metadata={'input_tokens': 55, 'output_tokens': 528, 'total_tokens': 583}), HumanMessage(content='My name is Gavin Jang, I have 10 years experience in data science. Please revise your template'), AIMessage(content='Here\\'s a revised template for a self-introduction, tailored to your experience:\\n\\n**Template:**\\n\\n\"Hello, my name is Gavin Jang, and I\\'m excited to be here tonight to discuss the data scientist position. With over 10 years of experience in data science and analytics, I\\'ve developed a strong track record of driving business growth and improving decision-making through data-driven insights.\\n\\n\"My expertise spans a wide range of areas, including [Key Areas of Expertise, e.g., machine learning, statistical modeling, data visualization, programming languages like Python or R]. I\\'ve had the opportunity to work with various industries and organizations, including [Previous Companies or Industries], where I\\'ve developed and implemented data-driven solutions that have delivered significant value.\\n\\n\"Throughout my career, I\\'ve stayed at the forefront of the latest advancements in data science, leveraging tools and technologies like [Relevant Tools or Technologies] to drive innovation and efficiency. I\\'m passionate about collaborating with cross-functional teams and communicating complex data insights to both technical and non-technical stakeholders.\\n\\n\"I\\'m excited about the opportunity to join [Company Name] and contribute my expertise to drive business success. I\\'m looking forward to discussing my qualifications further and learning more about the role and the company\\'s vision for data science. Thank you for having me tonight.\"\\n\\n**Example:**\\n\\n\"Hello, my name is Gavin Jang, and I\\'m excited to be here tonight to discuss the data scientist position. With over 10 years of experience in data science and analytics, I\\'ve developed a strong track record of driving business growth and improving decision-making through data-driven insights.\\n\\n\"My expertise spans a wide range of areas, including machine learning, statistical modeling, and data visualization using tools like Python, R, and Tableau. I\\'ve had the opportunity to work with various industries and organizations, including finance, healthcare, and technology, where I\\'ve developed and implemented data-driven solutions that have delivered significant value.\\n\\n\"Throughout my career, I\\'ve stayed at the forefront of the latest advancements in data science, leveraging tools and technologies like deep learning, natural language processing, and cloud-based platforms to drive innovation and efficiency. I\\'m passionate about collaborating with cross-functional teams and communicating complex data insights to both technical and non-technical stakeholders.\\n\\n\"I\\'m excited about the opportunity to join [Company Name] and contribute my expertise to drive business success. I\\'m looking forward to discussing my qualifications further and learning more about the role and the company\\'s vision for data science. Thank you for having me tonight.\"\\n\\n**Tips:**\\n\\n* Customize the template to fit your own experiences and qualifications.\\n* Highlight your achievements and the impact you\\'ve made in your previous roles.\\n* Emphasize your passion for data science and your enthusiasm for the role and the company.\\n* Keep your self-introduction concise and focused on the most important information.\\n\\nI hope this revised template helps! Good luck with your interview tonight.', response_metadata={'token_usage': {'completion_tokens': 585, 'prompt_tokens': 613, 'total_tokens': 1198, 'completion_time': 2.34, 'prompt_time': 0.160189098, 'queue_time': 0.00338311899999999, 'total_time': 2.500189098}, 'model_name': 'llama-3.2-90b-text-preview', 'system_fingerprint': 'fp_5c5d1b5cfb', 'finish_reason': 'stop', 'logprobs': None}, id='run-b075801a-f919-4a02-bcf8-cb865a72f227-0', usage_metadata={'input_tokens': 613, 'output_tokens': 585, 'total_tokens': 1198})]),\n",
       " 'chat1': InMemoryChatMessageHistory(messages=[HumanMessage(content='My expertise is oceanography. Please revise your template'), AIMessage(content=\"Oceanography Knowledge Date: December 2023\\nToday Date: 15 November 2024\\n\\nPlease ask your question or provide context related to oceanography, and I'll do my best to assist you.\", response_metadata={'token_usage': {'completion_tokens': 43, 'prompt_tokens': 45, 'total_tokens': 88, 'completion_time': 0.172, 'prompt_time': 0.00786719, 'queue_time': 0.005386809000000001, 'total_time': 0.17986719}, 'model_name': 'llama-3.2-90b-text-preview', 'system_fingerprint': 'fp_b3ae7e594e', 'finish_reason': 'stop', 'logprobs': None}, id='run-52562c46-cbf6-42b2-a3da-6ab6de36e699-0', usage_metadata={'input_tokens': 45, 'output_tokens': 43, 'total_tokens': 88})])}"
      ]
     },
     "execution_count": 14,
     "metadata": {},
     "output_type": "execute_result"
    }
   ],
   "source": [
    "store"
   ]
  },
  {
   "cell_type": "code",
   "execution_count": 15,
   "metadata": {},
   "outputs": [
    {
     "name": "stdout",
     "output_type": "stream",
     "text": [
      "Here's a template for a self-introduction based on your expertise in oceanography:\n",
      "\n",
      "\"Hello, my name is [Your Name], and I'm an oceanography expert with a passion for understanding the complex interactions within our planet's ocean systems. With [Number of Years] years of experience in the field, I've had the opportunity to [briefly mention your specific areas of specialization, such as ocean currents, marine life, or ocean conservation]. My expertise spans [mention specific areas, such as research, policy development, or education], and I've had the privilege of [mention any notable projects, publications, or achievements]. I'm excited to share my knowledge and collaborate with others to advance our understanding of the ocean and its critical role in sustaining life on Earth.\"\n",
      "\n",
      "Example:\n",
      "\n",
      "\"Hello, my name is [Your Name], and I'm an oceanography expert with a passion for understanding the complex interactions within our planet's ocean systems. With 10 years of experience in the field, I've had the opportunity to specialize in ocean currents and marine life. My expertise spans research, policy development, and education, and I've had the privilege of publishing research papers on ocean circulation patterns and working with government agencies to develop sustainable fishing policies. I'm excited to share my knowledge and collaborate with others to advance our understanding of the ocean and its critical role in sustaining life on Earth.\"\n"
     ]
    }
   ],
   "source": [
    "response = with_history_message.invoke(\n",
    "    [HumanMessage(content = 'Give me a template of self-introduction based on my expertise')],\n",
    "    config = config1)\n",
    "print(response.content)"
   ]
  },
  {
   "cell_type": "markdown",
   "metadata": {},
   "source": [
    "## Prompt Template"
   ]
  },
  {
   "cell_type": "code",
   "execution_count": 16,
   "metadata": {},
   "outputs": [],
   "source": [
    "prompt = ChatPromptTemplate.from_messages(\n",
    "    [('system', \"You are my copywriting assistant. Please write text or article according my instruction\"),\n",
    "     MessagesPlaceholder(variable_name = 'messages')])\n",
    "chain = prompt|llm"
   ]
  },
  {
   "cell_type": "code",
   "execution_count": 17,
   "metadata": {},
   "outputs": [
    {
     "name": "stdout",
     "output_type": "stream",
     "text": [
      "**Introducing the Future of Timekeeping: Our Brand-New Smart Watch**\n",
      "\n",
      "Get ready to revolutionize your daily routine with our latest innovation – a cutting-edge smart watch that combines style, functionality, and cutting-edge technology. Designed to keep you connected, active, and on top of your game, our new smart watch is the ultimate accessory for the modern individual on-the-go.\n",
      "\n",
      "**Stay Connected, Stay Ahead**\n",
      "\n",
      "Our smart watch is more than just a time-telling device – it's a comprehensive communication hub that keeps you linked to your loved ones, colleagues, and the world around you. With seamless integration with your smartphone, you'll receive notifications, texts, and calls right on your wrist, ensuring you never miss an important update. Plus, with built-in Wi-Fi and Bluetooth connectivity, you can stream music, podcasts, and audiobooks directly to your watch.\n",
      "\n",
      "**Unlock Your Fitness Potential**\n",
      "\n",
      "Take your fitness journey to new heights with our smart watch's advanced health and wellness features. Track your daily activity, monitor your heart rate, and set personalized goals to reach new milestones. Plus, with built-in GPS, you can map your runs, hikes, and bike rides with precision. Our smart watch also supports a wide range of sports and exercises, so you can customize your workout routine to suit your needs.\n",
      "\n",
      "**Elevate Your Style**\n",
      "\n",
      "Our smart watch is not just a functional device – it's a fashion statement. With a sleek, modern design and interchangeable straps, you can choose from a variety of styles to suit your mood and occasion. Whether you're dressing up for a night out or dressing down for a casual day out, our smart watch is the perfect accessory to complement your look.\n",
      "\n",
      "**Key Features:**\n",
      "\n",
      "* High-resolution touchscreen display\n",
      "* Integrated GPS and heart rate monitoring\n",
      "* Water-resistant up to 50 meters\n",
      "* Compatible with both iOS and Android devices\n",
      "* Long-lasting battery life (up to 5 days on a single charge)\n",
      "* Customizable watch faces and straps\n",
      "\n",
      "**Upgrade Your Lifestyle Today**\n",
      "\n",
      "Don't miss out on this opportunity to experience the future of timekeeping. Get your hands on our brand-new smart watch today and discover a world of endless possibilities. Order now and take the first step towards a more connected, active, and stylish you!\n",
      "\n",
      "**Limited-Time Offer:** Use the code SMART15 at checkout to receive 15% off your purchase. Don't miss out on this amazing opportunity to upgrade your lifestyle!\n"
     ]
    }
   ],
   "source": [
    "article = chain.invoke({'messages': [HumanMessage(content = 'Our company is going to launch a new smart watch, please make a promotion article')]})\n",
    "print(article.content)"
   ]
  },
  {
   "cell_type": "code",
   "execution_count": 18,
   "metadata": {},
   "outputs": [],
   "source": [
    "with_history_message = RunnableWithMessageHistory(chain, get_session_history)"
   ]
  },
  {
   "cell_type": "code",
   "execution_count": 19,
   "metadata": {},
   "outputs": [],
   "source": [
    "config2 = {'configurable': {'session_id': 'chat2'}}"
   ]
  },
  {
   "cell_type": "code",
   "execution_count": 20,
   "metadata": {},
   "outputs": [
    {
     "name": "stdout",
     "output_type": "stream",
     "text": [
      "**Introducing the Future of Timekeeping: [Brand Name] Smart Watch**\n",
      "\n",
      "Get ready to revolutionize the way you keep track of time with our latest innovation - the [Brand Name] Smart Watch. This cutting-edge timepiece is not just a watch, but a personal assistant, a fitness tracker, and a style statement all rolled into one.\n",
      "\n",
      "**Stay Connected, Stay Ahead**\n",
      "\n",
      "With the [Brand Name] Smart Watch, you'll never miss a beat. Receive notifications from your phone, respond to messages, and control your music playlists with just a few taps on the watch face. Plus, with built-in Wi-Fi and Bluetooth connectivity, you can stay connected to the world around you, no matter where you go.\n",
      "\n",
      "**Track Your Fitness, Unlock Your Potential**\n",
      "\n",
      "Take your fitness journey to the next level with our advanced tracking features. Monitor your heart rate, track your daily steps, and set goals for yourself with our intuitive app. Plus, with built-in GPS, you can track your runs, hikes, and bike rides with precision and accuracy.\n",
      "\n",
      "**Design that Turns Heads**\n",
      "\n",
      "The [Brand Name] Smart Watch is not just functional, it's also a stylish accessory that's sure to turn heads. With a sleek and modern design, this watch is perfect for both casual and formal occasions. Plus, with interchangeable straps, you can switch up your look to match your mood and style.\n",
      "\n",
      "**Key Features:**\n",
      "\n",
      "* 1.3-inch AMOLED display with high-resolution graphics\n",
      "* Compatible with Android and iOS devices\n",
      "* Up to 3 days of battery life on a single charge\n",
      "* Water-resistant up to 50 meters\n",
      "* Built-in GPS, heart rate monitor, and accelerometer\n",
      "* Supports mobile payments and music streaming\n",
      "\n",
      "**Upgrade Your Style, Upgrade Your Life**\n",
      "\n",
      "Don't just tell time, experience it. The [Brand Name] Smart Watch is the perfect accessory for anyone looking to upgrade their style and their life. With its cutting-edge features, sleek design, and affordable price point, this watch is a must-have for anyone who wants to stay ahead of the curve.\n",
      "\n",
      "**Order Now and Get Ready to Experience the Future of Timekeeping**\n",
      "\n",
      "Don't miss out on this opportunity to be one of the first to experience the [Brand Name] Smart Watch. Order now and discover a new way to keep time, stay connected, and live life to the fullest.\n",
      "\n",
      "**Special Launch Offer:**\n",
      "\n",
      "* Get 10% off your first purchase with code LAUNCH10\n",
      "* Free shipping on all orders over $100\n",
      "* 1-year warranty and dedicated customer support\n",
      "\n",
      "Order now and experience the future of timekeeping. Visit our website or visit a retailer near you to get your [Brand Name] Smart Watch today!\n"
     ]
    }
   ],
   "source": [
    "article = with_history_message.invoke(\n",
    "    [HumanMessage(content = 'Our company is going to launch a new smart watch, please make a promotion article')], \n",
    "    config = config2)\n",
    "print(article.content)"
   ]
  },
  {
   "cell_type": "code",
   "execution_count": 21,
   "metadata": {},
   "outputs": [
    {
     "name": "stdout",
     "output_type": "stream",
     "text": [
      "**Introducing the Future of Timekeeping: Hawkiyc Smart Watch**\n",
      "\n",
      "Get ready to revolutionize the way you keep track of time with our latest innovation - the Hawkiyc Smart Watch. This cutting-edge timepiece is not just a watch, but a personal assistant, a fitness tracker, and a style statement all rolled into one.\n",
      "\n",
      "**Stay Connected, Stay Ahead**\n",
      "\n",
      "With the Hawkiyc Smart Watch, you'll never miss a beat. Receive notifications from your phone, respond to messages, and control your music playlists with just a few taps on the watch face. Plus, with built-in Wi-Fi and Bluetooth connectivity, you can stay connected to the world around you, no matter where you go.\n",
      "\n",
      "**Track Your Fitness, Unlock Your Potential**\n",
      "\n",
      "Take your fitness journey to the next level with our advanced tracking features. Monitor your heart rate, track your daily steps, and set goals for yourself with our intuitive app. Plus, with built-in GPS, you can track your runs, hikes, and bike rides with precision and accuracy.\n",
      "\n",
      "**Design that Turns Heads**\n",
      "\n",
      "The Hawkiyc Smart Watch is not just functional, it's also a stylish accessory that's sure to turn heads. With a sleek and modern design, this watch is perfect for both casual and formal occasions. Plus, with interchangeable straps, you can switch up your look to match your mood and style.\n",
      "\n",
      "**Key Features:**\n",
      "\n",
      "* 1.3-inch AMOLED display with high-resolution graphics\n",
      "* Compatible with Android and iOS devices\n",
      "* Up to 3 days of battery life on a single charge\n",
      "* Water-resistant up to 50 meters\n",
      "* Built-in GPS, heart rate monitor, and accelerometer\n",
      "* Supports mobile payments and music streaming\n",
      "\n",
      "**Upgrade Your Style, Upgrade Your Life**\n",
      "\n",
      "Don't just tell time, experience it. The Hawkiyc Smart Watch is the perfect accessory for anyone looking to upgrade their style and their life. With its cutting-edge features, sleek design, and affordable price point, this watch is a must-have for anyone who wants to stay ahead of the curve.\n",
      "\n",
      "**Order Now and Get Ready to Experience the Future of Timekeeping**\n",
      "\n",
      "Don't miss out on this opportunity to be one of the first to experience the Hawkiyc Smart Watch. Order now and discover a new way to keep time, stay connected, and live life to the fullest.\n",
      "\n",
      "**Special Launch Offer:**\n",
      "\n",
      "* Get 10% off your first purchase with code HAWKIYC10\n",
      "* Free shipping on all orders over $100\n",
      "* 1-year warranty and dedicated customer support\n",
      "\n",
      "Order now and experience the future of timekeeping. Visit our website or visit a retailer near you to get your Hawkiyc Smart Watch today!\n",
      "\n",
      "**Join the Hawkiyc Community:**\n",
      "\n",
      "Stay up-to-date with the latest news, updates, and promotions by following us on social media:\n",
      "\n",
      "Facebook: @HawkiycOfficial\n",
      "Instagram: @HawkiycSmartWatch\n",
      "Twitter: @HawkiycTweet\n",
      "\n",
      "Share your Hawkiyc Smart Watch experience with us and tag us in your posts!\n"
     ]
    }
   ],
   "source": [
    "article = with_history_message.invoke(\n",
    "    [HumanMessage(content = 'The brand name is hawkiyc. please revise your article')], \n",
    "    config = config2)\n",
    "print(article.content)"
   ]
  },
  {
   "cell_type": "code",
   "execution_count": 22,
   "metadata": {},
   "outputs": [],
   "source": [
    "prompt = ChatPromptTemplate.from_messages(\n",
    "    [('system', \"You are a copywriting assistant in an advertising agency. Please write text or article in {language} according my instruction\"),\n",
    "     MessagesPlaceholder(variable_name = 'messages')])\n",
    "chain = prompt|llm"
   ]
  },
  {
   "cell_type": "code",
   "execution_count": 23,
   "metadata": {},
   "outputs": [],
   "source": [
    "with_history_message = RunnableWithMessageHistory(chain, get_session_history, input_messages_key = 'messages')"
   ]
  },
  {
   "cell_type": "code",
   "execution_count": 24,
   "metadata": {},
   "outputs": [],
   "source": [
    "config3 = {'configurable': {'session_id': 'chat3'}}"
   ]
  },
  {
   "cell_type": "code",
   "execution_count": 25,
   "metadata": {},
   "outputs": [
    {
     "name": "stdout",
     "output_type": "stream",
     "text": [
      "**Get Ready to Rev Up the Fun with Our New 1:32 Scale RC Car!**\n",
      "\n",
      "Are you ready to take your little thrill-seekers on an unforgettable adventure? Look no further! Our brand-new 1:32 scale RC car is here to delight kids of all ages. This miniature marvel is packed with features that will bring hours of excitement and entertainment to your tiny tots.\n",
      "\n",
      "**Designed for Young Drivers**\n",
      "\n",
      "Our 1:32 scale RC car is specifically designed for kids, with a focus on safety and ease of use. The compact size makes it perfect for indoor and outdoor play, while the durable construction ensures it can withstand even the most enthusiastic playtime.\n",
      "\n",
      "**Features:**\n",
      "\n",
      "* Easy-to-use controls for smooth and precise steering\n",
      "* High-speed capabilities for an adrenaline-packed experience\n",
      "* Colorful and vibrant design that's sure to captivate young eyes\n",
      "* Long-lasting battery life for extended playtime\n",
      "\n",
      "**Unleash Your Child's Inner Racing Champion**\n",
      "\n",
      "Our 1:32 scale RC car is the perfect way to encourage your child's sense of adventure and competition. Whether they're racing against friends or setting new lap records, this little car is sure to bring a smile to their face.\n",
      "\n",
      "So why wait? Get ready to rev up the fun and give your child the gift of speed and excitement. Order our new 1:32 scale RC car today and watch them take their playtime to the next level!\n"
     ]
    }
   ],
   "source": [
    "article = with_history_message.invoke(\n",
    "    {'messages':[HumanMessage(content = 'Our customer is going to launch a new rc car(scale in 1:32) for kids, please make a promotion article less than 300 words')], \n",
    "     'language': \"English\"}, config = config3)\n",
    "print(article.content)"
   ]
  },
  {
   "cell_type": "code",
   "execution_count": 26,
   "metadata": {},
   "outputs": [
    {
     "name": "stdout",
     "output_type": "stream",
     "text": [
      "**Prêt à démarrer l'aventure avec notre nouvelle voiture RC 1:48 !**\n",
      "\n",
      "Êtes-vous prêt à offrir à vos petits champions une aventure inoubliable ? Ne cherchez plus ! Notre nouvelle voiture RC à l'échelle 1:48 est arrivée pour émerveiller les enfants de tous âges. Ce petit bolide est conçu pour offrir des heures de plaisir et de divertissement à vos petits.\n",
      "\n",
      "**Conçue pour les jeunes pilotes**\n",
      "\n",
      "Notre voiture RC à l'échelle 1:48 est spécifiquement conçue pour les enfants, avec une attention particulière portée à la sécurité et à la facilité d'utilisation. La taille compacte la rend parfaite pour les jeux en intérieur et en extérieur, tandis que la construction robuste assure qu'elle peut résister aux jeux les plus enthousiastes.\n",
      "\n",
      "**Caractéristiques :**\n",
      "\n",
      "* Commande facile à utiliser pour une conduite précise et fluide\n",
      "* Capacités de vitesse élevée pour une expérience à haute dose d'adrénaline\n",
      "* Design coloré et vibrant qui captivera les yeux des petits\n",
      "* Longue durée de vie de la batterie pour des séances de jeu prolongées\n",
      "\n",
      "**Libérez le champion de course en herbe de votre enfant**\n",
      "\n",
      "Notre voiture RC à l'échelle 1:48 est l'outil idéal pour encourager le sens de l'aventure et de la compétition de votre enfant. Que ce soit pour courir contre des amis ou établir de nouveaux records, cette petite voiture est sûre de mettre un sourire sur son visage.\n",
      "\n",
      "Alors, qu'attendez-vous ? Préparez-vous à démarrer l'aventure et offrez à votre enfant le cadeau de la vitesse et de l'excitation. Commandez notre nouvelle voiture RC à l'échelle 1:48 dès aujourd'hui et regardez-le prendre son temps de jeu à un niveau supérieur !\n"
     ]
    }
   ],
   "source": [
    "article = with_history_message.invoke(\n",
    "    {'messages':[HumanMessage(content = 'I am sorry, the ratio is incorrect. The product is in 1:48. Please revise your article and translate it')], \n",
    "     'language': \"French\"}, config = config3)\n",
    "print(article.content)"
   ]
  },
  {
   "cell_type": "code",
   "execution_count": 27,
   "metadata": {},
   "outputs": [
    {
     "name": "stdout",
     "output_type": "stream",
     "text": [
      "**新鲜上市！海鲜风味即食面**\n",
      "\n",
      "酷爱海鲜的你，准备好舌尖上的海鲜盛宴了吗？我们隆重推出全新的海鲜风味即食面，带你体验浓郁海鲜风味，仿佛置身海滩的美好时光。\n",
      "\n",
      "**海鲜风味即食面，新鲜出炉！**\n",
      "\n",
      "* 丰富的海鲜风味，让你在每一口中品尝到海鲜的鲜甜\n",
      "* 鲜嫩的面条，咬感十足，口感绵长\n",
      "* 简单易做，不论在家中还是办公室，都能快速享受到海鲜美味\n",
      "\n",
      "**尝鲜从现在开始！**\n",
      "\n",
      "赶紧试试我们的海鲜风味即食面吧！让每一口都成为舌尖上的海鲜盛宴！\n"
     ]
    }
   ],
   "source": [
    "article = with_history_message.invoke(\n",
    "    {'messages':[HumanMessage(content = 'We have a job from our new customer. There are new seafood flavor instant noodle is going to launch. Please write a short text to promote it')], \n",
    "     'language': \"Chinese\"}, config = config3)\n",
    "print(article.content)"
   ]
  },
  {
   "cell_type": "markdown",
   "metadata": {},
   "source": [
    "## Manage Conversation History"
   ]
  },
  {
   "cell_type": "code",
   "execution_count": 28,
   "metadata": {},
   "outputs": [],
   "source": [
    "trimmer = trim_messages(max_tokens = 768, strategy = 'last', token_counter = llm, include_system = True, allow_partial = True, start_on = 'human')"
   ]
  },
  {
   "cell_type": "code",
   "execution_count": 29,
   "metadata": {},
   "outputs": [
    {
     "data": {
      "text/plain": [
       "[SystemMessage(content='You are a copywriting assistant in an advertising agency. Please write text or article according my instruction'),\n",
       " HumanMessage(content='Our customer is going to launch a new rc car(scale in 1:32) for kids, please make a promotion article less than 300 words'),\n",
       " AIMessage(content=\"**Get Ready to Rev Up the Fun with Our New 1:32 Scale RC Car!**\\n\\nAre you ready to take your little thrill-seekers on an unforgettable adventure? Look no further! Our brand-new 1:32 scale RC car is here to delight kids of all ages. This miniature marvel is packed with features that will bring hours of excitement and entertainment to your tiny tots.\\n\\n**Designed for Young Drivers**\\n\\nOur 1:32 scale RC car is specifically designed for kids, with a focus on safety and ease of use. The compact size makes it perfect for indoor and outdoor play, while the durable construction ensures it can withstand even the most enthusiastic playtime.\\n\\n**Features:**\\n\\n* Easy-to-use controls for smooth and precise steering\\n* High-speed capabilities for an adrenaline-packed experience\\n* Colorful and vibrant design that's sure to captivate young eyes\\n* Long-lasting battery life for extended playtime\\n\\n**Unleash Your Child's Inner Racing Champion**\\n\\nOur 1:32 scale RC car is the perfect way to encourage your child's sense of adventure and competition. Whether they're racing against friends or setting new lap records, this little car is sure to bring a smile to their face.\\n\\nSo why wait? Get ready to rev up the fun and give your child the gift of speed and excitement. Order our new 1:32 scale RC car today and watch them take their playtime to the next level!\", response_metadata={'token_usage': {'completion_tokens': 292, 'prompt_tokens': 86, 'total_tokens': 378, 'completion_time': 1.168, 'prompt_time': 0.015499501, 'queue_time': 0.0033559759999999984, 'total_time': 1.183499501}, 'model_name': 'llama-3.2-90b-text-preview', 'system_fingerprint': 'fp_b6828be2c9', 'finish_reason': 'stop', 'logprobs': None}, id='run-5e40590c-6b31-4635-9b3f-e4544e035ac3-0', usage_metadata={'input_tokens': 86, 'output_tokens': 292, 'total_tokens': 378}),\n",
       " HumanMessage(content='I am sorry, the ratio is incorrect. The product is in 1:48. Please revise your article and translate it'),\n",
       " AIMessage(content=\"**Prêt à démarrer l'aventure avec notre nouvelle voiture RC 1:48 !**\\n\\nÊtes-vous prêt à offrir à vos petits champions une aventure inoubliable ? Ne cherchez plus ! Notre nouvelle voiture RC à l'échelle 1:48 est arrivée pour émerveiller les enfants de tous âges. Ce petit bolide est conçu pour offrir des heures de plaisir et de divertissement à vos petits.\\n\\n**Conçue pour les jeunes pilotes**\\n\\nNotre voiture RC à l'échelle 1:48 est spécifiquement conçue pour les enfants, avec une attention particulière portée à la sécurité et à la facilité d'utilisation. La taille compacte la rend parfaite pour les jeux en intérieur et en extérieur, tandis que la construction robuste assure qu'elle peut résister aux jeux les plus enthousiastes.\\n\\n**Caractéristiques :**\\n\\n* Commande facile à utiliser pour une conduite précise et fluide\\n* Capacités de vitesse élevée pour une expérience à haute dose d'adrénaline\\n* Design coloré et vibrant qui captivera les yeux des petits\\n* Longue durée de vie de la batterie pour des séances de jeu prolongées\\n\\n**Libérez le champion de course en herbe de votre enfant**\\n\\nNotre voiture RC à l'échelle 1:48 est l'outil idéal pour encourager le sens de l'aventure et de la compétition de votre enfant. Que ce soit pour courir contre des amis ou établir de nouveaux records, cette petite voiture est sûre de mettre un sourire sur son visage.\\n\\nAlors, qu'attendez-vous ? Préparez-vous à démarrer l'aventure et offrez à votre enfant le cadeau de la vitesse et de l'excitation. Commandez notre nouvelle voiture RC à l'échelle 1:48 dès aujourd'hui et regardez-le prendre son temps de jeu à un niveau supérieur !\", response_metadata={'token_usage': {'completion_tokens': 438, 'prompt_tokens': 412, 'total_tokens': 850, 'completion_time': 1.752, 'prompt_time': 0.076021037, 'queue_time': 0.003493210999999996, 'total_time': 1.828021037}, 'model_name': 'llama-3.2-90b-text-preview', 'system_fingerprint': 'fp_5c5d1b5cfb', 'finish_reason': 'stop', 'logprobs': None}, id='run-f0fb6228-3b07-4248-b50c-bc6fb5c42338-0', usage_metadata={'input_tokens': 412, 'output_tokens': 438, 'total_tokens': 850}),\n",
       " HumanMessage(content='We have a job from our new customer. There are new seafood flavor instant noodle is going to launch. Please write a short text to promote it'),\n",
       " AIMessage(content='**新鲜上市！海鲜风味即食面**\\n\\n酷爱海鲜的你，准备好舌尖上的海鲜盛宴了吗？我们隆重推出全新的海鲜风味即食面，带你体验浓郁海鲜风味，仿佛置身海滩的美好时光。\\n\\n**海鲜风味即食面，新鲜出炉！**\\n\\n* 丰富的海鲜风味，让你在每一口中品尝到海鲜的鲜甜\\n* 鲜嫩的面条，咬感十足，口感绵长\\n* 简单易做，不论在家中还是办公室，都能快速享受到海鲜美味\\n\\n**尝鲜从现在开始！**\\n\\n赶紧试试我们的海鲜风味即食面吧！让每一口都成为舌尖上的海鲜盛宴！', response_metadata={'token_usage': {'completion_tokens': 202, 'prompt_tokens': 889, 'total_tokens': 1091, 'completion_time': 0.808, 'prompt_time': 0.17250774, 'queue_time': 0.003572758000000009, 'total_time': 0.98050774}, 'model_name': 'llama-3.2-90b-text-preview', 'system_fingerprint': 'fp_9260b4bb2e', 'finish_reason': 'stop', 'logprobs': None}, id='run-817fa23d-38cf-4d96-9b57-3c959d8d526c-0', usage_metadata={'input_tokens': 889, 'output_tokens': 202, 'total_tokens': 1091})]"
      ]
     },
     "execution_count": 29,
     "metadata": {},
     "output_type": "execute_result"
    }
   ],
   "source": [
    "message = [SystemMessage(content = 'You are a copywriting assistant in an advertising agency. Please write text or article according my instruction')] + store['chat3'].messages\n",
    "message"
   ]
  },
  {
   "cell_type": "code",
   "execution_count": 30,
   "metadata": {},
   "outputs": [
    {
     "data": {
      "text/plain": [
       "[SystemMessage(content='You are a copywriting assistant in an advertising agency. Please write text or article according my instruction'),\n",
       " HumanMessage(content='We have a job from our new customer. There are new seafood flavor instant noodle is going to launch. Please write a short text to promote it'),\n",
       " AIMessage(content='**新鲜上市！海鲜风味即食面**\\n\\n酷爱海鲜的你，准备好舌尖上的海鲜盛宴了吗？我们隆重推出全新的海鲜风味即食面，带你体验浓郁海鲜风味，仿佛置身海滩的美好时光。\\n\\n**海鲜风味即食面，新鲜出炉！**\\n\\n* 丰富的海鲜风味，让你在每一口中品尝到海鲜的鲜甜\\n* 鲜嫩的面条，咬感十足，口感绵长\\n* 简单易做，不论在家中还是办公室，都能快速享受到海鲜美味\\n\\n**尝鲜从现在开始！**\\n\\n赶紧试试我们的海鲜风味即食面吧！让每一口都成为舌尖上的海鲜盛宴！', response_metadata={'token_usage': {'completion_tokens': 202, 'prompt_tokens': 889, 'total_tokens': 1091, 'completion_time': 0.808, 'prompt_time': 0.17250774, 'queue_time': 0.003572758000000009, 'total_time': 0.98050774}, 'model_name': 'llama-3.2-90b-text-preview', 'system_fingerprint': 'fp_9260b4bb2e', 'finish_reason': 'stop', 'logprobs': None}, id='run-817fa23d-38cf-4d96-9b57-3c959d8d526c-0', usage_metadata={'input_tokens': 889, 'output_tokens': 202, 'total_tokens': 1091})]"
      ]
     },
     "execution_count": 30,
     "metadata": {},
     "output_type": "execute_result"
    }
   ],
   "source": [
    "trimmer.invoke(message)"
   ]
  },
  {
   "cell_type": "code",
   "execution_count": 31,
   "metadata": {},
   "outputs": [],
   "source": [
    "chain = RunnablePassthrough.assign(messages = itemgetter('messages')|trimmer) | prompt | llm"
   ]
  },
  {
   "cell_type": "code",
   "execution_count": 32,
   "metadata": {},
   "outputs": [
    {
     "name": "stdout",
     "output_type": "stream",
     "text": [
      "**新鲜上市！牛肉风味即食面**\n",
      "\n",
      "酷爱牛肉的你，准备好舌尖上的美味盛宴了吗？我们隆重推出全新的牛肉风味即食面，带你体验浓郁的牛肉风味，仿佛置身热闹的牛肉火锅店。\n",
      "\n",
      "**牛肉风味即食面，新鲜出炉！**\n",
      "\n",
      "* 丰富的牛肉风味，让你在每一口中品尝到浓郁的牛肉味道\n",
      "* 鲜嫩的面条，咬感十足，口感绵长\n",
      "* 简单易做，不论在家中还是办公室，都能快速享受到牛肉美味\n",
      "\n",
      "**尝鲜从现在开始！**\n",
      "\n",
      "赶紧试试我们的牛肉风味即食面吧！让每一口都成为舌尖上的美味盛宴！\n"
     ]
    }
   ],
   "source": [
    "ans = chain.invoke({'messages': message + [HumanMessage(content = 'Sorry, there is a mistake. The flavor of instant noodle is beef. Please revise your text')],\n",
    "                    'language': 'Chinese'})\n",
    "print(ans.content)"
   ]
  },
  {
   "cell_type": "code",
   "execution_count": 33,
   "metadata": {},
   "outputs": [
    {
     "name": "stdout",
     "output_type": "stream",
     "text": [
      "I think there is a mistake. The promotion article is for new seafood flavor instant noodle, not toy. \n",
      "\n",
      "However, I can add a warning on the promotion article. Here is the updated text:\n",
      "\n",
      " **新鲜上市！海鲜风味即食面**\n",
      "\n",
      "酷爱海鲜的你，准备好舌尖上的海鲜盛宴了吗？我们隆重推出全新的海鲜风味即食面，带你体验浓郁海鲜风味，仿佛置身海滩的美好时光。\n",
      "\n",
      "**海鲜风味即食面，新鲜出炉！**\n",
      "\n",
      "* 丰富的海鲜风味，让你在每一口中品尝到海鲜的鲜甜\n",
      "* 鲜嫩的面条，咬感十足，口感绵长\n",
      "* 简单易做，不论在家中还是办公室，都能快速享受到海鲜美味\n",
      "\n",
      "**重要提示：**\n",
      " 本产品不适合3岁以下儿童食用，敬请家长留意。\n",
      "\n",
      "**尝鲜从现在开始！**\n",
      "\n",
      "赶紧试试我们的海鲜风味即食面吧！让每一口都成为舌尖上的海鲜盛宴！\n"
     ]
    }
   ],
   "source": [
    "ans = chain.invoke({'messages': message + [HumanMessage(content = 'Please add warning on the promotion article of toy that it is not suitable for kid younger than 3 years old')],\n",
    "                    'language': 'English'})\n",
    "print(ans.content)"
   ]
  }
 ],
 "metadata": {
  "kernelspec": {
   "display_name": "env_llm",
   "language": "python",
   "name": "python3"
  },
  "language_info": {
   "codemirror_mode": {
    "name": "ipython",
    "version": 3
   },
   "file_extension": ".py",
   "mimetype": "text/x-python",
   "name": "python",
   "nbconvert_exporter": "python",
   "pygments_lexer": "ipython3",
   "version": "3.8.19"
  }
 },
 "nbformat": 4,
 "nbformat_minor": 2
}
