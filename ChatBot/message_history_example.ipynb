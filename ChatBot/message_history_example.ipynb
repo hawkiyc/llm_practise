{
 "cells": [
  {
   "cell_type": "markdown",
   "metadata": {},
   "source": [
    "## Import Libraries"
   ]
  },
  {
   "cell_type": "code",
   "execution_count": 1,
   "metadata": {},
   "outputs": [],
   "source": [
    "import os\n",
    "from dotenv import load_dotenv\n",
    "from langchain_groq import ChatGroq\n",
    "from langchain_core.messages import HumanMessage, AIMessage, SystemMessage, trim_messages\n",
    "from langchain_community.chat_message_histories import ChatMessageHistory\n",
    "from langchain_core.chat_history import BaseChatMessageHistory\n",
    "from langchain_core.runnables import RunnablePassthrough\n",
    "from langchain_core.runnables.history import RunnableWithMessageHistory\n",
    "from langchain_core.prompts import ChatPromptTemplate, MessagesPlaceholder\n",
    "from operator import itemgetter\n",
    "\n",
    "load_dotenv()\n",
    "groq_api_key = os.getenv(\"GROQ_API_KEY\")"
   ]
  },
  {
   "cell_type": "markdown",
   "metadata": {},
   "source": [
    "## Load LLM"
   ]
  },
  {
   "cell_type": "code",
   "execution_count": 2,
   "metadata": {},
   "outputs": [],
   "source": [
    "llm = ChatGroq(model=\"llama-3.2-90b-text-preview\", api_key = groq_api_key,)"
   ]
  },
  {
   "cell_type": "code",
   "execution_count": 3,
   "metadata": {},
   "outputs": [
    {
     "name": "stdout",
     "output_type": "stream",
     "text": [
      "**Decorator Pattern and the `wrap` Function in Python**\n",
      "=====================================================\n",
      "\n",
      "In Python, the `wrap` function is a part of the `functools` module, which implements the decorator pattern. A decorator is a design pattern that allows you to modify or extend the behavior of a function without changing its implementation.\n",
      "\n",
      "**What is the `wrap` function?**\n",
      "-----------------------------\n",
      "\n",
      "The `wrap` function is a higher-order function that takes another function as an argument and returns a new function that \"wraps\" the original function. This wrapping function is then used to modify or extend the behavior of the original function.\n",
      "\n",
      "**How does `wrap` work?**\n",
      "-------------------------\n",
      "\n",
      "When you use the `@wraps` decorator from the `functools` module, you're creating a wrapper function that preserves the metadata (name, docstring, etc.) of the original function. Here's an example:\n",
      "\n",
      "```python\n",
      "from functools import wraps\n",
      "\n",
      "def my_decorator(func):\n",
      "    @wraps(func)\n",
      "    def wrapper(*args, **kwargs):\n",
      "        # Do something before calling the original function\n",
      "        print(\"Before calling the function\")\n",
      "        result = func(*args, **kwargs)\n",
      "        # Do something after calling the original function\n",
      "        print(\"After calling the function\")\n",
      "        return result\n",
      "    return wrapper\n",
      "\n",
      "@my_decorator\n",
      "def add(a, b):\n",
      "    \"\"\"Add two numbers\"\"\"\n",
      "    return a + b\n",
      "\n",
      "result = add(2, 3)\n",
      "print(result)  # Output: 5\n",
      "```\n",
      "\n",
      "In this example, the `my_decorator` function takes the `add` function as an argument and returns a new function (`wrapper`) that wraps the `add` function. The `@wraps` decorator is used to preserve the metadata (name, docstring, etc.) of the `add` function.\n",
      "\n",
      "When you call the `add` function, you're actually calling the `wrapper` function, which then calls the original `add` function.\n",
      "\n",
      "**Benefits of using `wrap`**\n",
      "---------------------------\n",
      "\n",
      "Using the `wrap` function provides several benefits:\n",
      "\n",
      "*   Preserves metadata: The `@wraps` decorator preserves the metadata (name, docstring, etc.) of the original function, making it easier to debug and understand the code.\n",
      "*   Simplifies debugging: By preserving metadata, you can easily identify the original function and its arguments, making it easier to debug issues.\n",
      "*   Improves code readability: Using the `wrap` function makes it clear that a function is being modified or extended, improving code readability.\n",
      "\n",
      "**Conclusion**\n",
      "----------\n",
      "\n",
      "In conclusion, the `wrap` function is a powerful tool in Python that allows you to modify or extend the behavior of a function without changing its implementation. By using the `@wraps` decorator from the `functools` module, you can preserve metadata and simplify debugging, making your code more maintainable and efficient.\n"
     ]
    }
   ],
   "source": [
    "ans = llm.invoke([HumanMessage(content = \"Tell me about wrap function in python, how it works\")])\n",
    "print(ans.content)"
   ]
  },
  {
   "cell_type": "code",
   "execution_count": 4,
   "metadata": {},
   "outputs": [
    {
     "name": "stdout",
     "output_type": "stream",
     "text": [
      "**Do decorators require the `wrap` function?**\n",
      "------------------------------------------\n",
      "\n",
      "No, decorators do not necessarily require the `wrap` function. However, using `wrap` is highly recommended when creating decorators.\n",
      "\n",
      "**Why use `wrap`?**\n",
      "------------------\n",
      "\n",
      "The `wrap` function, specifically the `@wraps` decorator from the `functools` module, serves several purposes:\n",
      "\n",
      "1.  **Preserves metadata**: The `@wraps` decorator preserves the metadata (name, docstring, etc.) of the original function. This is crucial for debugging and understanding the code.\n",
      "2.  **Prevents metadata loss**: Without `@wraps`, the metadata of the original function is lost, making it difficult to identify the function and its arguments.\n",
      "3.  **Simplifies debugging**: By preserving metadata, you can easily identify the original function and its arguments, making it easier to debug issues.\n",
      "\n",
      "**Example without `wrap`**\n",
      "-------------------------\n",
      "\n",
      "Here's an example of a decorator without `wrap`:\n",
      "\n",
      "```python\n",
      "def my_decorator(func):\n",
      "    def wrapper(*args, **kwargs):\n",
      "        # Do something before calling the original function\n",
      "        print(\"Before calling the function\")\n",
      "        result = func(*args, **kwargs)\n",
      "        # Do something after calling the original function\n",
      "        print(\"After calling the function\")\n",
      "        return result\n",
      "    return wrapper\n",
      "\n",
      "@my_decorator\n",
      "def add(a, b):\n",
      "    \"\"\"Add two numbers\"\"\"\n",
      "    return a + b\n",
      "\n",
      "print(add.__name__)  # Output: wrapper (not add)\n",
      "print(add.__doc__)  # Output: None (not \"Add two numbers\")\n",
      "```\n",
      "\n",
      "In this example, the metadata (name and docstring) of the `add` function is lost, making it difficult to identify the function and its arguments.\n",
      "\n",
      "**Example with `wrap`**\n",
      "----------------------\n",
      "\n",
      "Here's the same example with `wrap`:\n",
      "\n",
      "```python\n",
      "from functools import wraps\n",
      "\n",
      "def my_decorator(func):\n",
      "    @wraps(func)\n",
      "    def wrapper(*args, **kwargs):\n",
      "        # Do something before calling the original function\n",
      "        print(\"Before calling the function\")\n",
      "        result = func(*args, **kwargs)\n",
      "        # Do something after calling the original function\n",
      "        print(\"After calling the function\")\n",
      "        return result\n",
      "    return wrapper\n",
      "\n",
      "@my_decorator\n",
      "def add(a, b):\n",
      "    \"\"\"Add two numbers\"\"\"\n",
      "    return a + b\n",
      "\n",
      "print(add.__name__)  # Output: add\n",
      "print(add.__doc__)  # Output: \"Add two numbers\"\n",
      "```\n",
      "\n",
      "In this example, the metadata (name and docstring) of the `add` function is preserved, making it easier to identify the function and its arguments.\n",
      "\n",
      "**Conclusion**\n",
      "----------\n",
      "\n",
      "In conclusion, while decorators do not require the `wrap` function, using `wrap` is highly recommended to preserve metadata and simplify debugging. It's a good practice to use `@wraps` when creating decorators to ensure that metadata is preserved.\n"
     ]
    }
   ],
   "source": [
    "ans1 = llm.invoke(\n",
    "    [HumanMessage(content = 'Tell me about wrap function in python, how it works'),\n",
    "     AIMessage(content = ans.content),\n",
    "     HumanMessage(content = \"So, a decorator must have wrap function?\")])\n",
    "print(ans1.content)"
   ]
  },
  {
   "cell_type": "markdown",
   "metadata": {},
   "source": [
    "## Message History"
   ]
  },
  {
   "cell_type": "code",
   "execution_count": 5,
   "metadata": {},
   "outputs": [],
   "source": [
    "store = {}\n",
    "\n",
    "def get_session_history(session_id: str) -> BaseChatMessageHistory:\n",
    "    if session_id not in store:\n",
    "        store[session_id] = ChatMessageHistory()\n",
    "    return store[session_id]"
   ]
  },
  {
   "cell_type": "code",
   "execution_count": 6,
   "metadata": {},
   "outputs": [
    {
     "data": {
      "text/plain": [
       "RunnableWithMessageHistory(bound=RunnableBinding(bound=RunnableBinding(bound=RunnableLambda(_enter_history), config={'run_name': 'load_history'})\n",
       "| RunnableBinding(bound=RunnableLambda(_call_runnable_sync), config={'run_name': 'check_sync_or_async'}), config={'run_name': 'RunnableWithMessageHistory'}), get_session_history=<function get_session_history at 0x704d6dee61f0>, history_factory_config=[ConfigurableFieldSpec(id='session_id', annotation=<class 'str'>, name='Session ID', description='Unique identifier for a session.', default='', is_shared=True, dependencies=None)])"
      ]
     },
     "execution_count": 6,
     "metadata": {},
     "output_type": "execute_result"
    }
   ],
   "source": [
    "with_history_message = RunnableWithMessageHistory(llm, get_session_history)\n",
    "with_history_message"
   ]
  },
  {
   "cell_type": "code",
   "execution_count": 7,
   "metadata": {},
   "outputs": [
    {
     "data": {
      "text/plain": [
       "{}"
      ]
     },
     "execution_count": 7,
     "metadata": {},
     "output_type": "execute_result"
    }
   ],
   "source": [
    "store"
   ]
  },
  {
   "cell_type": "code",
   "execution_count": 8,
   "metadata": {},
   "outputs": [],
   "source": [
    "config0 = {'configurable' : {'session_id' : 'chat0'}}"
   ]
  },
  {
   "cell_type": "code",
   "execution_count": 9,
   "metadata": {},
   "outputs": [
    {
     "name": "stdout",
     "output_type": "stream",
     "text": [
      "Here's a template for a self-introduction that you can use in a data scientist interview:\n",
      "\n",
      "\"Hello, thank you for having me here today. My name is [Your Name], and I'm excited to be interviewing for the Data Scientist position. With [Number of Years] years of experience in data analysis and machine learning, I've developed a strong passion for using data to drive business insights and inform strategic decisions.\n",
      "\n",
      "\"My background is in [Relevant Field or Discipline], where I earned a [Degree] in [Major]. Throughout my career, I've had the opportunity to work on various projects that have allowed me to hone my skills in data wrangling, modeling, and visualization. Some of my key strengths include [Key Skills or Technologies, e.g., Python, R, SQL, TensorFlow, etc.].\n",
      "\n",
      "\"In my previous role at [Previous Company], I worked on [Notable Project or Achievement], where I was able to [Desirable Skill or Accomplishment]. This experience has given me a unique perspective on the importance of data-driven decision-making and the potential for data science to drive business growth.\n",
      "\n",
      "\"I'm particularly drawn to this role at [Company Name] because of the opportunity to [Reason for Interest in Company or Role]. I'm excited about the prospect of working with a talented team to drive business outcomes and contribute to the company's success.\n",
      "\n",
      "\"I'm confident that my technical skills, combined with my passion for data science and my experience working with cross-functional teams, make me a strong fit for this role. I'm looking forward to learning more about the position and discussing how I can contribute to the company's goals.\"\n",
      "\n",
      "Here are some tips to keep in mind:\n",
      "\n",
      "* Keep your introduction concise and focused (about 1-2 minutes long)\n",
      "* Tailor your introduction to the specific job and company\n",
      "* Highlight your relevant skills and experiences\n",
      "* Show enthusiasm and interest in the role and company\n",
      "* Practice your introduction so that it feels natural and confident\n",
      "\n",
      "Good luck with your interview!\n"
     ]
    }
   ],
   "source": [
    "response = with_history_message.invoke(\n",
    "    [HumanMessage(content = 'Hi, I have a interview for data scientist tonight, please give me a template of self-introduction')],\n",
    "    config = config0)\n",
    "print(response.content)"
   ]
  },
  {
   "cell_type": "code",
   "execution_count": 10,
   "metadata": {},
   "outputs": [
    {
     "data": {
      "text/plain": [
       "{'chat0': InMemoryChatMessageHistory(messages=[HumanMessage(content='Hi, I have a interview for data scientist tonight, please give me a template of self-introduction'), AIMessage(content='Here\\'s a template for a self-introduction that you can use in a data scientist interview:\\n\\n\"Hello, thank you for having me here today. My name is [Your Name], and I\\'m excited to be interviewing for the Data Scientist position. With [Number of Years] years of experience in data analysis and machine learning, I\\'ve developed a strong passion for using data to drive business insights and inform strategic decisions.\\n\\n\"My background is in [Relevant Field or Discipline], where I earned a [Degree] in [Major]. Throughout my career, I\\'ve had the opportunity to work on various projects that have allowed me to hone my skills in data wrangling, modeling, and visualization. Some of my key strengths include [Key Skills or Technologies, e.g., Python, R, SQL, TensorFlow, etc.].\\n\\n\"In my previous role at [Previous Company], I worked on [Notable Project or Achievement], where I was able to [Desirable Skill or Accomplishment]. This experience has given me a unique perspective on the importance of data-driven decision-making and the potential for data science to drive business growth.\\n\\n\"I\\'m particularly drawn to this role at [Company Name] because of the opportunity to [Reason for Interest in Company or Role]. I\\'m excited about the prospect of working with a talented team to drive business outcomes and contribute to the company\\'s success.\\n\\n\"I\\'m confident that my technical skills, combined with my passion for data science and my experience working with cross-functional teams, make me a strong fit for this role. I\\'m looking forward to learning more about the position and discussing how I can contribute to the company\\'s goals.\"\\n\\nHere are some tips to keep in mind:\\n\\n* Keep your introduction concise and focused (about 1-2 minutes long)\\n* Tailor your introduction to the specific job and company\\n* Highlight your relevant skills and experiences\\n* Show enthusiasm and interest in the role and company\\n* Practice your introduction so that it feels natural and confident\\n\\nGood luck with your interview!', response_metadata={'token_usage': {'completion_tokens': 404, 'prompt_tokens': 55, 'total_tokens': 459, 'completion_time': 1.616, 'prompt_time': 0.010168636, 'queue_time': 0.004088062999999999, 'total_time': 1.626168636}, 'model_name': 'llama-3.2-90b-text-preview', 'system_fingerprint': 'fp_5c5d1b5cfb', 'finish_reason': 'stop', 'logprobs': None}, id='run-e14aa96e-7b52-4c64-9844-e9e3020d4af8-0', usage_metadata={'input_tokens': 55, 'output_tokens': 404, 'total_tokens': 459})])}"
      ]
     },
     "execution_count": 10,
     "metadata": {},
     "output_type": "execute_result"
    }
   ],
   "source": [
    "store"
   ]
  },
  {
   "cell_type": "code",
   "execution_count": 11,
   "metadata": {},
   "outputs": [
    {
     "name": "stdout",
     "output_type": "stream",
     "text": [
      "Here's a revised template for a self-introduction:\n",
      "\n",
      "\"Hello, thank you for having me here today. My name is Gavin Jang, and I'm excited to be interviewing for the Data Scientist position. With over 10 years of experience in data science, I've developed a strong expertise in using data to drive business insights and inform strategic decisions.\n",
      "\n",
      "\"My background is in [Relevant Field or Discipline], where I earned a [Degree] in [Major]. Throughout my career, I've had the opportunity to work on various projects that have allowed me to hone my skills in data wrangling, modeling, and visualization. Some of my key strengths include [Key Skills or Technologies, e.g., Python, R, SQL, TensorFlow, etc.].\n",
      "\n",
      "\"In my previous roles, I've worked on a range of projects that have allowed me to apply my data science skills to drive business outcomes. Some of my notable achievements include [Notable Project or Achievement], where I was able to [Desirable Skill or Accomplishment]. This experience has given me a unique perspective on the importance of data-driven decision-making and the potential for data science to drive business growth.\n",
      "\n",
      "\"I'm particularly drawn to this role at [Company Name] because of the opportunity to [Reason for Interest in Company or Role]. I'm excited about the prospect of working with a talented team to drive business outcomes and contribute to the company's success.\n",
      "\n",
      "\"With my technical expertise, combined with my experience working with cross-functional teams and driving business results, I'm confident that I would be a strong fit for this role. I'm looking forward to learning more about the position and discussing how I can contribute to the company's goals.\"\n",
      "\n",
      "Some possible ways to fill in the blank fields:\n",
      "\n",
      "* Relevant Field or Discipline: Computer Science, Statistics, Mathematics, etc.\n",
      "* Degree: Bachelor's, Master's, Ph.D., etc.\n",
      "* Major: Data Science, Computer Science, Statistics, etc.\n",
      "* Key Skills or Technologies: Python, R, SQL, TensorFlow, Machine Learning, Deep Learning, etc.\n",
      "* Notable Project or Achievement: A specific project or achievement that you're proud of, e.g., \"Developed a predictive model that increased sales by 20% for a major retail client\"\n",
      "* Reason for Interest in Company or Role: A specific reason why you're interested in the company or role, e.g., \"I'm excited about the opportunity to work on cutting-edge data science projects that can drive business growth and innovation\"\n",
      "\n",
      "Remember to customize the template to fit your own experiences and interests, and to practice your introduction so that it feels natural and confident. Good luck with your interview!\n"
     ]
    }
   ],
   "source": [
    "response = with_history_message.invoke(\n",
    "    [HumanMessage(content = 'My name is Gavin Jang, I have 10 years experience in data science. Please revise your template')],\n",
    "    config = config0)\n",
    "print(response.content)"
   ]
  },
  {
   "cell_type": "code",
   "execution_count": 12,
   "metadata": {},
   "outputs": [
    {
     "data": {
      "text/plain": [
       "{'chat0': InMemoryChatMessageHistory(messages=[HumanMessage(content='Hi, I have a interview for data scientist tonight, please give me a template of self-introduction'), AIMessage(content='Here\\'s a template for a self-introduction that you can use in a data scientist interview:\\n\\n\"Hello, thank you for having me here today. My name is [Your Name], and I\\'m excited to be interviewing for the Data Scientist position. With [Number of Years] years of experience in data analysis and machine learning, I\\'ve developed a strong passion for using data to drive business insights and inform strategic decisions.\\n\\n\"My background is in [Relevant Field or Discipline], where I earned a [Degree] in [Major]. Throughout my career, I\\'ve had the opportunity to work on various projects that have allowed me to hone my skills in data wrangling, modeling, and visualization. Some of my key strengths include [Key Skills or Technologies, e.g., Python, R, SQL, TensorFlow, etc.].\\n\\n\"In my previous role at [Previous Company], I worked on [Notable Project or Achievement], where I was able to [Desirable Skill or Accomplishment]. This experience has given me a unique perspective on the importance of data-driven decision-making and the potential for data science to drive business growth.\\n\\n\"I\\'m particularly drawn to this role at [Company Name] because of the opportunity to [Reason for Interest in Company or Role]. I\\'m excited about the prospect of working with a talented team to drive business outcomes and contribute to the company\\'s success.\\n\\n\"I\\'m confident that my technical skills, combined with my passion for data science and my experience working with cross-functional teams, make me a strong fit for this role. I\\'m looking forward to learning more about the position and discussing how I can contribute to the company\\'s goals.\"\\n\\nHere are some tips to keep in mind:\\n\\n* Keep your introduction concise and focused (about 1-2 minutes long)\\n* Tailor your introduction to the specific job and company\\n* Highlight your relevant skills and experiences\\n* Show enthusiasm and interest in the role and company\\n* Practice your introduction so that it feels natural and confident\\n\\nGood luck with your interview!', response_metadata={'token_usage': {'completion_tokens': 404, 'prompt_tokens': 55, 'total_tokens': 459, 'completion_time': 1.616, 'prompt_time': 0.010168636, 'queue_time': 0.004088062999999999, 'total_time': 1.626168636}, 'model_name': 'llama-3.2-90b-text-preview', 'system_fingerprint': 'fp_5c5d1b5cfb', 'finish_reason': 'stop', 'logprobs': None}, id='run-e14aa96e-7b52-4c64-9844-e9e3020d4af8-0', usage_metadata={'input_tokens': 55, 'output_tokens': 404, 'total_tokens': 459}), HumanMessage(content='My name is Gavin Jang, I have 10 years experience in data science. Please revise your template'), AIMessage(content='Here\\'s a revised template for a self-introduction:\\n\\n\"Hello, thank you for having me here today. My name is Gavin Jang, and I\\'m excited to be interviewing for the Data Scientist position. With over 10 years of experience in data science, I\\'ve developed a strong expertise in using data to drive business insights and inform strategic decisions.\\n\\n\"My background is in [Relevant Field or Discipline], where I earned a [Degree] in [Major]. Throughout my career, I\\'ve had the opportunity to work on various projects that have allowed me to hone my skills in data wrangling, modeling, and visualization. Some of my key strengths include [Key Skills or Technologies, e.g., Python, R, SQL, TensorFlow, etc.].\\n\\n\"In my previous roles, I\\'ve worked on a range of projects that have allowed me to apply my data science skills to drive business outcomes. Some of my notable achievements include [Notable Project or Achievement], where I was able to [Desirable Skill or Accomplishment]. This experience has given me a unique perspective on the importance of data-driven decision-making and the potential for data science to drive business growth.\\n\\n\"I\\'m particularly drawn to this role at [Company Name] because of the opportunity to [Reason for Interest in Company or Role]. I\\'m excited about the prospect of working with a talented team to drive business outcomes and contribute to the company\\'s success.\\n\\n\"With my technical expertise, combined with my experience working with cross-functional teams and driving business results, I\\'m confident that I would be a strong fit for this role. I\\'m looking forward to learning more about the position and discussing how I can contribute to the company\\'s goals.\"\\n\\nSome possible ways to fill in the blank fields:\\n\\n* Relevant Field or Discipline: Computer Science, Statistics, Mathematics, etc.\\n* Degree: Bachelor\\'s, Master\\'s, Ph.D., etc.\\n* Major: Data Science, Computer Science, Statistics, etc.\\n* Key Skills or Technologies: Python, R, SQL, TensorFlow, Machine Learning, Deep Learning, etc.\\n* Notable Project or Achievement: A specific project or achievement that you\\'re proud of, e.g., \"Developed a predictive model that increased sales by 20% for a major retail client\"\\n* Reason for Interest in Company or Role: A specific reason why you\\'re interested in the company or role, e.g., \"I\\'m excited about the opportunity to work on cutting-edge data science projects that can drive business growth and innovation\"\\n\\nRemember to customize the template to fit your own experiences and interests, and to practice your introduction so that it feels natural and confident. Good luck with your interview!', response_metadata={'token_usage': {'completion_tokens': 533, 'prompt_tokens': 489, 'total_tokens': 1022, 'completion_time': 2.132, 'prompt_time': 0.095075598, 'queue_time': 0.003332355000000009, 'total_time': 2.227075598}, 'model_name': 'llama-3.2-90b-text-preview', 'system_fingerprint': 'fp_b6828be2c9', 'finish_reason': 'stop', 'logprobs': None}, id='run-035c28b5-796f-4c67-8b46-0aa38bf3a8bb-0', usage_metadata={'input_tokens': 489, 'output_tokens': 533, 'total_tokens': 1022})])}"
      ]
     },
     "execution_count": 12,
     "metadata": {},
     "output_type": "execute_result"
    }
   ],
   "source": [
    "store"
   ]
  },
  {
   "cell_type": "code",
   "execution_count": 13,
   "metadata": {},
   "outputs": [
    {
     "name": "stdout",
     "output_type": "stream",
     "text": [
      "Cutting Knowledge Date: December 2023 (Oceanography)\n",
      "Last Updated: 15 November 2024\n"
     ]
    }
   ],
   "source": [
    "config1 = {'configurable' : {'session_id' : 'chat1'}}\n",
    "response = with_history_message.invoke(\n",
    "    [HumanMessage(content = 'My expertise is oceanography. Please revise your template')],\n",
    "    config = config1)\n",
    "print(response.content)"
   ]
  },
  {
   "cell_type": "code",
   "execution_count": 14,
   "metadata": {},
   "outputs": [
    {
     "data": {
      "text/plain": [
       "{'chat0': InMemoryChatMessageHistory(messages=[HumanMessage(content='Hi, I have a interview for data scientist tonight, please give me a template of self-introduction'), AIMessage(content='Here\\'s a template for a self-introduction that you can use in a data scientist interview:\\n\\n\"Hello, thank you for having me here today. My name is [Your Name], and I\\'m excited to be interviewing for the Data Scientist position. With [Number of Years] years of experience in data analysis and machine learning, I\\'ve developed a strong passion for using data to drive business insights and inform strategic decisions.\\n\\n\"My background is in [Relevant Field or Discipline], where I earned a [Degree] in [Major]. Throughout my career, I\\'ve had the opportunity to work on various projects that have allowed me to hone my skills in data wrangling, modeling, and visualization. Some of my key strengths include [Key Skills or Technologies, e.g., Python, R, SQL, TensorFlow, etc.].\\n\\n\"In my previous role at [Previous Company], I worked on [Notable Project or Achievement], where I was able to [Desirable Skill or Accomplishment]. This experience has given me a unique perspective on the importance of data-driven decision-making and the potential for data science to drive business growth.\\n\\n\"I\\'m particularly drawn to this role at [Company Name] because of the opportunity to [Reason for Interest in Company or Role]. I\\'m excited about the prospect of working with a talented team to drive business outcomes and contribute to the company\\'s success.\\n\\n\"I\\'m confident that my technical skills, combined with my passion for data science and my experience working with cross-functional teams, make me a strong fit for this role. I\\'m looking forward to learning more about the position and discussing how I can contribute to the company\\'s goals.\"\\n\\nHere are some tips to keep in mind:\\n\\n* Keep your introduction concise and focused (about 1-2 minutes long)\\n* Tailor your introduction to the specific job and company\\n* Highlight your relevant skills and experiences\\n* Show enthusiasm and interest in the role and company\\n* Practice your introduction so that it feels natural and confident\\n\\nGood luck with your interview!', response_metadata={'token_usage': {'completion_tokens': 404, 'prompt_tokens': 55, 'total_tokens': 459, 'completion_time': 1.616, 'prompt_time': 0.010168636, 'queue_time': 0.004088062999999999, 'total_time': 1.626168636}, 'model_name': 'llama-3.2-90b-text-preview', 'system_fingerprint': 'fp_5c5d1b5cfb', 'finish_reason': 'stop', 'logprobs': None}, id='run-e14aa96e-7b52-4c64-9844-e9e3020d4af8-0', usage_metadata={'input_tokens': 55, 'output_tokens': 404, 'total_tokens': 459}), HumanMessage(content='My name is Gavin Jang, I have 10 years experience in data science. Please revise your template'), AIMessage(content='Here\\'s a revised template for a self-introduction:\\n\\n\"Hello, thank you for having me here today. My name is Gavin Jang, and I\\'m excited to be interviewing for the Data Scientist position. With over 10 years of experience in data science, I\\'ve developed a strong expertise in using data to drive business insights and inform strategic decisions.\\n\\n\"My background is in [Relevant Field or Discipline], where I earned a [Degree] in [Major]. Throughout my career, I\\'ve had the opportunity to work on various projects that have allowed me to hone my skills in data wrangling, modeling, and visualization. Some of my key strengths include [Key Skills or Technologies, e.g., Python, R, SQL, TensorFlow, etc.].\\n\\n\"In my previous roles, I\\'ve worked on a range of projects that have allowed me to apply my data science skills to drive business outcomes. Some of my notable achievements include [Notable Project or Achievement], where I was able to [Desirable Skill or Accomplishment]. This experience has given me a unique perspective on the importance of data-driven decision-making and the potential for data science to drive business growth.\\n\\n\"I\\'m particularly drawn to this role at [Company Name] because of the opportunity to [Reason for Interest in Company or Role]. I\\'m excited about the prospect of working with a talented team to drive business outcomes and contribute to the company\\'s success.\\n\\n\"With my technical expertise, combined with my experience working with cross-functional teams and driving business results, I\\'m confident that I would be a strong fit for this role. I\\'m looking forward to learning more about the position and discussing how I can contribute to the company\\'s goals.\"\\n\\nSome possible ways to fill in the blank fields:\\n\\n* Relevant Field or Discipline: Computer Science, Statistics, Mathematics, etc.\\n* Degree: Bachelor\\'s, Master\\'s, Ph.D., etc.\\n* Major: Data Science, Computer Science, Statistics, etc.\\n* Key Skills or Technologies: Python, R, SQL, TensorFlow, Machine Learning, Deep Learning, etc.\\n* Notable Project or Achievement: A specific project or achievement that you\\'re proud of, e.g., \"Developed a predictive model that increased sales by 20% for a major retail client\"\\n* Reason for Interest in Company or Role: A specific reason why you\\'re interested in the company or role, e.g., \"I\\'m excited about the opportunity to work on cutting-edge data science projects that can drive business growth and innovation\"\\n\\nRemember to customize the template to fit your own experiences and interests, and to practice your introduction so that it feels natural and confident. Good luck with your interview!', response_metadata={'token_usage': {'completion_tokens': 533, 'prompt_tokens': 489, 'total_tokens': 1022, 'completion_time': 2.132, 'prompt_time': 0.095075598, 'queue_time': 0.003332355000000009, 'total_time': 2.227075598}, 'model_name': 'llama-3.2-90b-text-preview', 'system_fingerprint': 'fp_b6828be2c9', 'finish_reason': 'stop', 'logprobs': None}, id='run-035c28b5-796f-4c67-8b46-0aa38bf3a8bb-0', usage_metadata={'input_tokens': 489, 'output_tokens': 533, 'total_tokens': 1022})]),\n",
       " 'chat1': InMemoryChatMessageHistory(messages=[HumanMessage(content='My expertise is oceanography. Please revise your template'), AIMessage(content='Cutting Knowledge Date: December 2023 (Oceanography)\\nLast Updated: 15 November 2024', response_metadata={'token_usage': {'completion_tokens': 23, 'prompt_tokens': 45, 'total_tokens': 68, 'completion_time': 0.092, 'prompt_time': 0.008209571, 'queue_time': 0.005504647999999999, 'total_time': 0.100209571}, 'model_name': 'llama-3.2-90b-text-preview', 'system_fingerprint': 'fp_9260b4bb2e', 'finish_reason': 'stop', 'logprobs': None}, id='run-5e0f0c1d-a255-457b-8783-f44b616bf9cd-0', usage_metadata={'input_tokens': 45, 'output_tokens': 23, 'total_tokens': 68})])}"
      ]
     },
     "execution_count": 14,
     "metadata": {},
     "output_type": "execute_result"
    }
   ],
   "source": [
    "store"
   ]
  },
  {
   "cell_type": "code",
   "execution_count": 15,
   "metadata": {},
   "outputs": [
    {
     "name": "stdout",
     "output_type": "stream",
     "text": [
      "Here's a template for a self-introduction based on your expertise in oceanography:\n",
      "\n",
      "\"Hello, my name is [Your Name], and I'm an oceanographer with a passion for understanding the complexities of our planet's ocean systems. With [Number of Years] years of experience and a background in [Specific Area of Oceanography, e.g., physical oceanography, marine biology, or coastal dynamics], I have developed a deep appreciation for the intricate relationships between the ocean's physical, chemical, and biological processes.\n",
      "\n",
      "My areas of expertise include [List 2-3 areas of specialization, e.g., ocean circulation, marine conservation, or ocean acidification]. I have a strong research background, having [briefly mention any notable research projects or publications]. My work aims to advance our knowledge of the ocean's role in the Earth's system and inform policies and practices that promote ocean sustainability.\n",
      "\n",
      "I'm excited to collaborate with others who share my passion for oceanography and explore ways to apply our knowledge to address the complex challenges facing our planet's ocean systems.\"\n",
      "\n",
      "Feel free to customize this template to fit your own experiences and style.\n"
     ]
    }
   ],
   "source": [
    "response = with_history_message.invoke(\n",
    "    [HumanMessage(content = 'Give me a template of self-introduction based on my expertise')],\n",
    "    config = config1)\n",
    "print(response.content)"
   ]
  },
  {
   "cell_type": "markdown",
   "metadata": {},
   "source": [
    "## Prompt Template"
   ]
  },
  {
   "cell_type": "code",
   "execution_count": 16,
   "metadata": {},
   "outputs": [],
   "source": [
    "prompt = ChatPromptTemplate.from_messages(\n",
    "    [('system', \"You are my copywriting assistant. Please write text or article according my instruction\"),\n",
    "     MessagesPlaceholder(variable_name = 'messages')])\n",
    "chain = prompt|llm"
   ]
  },
  {
   "cell_type": "code",
   "execution_count": 17,
   "metadata": {},
   "outputs": [
    {
     "name": "stdout",
     "output_type": "stream",
     "text": [
      "**Introducing the Future of Timekeeping: [Brand Name] Smart Watch**\n",
      "\n",
      "Get ready to revolutionize your daily life with the latest innovation in wearable technology - [Brand Name] Smart Watch. Our brand-new timepiece is designed to make your life easier, healthier, and more connected. With its sleek design, advanced features, and user-friendly interface, this smart watch is poised to take the world by storm.\n",
      "\n",
      "**Stay Connected, Stay Ahead**\n",
      "\n",
      "With [Brand Name] Smart Watch, you'll never miss a beat. Receive notifications from your phone, respond to messages, and control your music playlists with just a few taps on your wrist. Our smart watch is compatible with both Android and iOS devices, ensuring seamless integration with your existing ecosystem.\n",
      "\n",
      "**Monitor Your Health and Wellness**\n",
      "\n",
      "Take charge of your well-being with our smart watch's advanced health and fitness features. Track your daily activity, including steps taken, distance traveled, and calories burned. Monitor your heart rate and rhythm, and receive alerts if anything seems out of the ordinary. Plus, with built-in GPS, you can track your runs, hikes, and other outdoor activities with precision.\n",
      "\n",
      "**Customize to Your Style**\n",
      "\n",
      "Express yourself with our interchangeable watch faces and bands. Choose from a variety of stylish designs to match your unique personality, and switch up your look to suit any occasion.\n",
      "\n",
      "**Key Features:**\n",
      "\n",
      "* High-resolution touchscreen display\n",
      "* Water-resistant up to 50 meters\n",
      "* Long-lasting battery life (up to 5 days on a single charge)\n",
      "* Built-in GPS, heart rate monitor, and accelerometer\n",
      "* Compatible with Android and iOS devices\n",
      "* Interchangeable watch faces and bands\n",
      "\n",
      "**What Sets Us Apart**\n",
      "\n",
      "At [Brand Name], we're committed to innovation and quality. Our smart watch is designed with the user in mind, with a focus on intuitive navigation and seamless integration with your existing devices. Plus, with our dedicated customer support team, you can trust that you're in good hands.\n",
      "\n",
      "**Get Ready to Upgrade Your Style**\n",
      "\n",
      "Don't miss out on the chance to experience the future of timekeeping. Order your [Brand Name] Smart Watch today and discover a new way to live, work, and play.\n",
      "\n",
      "**Pre-Order Now and Receive:**\n",
      "\n",
      "* A complimentary watch band of your choice\n",
      "* A lifetime warranty on your smart watch\n",
      "* Priority access to our dedicated customer support team\n",
      "\n",
      "Don't wait – be one of the first to experience the [Brand Name] Smart Watch. Pre-order now and join the revolution in wearable technology.\n",
      "\n",
      "**Learn More:**\n",
      "\n",
      "Visit our website to explore the full range of features and benefits of the [Brand Name] Smart Watch. Order now and discover a new way to live, work, and play.\n"
     ]
    }
   ],
   "source": [
    "article = chain.invoke({'messages': [HumanMessage(content = 'Our company is going to launch a new smart watch, please make a promotion article')]})\n",
    "print(article.content)"
   ]
  },
  {
   "cell_type": "code",
   "execution_count": 18,
   "metadata": {},
   "outputs": [],
   "source": [
    "with_history_message = RunnableWithMessageHistory(chain, get_session_history)"
   ]
  },
  {
   "cell_type": "code",
   "execution_count": 19,
   "metadata": {},
   "outputs": [],
   "source": [
    "config2 = {'configurable': {'session_id': 'chat2'}}"
   ]
  },
  {
   "cell_type": "code",
   "execution_count": 20,
   "metadata": {},
   "outputs": [
    {
     "name": "stdout",
     "output_type": "stream",
     "text": [
      "**Introducing the Future of Timekeeping: [Brand Name] Smart Watch**\n",
      "\n",
      "Get ready to revolutionize the way you keep track of time with the latest innovation from [Brand Name] - our brand-new smart watch. This cutting-edge timepiece is designed to keep you connected, on top of your fitness goals, and in style.\n",
      "\n",
      "**Stay Connected, Stay Ahead**\n",
      "\n",
      "Our smart watch is more than just a time-telling device. With seamless integration with your smartphone, you'll receive notifications, texts, and calls right on your wrist. Never miss an important message or alert again. Plus, with built-in Wi-Fi and Bluetooth connectivity, you can stream music, podcasts, and more directly from your watch.\n",
      "\n",
      "**Fitness Tracking Redefined**\n",
      "\n",
      "Take your fitness journey to the next level with our smart watch's advanced tracking features. Monitor your heart rate, steps, distance, and calories burned with precision. Our watch also includes GPS tracking, allowing you to map your runs, hikes, and bike rides with ease. Plus, with customizable workout plans and reminders, you'll stay motivated and on track to reach your goals.\n",
      "\n",
      "**Design that Turns Heads**\n",
      "\n",
      "Our smart watch boasts a sleek, modern design that's sure to turn heads. With a stunning touchscreen display and interchangeable straps, you can customize your watch to fit your unique style. Whether you're dressing up or dressing down, our smart watch is the perfect accessory for any occasion.\n",
      "\n",
      "**Key Features:**\n",
      "\n",
      "* 1.3-inch touchscreen display\n",
      "* Heart rate monitoring and GPS tracking\n",
      "* Waterproof up to 50 meters\n",
      "* Up to 5 days of battery life\n",
      "* Compatible with both iOS and Android devices\n",
      "* Customizable watch faces and straps\n",
      "\n",
      "**Upgrade Your Timekeeping Experience**\n",
      "\n",
      "Don't miss out on the chance to experience the future of timekeeping. Order your [Brand Name] smart watch today and discover a new way to stay connected, on top of your fitness goals, and in style.\n",
      "\n",
      "**Limited Time Offer:**\n",
      "\n",
      "As a special launch offer, use the code SMART15 at checkout to receive 15% off your purchase. Don't wait - order now and start experiencing the ultimate smart watch experience.\n",
      "\n",
      "**Order Now:** [Insert CTA button or link]\n",
      "\n",
      "**Stay Connected with [Brand Name]**\n",
      "\n",
      "Follow us on social media to stay up-to-date on the latest news, promotions, and product releases.\n",
      "\n",
      "Facebook: [Brand Facebook page]\n",
      "Instagram: [Brand Instagram page]\n",
      "Twitter: [Brand Twitter page]\n",
      "\n",
      "**Join the [Brand Name] Community**\n",
      "\n",
      "Sign up for our newsletter to receive exclusive promotions, early access to new products, and more.\n",
      "\n",
      "[Insert newsletter signup link]\n",
      "\n",
      "We can't wait to see you wearing your new [Brand Name] smart watch!\n"
     ]
    }
   ],
   "source": [
    "article = with_history_message.invoke(\n",
    "    [HumanMessage(content = 'Our company is going to launch a new smart watch, please make a promotion article')], \n",
    "    config = config2)\n",
    "print(article.content)"
   ]
  },
  {
   "cell_type": "code",
   "execution_count": 21,
   "metadata": {},
   "outputs": [
    {
     "name": "stdout",
     "output_type": "stream",
     "text": [
      "**Introducing the Future of Timekeeping: Hawkiyc Smart Watch**\n",
      "\n",
      "Get ready to revolutionize the way you keep track of time with the latest innovation from Hawkiyc - our brand-new smart watch. This cutting-edge timepiece is designed to keep you connected, on top of your fitness goals, and in style.\n",
      "\n",
      "**Stay Connected, Stay Ahead**\n",
      "\n",
      "Our Hawkiyc smart watch is more than just a time-telling device. With seamless integration with your smartphone, you'll receive notifications, texts, and calls right on your wrist. Never miss an important message or alert again. Plus, with built-in Wi-Fi and Bluetooth connectivity, you can stream music, podcasts, and more directly from your watch.\n",
      "\n",
      "**Fitness Tracking Redefined**\n",
      "\n",
      "Take your fitness journey to the next level with our Hawkiyc smart watch's advanced tracking features. Monitor your heart rate, steps, distance, and calories burned with precision. Our watch also includes GPS tracking, allowing you to map your runs, hikes, and bike rides with ease. Plus, with customizable workout plans and reminders, you'll stay motivated and on track to reach your goals.\n",
      "\n",
      "**Design that Turns Heads**\n",
      "\n",
      "Our Hawkiyc smart watch boasts a sleek, modern design that's sure to turn heads. With a stunning touchscreen display and interchangeable straps, you can customize your watch to fit your unique style. Whether you're dressing up or dressing down, our smart watch is the perfect accessory for any occasion.\n",
      "\n",
      "**Key Features:**\n",
      "\n",
      "* 1.3-inch touchscreen display\n",
      "* Heart rate monitoring and GPS tracking\n",
      "* Waterproof up to 50 meters\n",
      "* Up to 5 days of battery life\n",
      "* Compatible with both iOS and Android devices\n",
      "* Customizable watch faces and straps\n",
      "\n",
      "**Upgrade Your Timekeeping Experience**\n",
      "\n",
      "Don't miss out on the chance to experience the future of timekeeping. Order your Hawkiyc smart watch today and discover a new way to stay connected, on top of your fitness goals, and in style.\n",
      "\n",
      "**Limited Time Offer:**\n",
      "\n",
      "As a special launch offer, use the code HAWKIYC15 at checkout to receive 15% off your purchase. Don't wait - order now and start experiencing the ultimate smart watch experience.\n",
      "\n",
      "**Order Now:** [Insert CTA button or link]\n",
      "\n",
      "**Stay Connected with Hawkiyc**\n",
      "\n",
      "Follow us on social media to stay up-to-date on the latest news, promotions, and product releases.\n",
      "\n",
      "Facebook: @HawkiycOfficial\n",
      "Instagram: @HawkiycSmartwatches\n",
      "Twitter: @Hawkiyc\n",
      "\n",
      "**Join the Hawkiyc Community**\n",
      "\n",
      "Sign up for our newsletter to receive exclusive promotions, early access to new products, and more.\n",
      "\n",
      "[Insert newsletter signup link]\n",
      "\n",
      "We can't wait to see you wearing your new Hawkiyc smart watch!\n"
     ]
    }
   ],
   "source": [
    "article = with_history_message.invoke(\n",
    "    [HumanMessage(content = 'The brand name is hawkiyc. please revise your article')], \n",
    "    config = config2)\n",
    "print(article.content)"
   ]
  },
  {
   "cell_type": "code",
   "execution_count": 22,
   "metadata": {},
   "outputs": [],
   "source": [
    "prompt = ChatPromptTemplate.from_messages(\n",
    "    [('system', \"You are a copywriting assistant in an advertising agency. Please write text or article in {language} according my instruction\"),\n",
    "     MessagesPlaceholder(variable_name = 'messages')])\n",
    "chain = prompt|llm"
   ]
  },
  {
   "cell_type": "code",
   "execution_count": 23,
   "metadata": {},
   "outputs": [],
   "source": [
    "with_history_message = RunnableWithMessageHistory(chain, get_session_history, input_messages_key = 'messages')"
   ]
  },
  {
   "cell_type": "code",
   "execution_count": 24,
   "metadata": {},
   "outputs": [],
   "source": [
    "config3 = {'configurable': {'session_id': 'chat3'}}"
   ]
  },
  {
   "cell_type": "code",
   "execution_count": 25,
   "metadata": {},
   "outputs": [
    {
     "name": "stdout",
     "output_type": "stream",
     "text": [
      "Here's a promotional text for the new RC car:\n",
      "\n",
      "\"Get ready for turbo-charged fun with our brand-new 1:32 scale RC car! Designed for kids, this speedy little car is perfect for indoor and outdoor adventures. With its easy-to-use controls and durable design, your little ones will be racing in no time. Watch them develop their fine motor skills and hand-eye coordination as they zoom around. Collect all the exciting colors and designs to start your own RC car racing team! Get ready, set, and go!\"\n"
     ]
    }
   ],
   "source": [
    "article = with_history_message.invoke(\n",
    "    {'messages':[HumanMessage(content = 'Our customer is going to launch a new rc car(scale in 1:32) for kids, please make a promotion short text less than 100 words')], \n",
    "     'language': \"English\"}, config = config3)\n",
    "print(article.content)"
   ]
  },
  {
   "cell_type": "code",
   "execution_count": 26,
   "metadata": {},
   "outputs": [
    {
     "name": "stdout",
     "output_type": "stream",
     "text": [
      "Here's the revised promotional text in French:\n",
      "\n",
      "\"Préparez-vous pour des heures de plaisir avec notre tout nouveau bolide RC à l'échelle 1:48 ! Conçu pour les enfants, cette petite voiture rapide est parfaite pour les aventures en intérieur et en extérieur. Avec ses commandes faciles à utiliser et sa conception robuste, vos petits seront bientôt prêts à prendre le départ. Observez-les développer leurs compétences motrices et leur coordination œil-main tandis qu'ils zigzaguent partout. Collectez toutes les couleurs et les designs excitants pour créer votre propre équipe de course RC ! Prêts, partez !\"\n"
     ]
    }
   ],
   "source": [
    "article = with_history_message.invoke(\n",
    "    {'messages':[HumanMessage(content = 'I am sorry, the ratio is incorrect. The product is in 1:48. Please revise your article and translate it')], \n",
    "     'language': \"French\"}, config = config3)\n",
    "print(article.content)"
   ]
  },
  {
   "cell_type": "code",
   "execution_count": 27,
   "metadata": {},
   "outputs": [
    {
     "name": "stdout",
     "output_type": "stream",
     "text": [
      "Here's a promotional text for the new seafood flavor instant noodle:\n",
      "\n",
      "\"海鮮饗宴就在一碗裡！我們最新推出的海鮮風味即食麵，帶給您海洋的豪華饗宴！鮮甜的蝦、蟹、蛤蠣等海鮮風味，與我們特製的風味醬油，讓您的味蕾沉浸在海洋的美好中。簡單方便，隨時隨地享受美味的海鮮饗宴！\"\n",
      "\n",
      "Translation:\n",
      "\"A seafood feast in one bowl! Our newest seafood flavor instant noodle brings you a luxurious ocean feast! Fresh and sweet flavors of shrimp, crab, mussels, and more, combined with our special seasoning sauce, will immerse your taste buds in the ocean's goodness. Simple and convenient, enjoy a delicious seafood feast anytime, anywhere!\"\n"
     ]
    }
   ],
   "source": [
    "article = with_history_message.invoke(\n",
    "    {'messages':[HumanMessage(content = 'We have a job from our new customer. There are new seafood flavor instant noodle is going to launch in Taiwan. Please write a short text to promote it')], \n",
    "     'language': \"Chinese\"}, config = config3)\n",
    "print(article.content)"
   ]
  },
  {
   "cell_type": "markdown",
   "metadata": {},
   "source": [
    "## Manage Conversation History"
   ]
  },
  {
   "cell_type": "code",
   "execution_count": 28,
   "metadata": {},
   "outputs": [],
   "source": [
    "trimmer = trim_messages(max_tokens = 512, strategy = 'last', token_counter = llm, include_system = True, allow_partial = True, start_on = 'human')"
   ]
  },
  {
   "cell_type": "code",
   "execution_count": 29,
   "metadata": {},
   "outputs": [
    {
     "data": {
      "text/plain": [
       "[SystemMessage(content='You are a copywriting assistant in an advertising agency. Please write text or article according my instruction'),\n",
       " HumanMessage(content='Our customer is going to launch a new rc car(scale in 1:32) for kids, please make a promotion short text less than 100 words'),\n",
       " AIMessage(content='Here\\'s a promotional text for the new RC car:\\n\\n\"Get ready for turbo-charged fun with our brand-new 1:32 scale RC car! Designed for kids, this speedy little car is perfect for indoor and outdoor adventures. With its easy-to-use controls and durable design, your little ones will be racing in no time. Watch them develop their fine motor skills and hand-eye coordination as they zoom around. Collect all the exciting colors and designs to start your own RC car racing team! Get ready, set, and go!\"', response_metadata={'token_usage': {'completion_tokens': 108, 'prompt_tokens': 87, 'total_tokens': 195, 'completion_time': 0.432, 'prompt_time': 0.015463614, 'queue_time': 0.003136453000000001, 'total_time': 0.447463614}, 'model_name': 'llama-3.2-90b-text-preview', 'system_fingerprint': 'fp_5c5d1b5cfb', 'finish_reason': 'stop', 'logprobs': None}, id='run-8ef003c4-cda4-4949-acf3-ba03f8444b33-0', usage_metadata={'input_tokens': 87, 'output_tokens': 108, 'total_tokens': 195}),\n",
       " HumanMessage(content='I am sorry, the ratio is incorrect. The product is in 1:48. Please revise your article and translate it'),\n",
       " AIMessage(content='Here\\'s the revised promotional text in French:\\n\\n\"Préparez-vous pour des heures de plaisir avec notre tout nouveau bolide RC à l\\'échelle 1:48 ! Conçu pour les enfants, cette petite voiture rapide est parfaite pour les aventures en intérieur et en extérieur. Avec ses commandes faciles à utiliser et sa conception robuste, vos petits seront bientôt prêts à prendre le départ. Observez-les développer leurs compétences motrices et leur coordination œil-main tandis qu\\'ils zigzaguent partout. Collectez toutes les couleurs et les designs excitants pour créer votre propre équipe de course RC ! Prêts, partez !\"', response_metadata={'token_usage': {'completion_tokens': 148, 'prompt_tokens': 229, 'total_tokens': 377, 'completion_time': 0.592, 'prompt_time': 0.039090481, 'queue_time': 0.003380135999999999, 'total_time': 0.631090481}, 'model_name': 'llama-3.2-90b-text-preview', 'system_fingerprint': 'fp_b6828be2c9', 'finish_reason': 'stop', 'logprobs': None}, id='run-4fa101da-a387-4590-af99-3ffbaf98c81c-0', usage_metadata={'input_tokens': 229, 'output_tokens': 148, 'total_tokens': 377}),\n",
       " HumanMessage(content='We have a job from our new customer. There are new seafood flavor instant noodle is going to launch in Taiwan. Please write a short text to promote it'),\n",
       " AIMessage(content='Here\\'s a promotional text for the new seafood flavor instant noodle:\\n\\n\"海鮮饗宴就在一碗裡！我們最新推出的海鮮風味即食麵，帶給您海洋的豪華饗宴！鮮甜的蝦、蟹、蛤蠣等海鮮風味，與我們特製的風味醬油，讓您的味蕾沉浸在海洋的美好中。簡單方便，隨時隨地享受美味的海鮮饗宴！\"\\n\\nTranslation:\\n\"A seafood feast in one bowl! Our newest seafood flavor instant noodle brings you a luxurious ocean feast! Fresh and sweet flavors of shrimp, crab, mussels, and more, combined with our special seasoning sauce, will immerse your taste buds in the ocean\\'s goodness. Simple and convenient, enjoy a delicious seafood feast anytime, anywhere!\"', response_metadata={'token_usage': {'completion_tokens': 193, 'prompt_tokens': 418, 'total_tokens': 611, 'completion_time': 0.772, 'prompt_time': 0.091789113, 'queue_time': 0.005322122999999998, 'total_time': 0.863789113}, 'model_name': 'llama-3.2-90b-text-preview', 'system_fingerprint': 'fp_9260b4bb2e', 'finish_reason': 'stop', 'logprobs': None}, id='run-5ab6ecd1-3715-40b5-bd31-493abd4ed416-0', usage_metadata={'input_tokens': 418, 'output_tokens': 193, 'total_tokens': 611})]"
      ]
     },
     "execution_count": 29,
     "metadata": {},
     "output_type": "execute_result"
    }
   ],
   "source": [
    "message = [SystemMessage(content = 'You are a copywriting assistant in an advertising agency. Please write text or article according my instruction')] + store['chat3'].messages\n",
    "message"
   ]
  },
  {
   "cell_type": "code",
   "execution_count": 30,
   "metadata": {},
   "outputs": [
    {
     "data": {
      "text/plain": [
       "[SystemMessage(content='You are a copywriting assistant in an advertising agency. Please write text or article according my instruction'),\n",
       " HumanMessage(content='We have a job from our new customer. There are new seafood flavor instant noodle is going to launch in Taiwan. Please write a short text to promote it'),\n",
       " AIMessage(content='Here\\'s a promotional text for the new seafood flavor instant noodle:\\n\\n\"海鮮饗宴就在一碗裡！我們最新推出的海鮮風味即食麵，帶給您海洋的豪華饗宴！鮮甜的蝦、蟹、蛤蠣等海鮮風味，與我們特製的風味醬油，讓您的味蕾沉浸在海洋的美好中。簡單方便，隨時隨地享受美味的海鮮饗宴！\"\\n\\nTranslation:\\n\"A seafood feast in one bowl! Our newest seafood flavor instant noodle brings you a luxurious ocean feast! Fresh and sweet flavors of shrimp, crab, mussels, and more, combined with our special seasoning sauce, will immerse your taste buds in the ocean\\'s goodness. Simple and convenient, enjoy a delicious seafood feast anytime, anywhere!\"', response_metadata={'token_usage': {'completion_tokens': 193, 'prompt_tokens': 418, 'total_tokens': 611, 'completion_time': 0.772, 'prompt_time': 0.091789113, 'queue_time': 0.005322122999999998, 'total_time': 0.863789113}, 'model_name': 'llama-3.2-90b-text-preview', 'system_fingerprint': 'fp_9260b4bb2e', 'finish_reason': 'stop', 'logprobs': None}, id='run-5ab6ecd1-3715-40b5-bd31-493abd4ed416-0', usage_metadata={'input_tokens': 418, 'output_tokens': 193, 'total_tokens': 611})]"
      ]
     },
     "execution_count": 30,
     "metadata": {},
     "output_type": "execute_result"
    }
   ],
   "source": [
    "trimmer.invoke(message)"
   ]
  },
  {
   "cell_type": "code",
   "execution_count": 31,
   "metadata": {},
   "outputs": [],
   "source": [
    "chain = RunnablePassthrough.assign(messages = itemgetter('messages')|trimmer) | prompt | llm"
   ]
  },
  {
   "cell_type": "code",
   "execution_count": 32,
   "metadata": {},
   "outputs": [
    {
     "name": "stdout",
     "output_type": "stream",
     "text": [
      "Here's a revised promotional text for the beef flavor instant noodle:\n",
      "\n",
      "\"濃郁的牛肉風味，讓您回味無窮！我們最新推出的牛肉風味即食麵，帶給您濃郁的牛肉風味和豐富的食感。每一口都充滿了肉汁的滋味，讓您感受到真正的牛肉饗宴！簡單方便，隨時隨地享受美味的牛肉饗宴！\"\n",
      "\n",
      "Translation:\n",
      "\"Rich and savory beef flavor that will leave you craving for more! Our newest beef flavor instant noodle brings you a rich and savory beef flavor and a satisfying texture. Every bite is filled with the flavor of meat juice, giving you a truly authentic beef experience! Simple and convenient, enjoy a delicious beef feast anytime, anywhere!\"\n"
     ]
    }
   ],
   "source": [
    "article = chain.invoke({'messages': message + [HumanMessage(content = 'Sorry, there is a mistake. The flavor of instant noodle is beef. Please revise your text')],\n",
    "                    'language': 'Chinese'})\n",
    "print(article.content)"
   ]
  },
  {
   "cell_type": "code",
   "execution_count": 33,
   "metadata": {},
   "outputs": [
    {
     "name": "stdout",
     "output_type": "stream",
     "text": [
      "Since the product is a seafood flavor instant noodle and not a toy, the warning about not being suitable for kids under 3 years old might not be directly applicable. However, if you'd like to include a note about age suitability for consumption or choking hazards, here's a revised version:\n",
      "\n",
      "\"海鮮饗宴就在一碗裡！我們最新推出的海鮮風味即食麵，帶給您海洋的豪華饗宴！鮮甜的蝦、蟹、蛤蠣等海鮮風味，與我們特製的風味醬油，讓您的味蕾沉浸在海洋的美好中。簡單方便，隨時隨地享受美味的海鮮饗宴！注意：兒童3歲以下請在成人陪同下食用，避免食物異物窒息。\"\n",
      "\n",
      "Translation:\n",
      "\"A seafood feast in one bowl! Our newest seafood flavor instant noodle brings you a luxurious ocean feast! Fresh and sweet flavors of shrimp, crab, mussels, and more, combined with our special seasoning sauce, will immerse your taste buds in the ocean's goodness. Simple and convenient, enjoy a delicious seafood feast anytime, anywhere! Note: For children under 3 years old, please consume under adult supervision to avoid choking hazards.\"\n",
      "\n",
      "However, if you'd like to add a more general warning label, you could add something like:\n",
      "\n",
      "\"注意：兒童3歲以下請在成人陪同下食用，避免食物異物窒息。\"\n",
      "\n",
      "Translation:\n",
      "\"Warning: Not suitable for children under 3 years old. Please consume under adult supervision to avoid choking hazards.\"\n",
      "\n",
      "But please note that this warning label might not be directly applicable to a food product, and it's more commonly used for toys or other products that pose a choking hazard.\n"
     ]
    }
   ],
   "source": [
    "article = chain.invoke({'messages': message + [HumanMessage(content = 'The new toy is not suitable for kid younger than 3 years old, please revise your promotion article')], \n",
    "                        'language': 'English'})\n",
    "print(article.content)"
   ]
  },
  {
   "cell_type": "code",
   "execution_count": 34,
   "metadata": {},
   "outputs": [
    {
     "data": {
      "text/plain": [
       "[SystemMessage(content='You are a copywriting assistant in an advertising agency. Please write text or article according my instruction'),\n",
       " HumanMessage(content='Our customer is going to launch a new rc car(scale in 1:32) for kids, please make a promotion short text less than 100 words'),\n",
       " AIMessage(content='Here\\'s a promotional text for the new RC car:\\n\\n\"Get ready for turbo-charged fun with our brand-new 1:32 scale RC car! Designed for kids, this speedy little car is perfect for indoor and outdoor adventures. With its easy-to-use controls and durable design, your little ones will be racing in no time. Watch them develop their fine motor skills and hand-eye coordination as they zoom around. Collect all the exciting colors and designs to start your own RC car racing team! Get ready, set, and go!\"', response_metadata={'token_usage': {'completion_tokens': 108, 'prompt_tokens': 87, 'total_tokens': 195, 'completion_time': 0.432, 'prompt_time': 0.015463614, 'queue_time': 0.003136453000000001, 'total_time': 0.447463614}, 'model_name': 'llama-3.2-90b-text-preview', 'system_fingerprint': 'fp_5c5d1b5cfb', 'finish_reason': 'stop', 'logprobs': None}, id='run-8ef003c4-cda4-4949-acf3-ba03f8444b33-0', usage_metadata={'input_tokens': 87, 'output_tokens': 108, 'total_tokens': 195}),\n",
       " HumanMessage(content='I am sorry, the ratio is incorrect. The product is in 1:48. Please revise your article and translate it'),\n",
       " AIMessage(content='Here\\'s the revised promotional text in French:\\n\\n\"Préparez-vous pour des heures de plaisir avec notre tout nouveau bolide RC à l\\'échelle 1:48 ! Conçu pour les enfants, cette petite voiture rapide est parfaite pour les aventures en intérieur et en extérieur. Avec ses commandes faciles à utiliser et sa conception robuste, vos petits seront bientôt prêts à prendre le départ. Observez-les développer leurs compétences motrices et leur coordination œil-main tandis qu\\'ils zigzaguent partout. Collectez toutes les couleurs et les designs excitants pour créer votre propre équipe de course RC ! Prêts, partez !\"', response_metadata={'token_usage': {'completion_tokens': 148, 'prompt_tokens': 229, 'total_tokens': 377, 'completion_time': 0.592, 'prompt_time': 0.039090481, 'queue_time': 0.003380135999999999, 'total_time': 0.631090481}, 'model_name': 'llama-3.2-90b-text-preview', 'system_fingerprint': 'fp_b6828be2c9', 'finish_reason': 'stop', 'logprobs': None}, id='run-4fa101da-a387-4590-af99-3ffbaf98c81c-0', usage_metadata={'input_tokens': 229, 'output_tokens': 148, 'total_tokens': 377}),\n",
       " HumanMessage(content='We have a job from our new customer. There are new seafood flavor instant noodle is going to launch in Taiwan. Please write a short text to promote it'),\n",
       " AIMessage(content='Here\\'s a promotional text for the new seafood flavor instant noodle:\\n\\n\"海鮮饗宴就在一碗裡！我們最新推出的海鮮風味即食麵，帶給您海洋的豪華饗宴！鮮甜的蝦、蟹、蛤蠣等海鮮風味，與我們特製的風味醬油，讓您的味蕾沉浸在海洋的美好中。簡單方便，隨時隨地享受美味的海鮮饗宴！\"\\n\\nTranslation:\\n\"A seafood feast in one bowl! Our newest seafood flavor instant noodle brings you a luxurious ocean feast! Fresh and sweet flavors of shrimp, crab, mussels, and more, combined with our special seasoning sauce, will immerse your taste buds in the ocean\\'s goodness. Simple and convenient, enjoy a delicious seafood feast anytime, anywhere!\"', response_metadata={'token_usage': {'completion_tokens': 193, 'prompt_tokens': 418, 'total_tokens': 611, 'completion_time': 0.772, 'prompt_time': 0.091789113, 'queue_time': 0.005322122999999998, 'total_time': 0.863789113}, 'model_name': 'llama-3.2-90b-text-preview', 'system_fingerprint': 'fp_9260b4bb2e', 'finish_reason': 'stop', 'logprobs': None}, id='run-5ab6ecd1-3715-40b5-bd31-493abd4ed416-0', usage_metadata={'input_tokens': 418, 'output_tokens': 193, 'total_tokens': 611})]"
      ]
     },
     "execution_count": 34,
     "metadata": {},
     "output_type": "execute_result"
    }
   ],
   "source": [
    "message"
   ]
  },
  {
   "cell_type": "code",
   "execution_count": 35,
   "metadata": {},
   "outputs": [],
   "source": [
    "with_history_message = RunnableWithMessageHistory(chain, get_session_history, input_messages_key = 'messages')"
   ]
  },
  {
   "cell_type": "code",
   "execution_count": 36,
   "metadata": {},
   "outputs": [
    {
     "name": "stdout",
     "output_type": "stream",
     "text": [
      "Here's a revised promotional text:\n",
      "\n",
      "\"海鮮饗宴就在一碗裡！我們最新推出的海鮮風味即食麵，帶給您真正的蝦子風味！我們添加了實實在在的蝦子片，讓您在每一口中都能品嚐到蝦子的鮮甜滋味！與我們特製的風味醬油搭配，讓您的味蕾沉浸在海洋的美好中。簡單方便，隨時隨地享受美味的海鮮饗宴！\"\n",
      "\n",
      "Translation:\n",
      "\"A seafood feast in one bowl! Our newest seafood flavor instant noodle brings you the real taste of shrimp! We've added actual shrimp bits to every pack, so you can taste the sweetness of shrimp in every bite! Combined with our special seasoning sauce, your taste buds will be immersed in the ocean's goodness. Simple and convenient, enjoy a delicious seafood feast anytime, anywhere!\"\n",
      "\n",
      "Note: I emphasized the fact that the product contains \"real\" shrimp bits to make it more appealing to customers.\n"
     ]
    }
   ],
   "source": [
    "article = with_history_message.invoke({'messages': message + [HumanMessage(content = 'Please emphasize that customer can taste real shrimp in the new product')],'language': 'Chinese'},\n",
    "                                      config = config3)\n",
    "print(article.content)"
   ]
  },
  {
   "cell_type": "code",
   "execution_count": 37,
   "metadata": {},
   "outputs": [
    {
     "name": "stdout",
     "output_type": "stream",
     "text": [
      "I think there's a mistake, you mentioned \"new toy\" but the context of our conversation is about a new seafood flavor instant noodle. Here's the revised text with a warning:\n",
      "\n",
      "\"海鮮饗宴就在一碗裡！我們最新推出的海鮮風味即食麵，帶給您海洋的豪華饗宴！鮮甜的蝦、蟹、蛤蠣等海鮮風味，與我們特製的風味醬油，讓您的味蕾沉浸在海洋的美好中。簡單方便，隨時隨地享受美味的海鮮饗宴！\n",
      "\n",
      "注意：本產品不適合3歲以下幼童食用，請家長注意並加以防範。\"\n",
      "\n",
      "Translation:\n",
      "\"A seafood feast in one bowl! Our newest seafood flavor instant noodle brings you a luxurious ocean feast! Fresh and sweet flavors of shrimp, crab, mussels, and more, combined with our special seasoning sauce, will immerse your taste buds in the ocean's goodness. Simple and convenient, enjoy a delicious seafood feast anytime, anywhere!\n",
      "\n",
      " Warning: This product is not suitable for children under 3 years old, please note and take necessary precautions.\"\n"
     ]
    }
   ],
   "source": [
    "article = with_history_message.invoke({'messages': message + [HumanMessage(content = 'Please emphasize that the new toy may hazard kids under 3 years old')], 'language': 'English'},\n",
    "                                      config = config3)\n",
    "print(article.content)"
   ]
  }
 ],
 "metadata": {
  "kernelspec": {
   "display_name": "env_llm",
   "language": "python",
   "name": "python3"
  },
  "language_info": {
   "codemirror_mode": {
    "name": "ipython",
    "version": 3
   },
   "file_extension": ".py",
   "mimetype": "text/x-python",
   "name": "python",
   "nbconvert_exporter": "python",
   "pygments_lexer": "ipython3",
   "version": "3.8.19"
  }
 },
 "nbformat": 4,
 "nbformat_minor": 2
}
