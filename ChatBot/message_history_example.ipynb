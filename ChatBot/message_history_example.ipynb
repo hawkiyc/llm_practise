{
 "cells": [
  {
   "cell_type": "markdown",
   "metadata": {},
   "source": [
    "## Import Libraries"
   ]
  },
  {
   "cell_type": "code",
   "execution_count": 1,
   "metadata": {},
   "outputs": [],
   "source": [
    "import os\n",
    "from dotenv import load_dotenv\n",
    "from langchain_groq import ChatGroq\n",
    "from langchain_core.messages import HumanMessage, AIMessage, SystemMessage, trim_messages\n",
    "from langchain_community.chat_message_histories import ChatMessageHistory\n",
    "from langchain_core.chat_history import BaseChatMessageHistory\n",
    "from langchain_core.runnables import RunnablePassthrough\n",
    "from langchain_core.runnables.history import RunnableWithMessageHistory\n",
    "from langchain_core.prompts import ChatPromptTemplate, MessagesPlaceholder\n",
    "from operator import itemgetter\n",
    "\n",
    "load_dotenv()\n",
    "groq_api_key = os.getenv(\"GROQ_API_KEY\")"
   ]
  },
  {
   "cell_type": "markdown",
   "metadata": {},
   "source": [
    "## Load LLM"
   ]
  },
  {
   "cell_type": "code",
   "execution_count": 2,
   "metadata": {},
   "outputs": [],
   "source": [
    "llm = ChatGroq(model=\"llama-3.2-90b-text-preview\", api_key = groq_api_key,)"
   ]
  },
  {
   "cell_type": "code",
   "execution_count": 3,
   "metadata": {},
   "outputs": [
    {
     "name": "stdout",
     "output_type": "stream",
     "text": [
      "**Wrap Function in Python (Decorators)**\n",
      "=====================================\n",
      "\n",
      "A wrap function, also known as a decorator, is a design pattern in Python that allows a user to add new functionality to an existing object without modifying its structure. It's a way to wrap another function in order to extend the behavior of the wrapped function, without permanently modifying it.\n",
      "\n",
      "**Basic Syntax**\n",
      "---------------\n",
      "\n",
      "A decorator is a small function that takes another function as an argument and returns a new function that \"wraps\" the original function. The new function produced by the decorator is then called instead of the original function when it's invoked.\n",
      "\n",
      "```python\n",
      "def decorator_function(original_function):\n",
      "    def wrapper_function(*args, **kwargs):\n",
      "        # code to be executed before the original function\n",
      "        result = original_function(*args, **kwargs)\n",
      "        # code to be executed after the original function\n",
      "        return result\n",
      "    return wrapper_function\n",
      "```\n",
      "\n",
      "**How it Works**\n",
      "----------------\n",
      "\n",
      "Here's a step-by-step explanation of how a decorator works:\n",
      "\n",
      "1.  The interpreter encounters the decorator syntax `@decorator_function` above a function definition.\n",
      "2.  The interpreter then executes the decorator function, passing the original function as an argument.\n",
      "3.  The decorator function returns a new function, which is the wrapper function.\n",
      "4.  The wrapper function is assigned to the original function's name, effectively replacing it.\n",
      "5.  When the original function is called, the wrapper function is executed instead.\n",
      "\n",
      "**Example**\n",
      "-----------\n",
      "\n",
      "Let's create a simple decorator that logs a message before and after the execution of a function:\n",
      "\n",
      "```python\n",
      "def logging_decorator(func):\n",
      "    def wrapper(*args, **kwargs):\n",
      "        print(f\"{func.__name__} started\")\n",
      "        result = func(*args, **kwargs)\n",
      "        print(f\"{func.__name__} finished\")\n",
      "        return result\n",
      "    return wrapper\n",
      "\n",
      "@logging_decorator\n",
      "def add(a, b):\n",
      "    return a + b\n",
      "\n",
      "result = add(2, 3)\n",
      "print(result)\n",
      "```\n",
      "\n",
      "**Output:**\n",
      "\n",
      "```\n",
      "add started\n",
      "add finished\n",
      "5\n",
      "```\n",
      "\n",
      "In this example, the `logging_decorator` function is used to decorate the `add` function. When `add(2, 3)` is called, the `wrapper` function is executed instead, logging messages before and after the execution of the original `add` function.\n",
      "\n",
      "**Real-World Use Cases**\n",
      "------------------------\n",
      "\n",
      "Decorators have many real-world use cases, including:\n",
      "\n",
      "*   **Authentication and Authorization**: Decorators can be used to check if a user is authenticated or authorized to access a certain function.\n",
      "*   **Logging and Debugging**: Decorators can be used to log information about function calls, such as the input arguments and return values.\n",
      "*   **Error Handling**: Decorators can be used to catch and handle exceptions raised by a function.\n",
      "*   **Caching**: Decorators can be used to cache the results of a function, so that the next time it's called with the same input, the cached result can be returned instead of re-executing the function.\n",
      "\n",
      "**Best Practices**\n",
      "------------------\n",
      "\n",
      "Here are some best practices to keep in mind when using decorators:\n",
      "\n",
      "*   **Use a consistent naming convention**: Use a consistent naming convention for your decorators, such as prefixing them with `@`.\n",
      "*   **Keep your decorators simple**: Keep your decorators simple and focused on a single task.\n",
      "*   **Use the `wraps` decorator**: Use the `wraps` decorator from the `functools` module to preserve the metadata of the original function.\n",
      "*   **Test your decorators**: Test your decorators thoroughly to ensure they work as expected.\n"
     ]
    }
   ],
   "source": [
    "ans = llm.invoke([HumanMessage(content = \"Tell me about wrap function in python, how it works\")])\n",
    "print(ans.content)"
   ]
  },
  {
   "cell_type": "code",
   "execution_count": 4,
   "metadata": {},
   "outputs": [
    {
     "name": "stdout",
     "output_type": "stream",
     "text": [
      "**No, a decorator does not necessarily need a wrap function**.\n",
      "\n",
      "While the most common use case for decorators involves a wrap function (a function that calls the original function and adds some additional behavior), a decorator can technically be any callable that takes another function as an argument and returns a new function.\n",
      "\n",
      "Here are some examples of decorators that don't involve a wrap function:\n",
      "\n",
      "**1. A decorator that returns the original function unchanged**\n",
      "\n",
      "```python\n",
      "def identity_decorator(func):\n",
      "    return func\n",
      "\n",
      "@identity_decorator\n",
      "def add(a, b):\n",
      "    return a + b\n",
      "\n",
      "result = add(2, 3)\n",
      "print(result)  # Outputs: 5\n",
      "```\n",
      "\n",
      "**2. A decorator that returns a new function that ignores the original function**\n",
      "\n",
      "```python\n",
      "def constant_decorator(func):\n",
      "    def wrapper(*args, **kwargs):\n",
      "        return 42\n",
      "    return wrapper\n",
      "\n",
      "@constant_decorator\n",
      "def add(a, b):\n",
      "    return a + b\n",
      "\n",
      "result = add(2, 3)\n",
      "print(result)  # Outputs: 42\n",
      "```\n",
      "\n",
      "**3. A decorator that returns a class instead of a function**\n",
      "\n",
      "```python\n",
      "def class_decorator(func):\n",
      "    class Wrapper:\n",
      "        def __call__(self, *args, **kwargs):\n",
      "            return func(*args, **kwargs)\n",
      "    return Wrapper()\n",
      "\n",
      "@class_decorator\n",
      "def add(a, b):\n",
      "    return a + b\n",
      "\n",
      "result = add(2, 3)\n",
      "print(result)  # Outputs: 5\n",
      "```\n",
      "\n",
      "**4. A decorator that returns a partial function application**\n",
      "\n",
      "```python\n",
      "from functools import partial\n",
      "\n",
      "def partial_decorator(func):\n",
      "    return partial(func, 2)\n",
      "\n",
      "@partial_decorator\n",
      "def add(a, b):\n",
      "    return a + b\n",
      "\n",
      "result = add(3)\n",
      "print(result)  # Outputs: 5\n",
      "```\n",
      "\n",
      "These examples illustrate that a decorator does not necessarily need a wrap function to be useful. However, the wrap function pattern is still the most common and widely used use case for decorators.\n"
     ]
    }
   ],
   "source": [
    "ans1 = llm.invoke(\n",
    "    [HumanMessage(content = 'Tell me about wrap function in python, how it works'),\n",
    "     AIMessage(content = ans.content),\n",
    "     HumanMessage(content = \"So, a decorator must have wrap function?\")])\n",
    "print(ans1.content)"
   ]
  },
  {
   "cell_type": "markdown",
   "metadata": {},
   "source": [
    "## Message History"
   ]
  },
  {
   "cell_type": "code",
   "execution_count": 5,
   "metadata": {},
   "outputs": [],
   "source": [
    "store = {}\n",
    "\n",
    "def get_session_history(session_id: str) -> BaseChatMessageHistory:\n",
    "    if session_id not in store:\n",
    "        store[session_id] = ChatMessageHistory()\n",
    "    return store[session_id]"
   ]
  },
  {
   "cell_type": "code",
   "execution_count": 6,
   "metadata": {},
   "outputs": [
    {
     "data": {
      "text/plain": [
       "RunnableWithMessageHistory(bound=RunnableBinding(bound=RunnableBinding(bound=RunnableLambda(_enter_history), config={'run_name': 'load_history'})\n",
       "| RunnableBinding(bound=RunnableLambda(_call_runnable_sync), config={'run_name': 'check_sync_or_async'}), config={'run_name': 'RunnableWithMessageHistory'}), get_session_history=<function get_session_history at 0x77734406f4c0>, history_factory_config=[ConfigurableFieldSpec(id='session_id', annotation=<class 'str'>, name='Session ID', description='Unique identifier for a session.', default='', is_shared=True, dependencies=None)])"
      ]
     },
     "execution_count": 6,
     "metadata": {},
     "output_type": "execute_result"
    }
   ],
   "source": [
    "with_history_message = RunnableWithMessageHistory(llm, get_session_history)\n",
    "with_history_message"
   ]
  },
  {
   "cell_type": "code",
   "execution_count": 7,
   "metadata": {},
   "outputs": [],
   "source": [
    "config0 = {'configurable' : {'session_id' : 'chat0'}}"
   ]
  },
  {
   "cell_type": "code",
   "execution_count": 8,
   "metadata": {},
   "outputs": [
    {
     "name": "stdout",
     "output_type": "stream",
     "text": [
      "Here's a template for a self-introduction that you can use as a starting point:\n",
      "\n",
      "\"Good evening, thank you for having me here tonight. My name is [Your Name], and I'm excited to be interviewing for the Data Scientist position at [Company Name]. With [Number of Years] years of experience in data analysis and a strong background in [Relevant Fields or Skills], I'm confident in my ability to drive business growth and insights through data-driven decision making.\n",
      "\n",
      "I hold a [Degree Level] degree in [Field of Study] from [University Name], where I developed a solid foundation in statistics, machine learning, and programming languages such as [Programming Languages]. Throughout my career, I've had the opportunity to work with various datasets, tools, and technologies, including [Relevant Tools and Technologies].\n",
      "\n",
      "In my current role at [Current Company], I've been working on [Briefly Describe Your Current Role and Responsibilities]. One of my notable achievements was [Achievement or Success Story], where I [Accomplishment]. This experience has not only honed my technical skills but also taught me the importance of effective communication, collaboration, and problem-solving in a data-driven environment.\n",
      "\n",
      "I'm particularly drawn to [Company Name] because of its [Reason for Interest in Company]. I'm impressed by the company's commitment to [Aspect of Company's Mission or Values That Resonates With You] and believe that my skills and experience align with the company's goals.\n",
      "\n",
      "I'm excited to learn more about the Data Scientist role and how I can contribute to the company's success. Thank you for your time, and I look forward to our conversation tonight.\"\n",
      "\n",
      "Here's a shorter version:\n",
      "\n",
      "\"Good evening, I'm [Your Name], a data scientist with [Number of Years] years of experience in data analysis. I hold a [Degree Level] degree in [Field of Study] and have worked with various datasets, tools, and technologies. In my current role, I've developed strong technical skills and a passion for driving business growth through data-driven insights. I'm drawn to [Company Name] because of its commitment to [Aspect of Company's Mission or Values That Resonates With You]. I'm excited to learn more about the role and how I can contribute to the company's success.\"\n"
     ]
    }
   ],
   "source": [
    "response = with_history_message.invoke(\n",
    "    [HumanMessage(content = 'Hi, I have a interview for data scientist tonight, please give me a template of self-introduction')],\n",
    "    config = config0)\n",
    "print(response.content)"
   ]
  },
  {
   "cell_type": "code",
   "execution_count": 9,
   "metadata": {},
   "outputs": [
    {
     "data": {
      "text/plain": [
       "{'chat0': InMemoryChatMessageHistory(messages=[HumanMessage(content='Hi, I have a interview for data scientist tonight, please give me a template of self-introduction'), AIMessage(content='Here\\'s a template for a self-introduction that you can use as a starting point:\\n\\n\"Good evening, thank you for having me here tonight. My name is [Your Name], and I\\'m excited to be interviewing for the Data Scientist position at [Company Name]. With [Number of Years] years of experience in data analysis and a strong background in [Relevant Fields or Skills], I\\'m confident in my ability to drive business growth and insights through data-driven decision making.\\n\\nI hold a [Degree Level] degree in [Field of Study] from [University Name], where I developed a solid foundation in statistics, machine learning, and programming languages such as [Programming Languages]. Throughout my career, I\\'ve had the opportunity to work with various datasets, tools, and technologies, including [Relevant Tools and Technologies].\\n\\nIn my current role at [Current Company], I\\'ve been working on [Briefly Describe Your Current Role and Responsibilities]. One of my notable achievements was [Achievement or Success Story], where I [Accomplishment]. This experience has not only honed my technical skills but also taught me the importance of effective communication, collaboration, and problem-solving in a data-driven environment.\\n\\nI\\'m particularly drawn to [Company Name] because of its [Reason for Interest in Company]. I\\'m impressed by the company\\'s commitment to [Aspect of Company\\'s Mission or Values That Resonates With You] and believe that my skills and experience align with the company\\'s goals.\\n\\nI\\'m excited to learn more about the Data Scientist role and how I can contribute to the company\\'s success. Thank you for your time, and I look forward to our conversation tonight.\"\\n\\nHere\\'s a shorter version:\\n\\n\"Good evening, I\\'m [Your Name], a data scientist with [Number of Years] years of experience in data analysis. I hold a [Degree Level] degree in [Field of Study] and have worked with various datasets, tools, and technologies. In my current role, I\\'ve developed strong technical skills and a passion for driving business growth through data-driven insights. I\\'m drawn to [Company Name] because of its commitment to [Aspect of Company\\'s Mission or Values That Resonates With You]. I\\'m excited to learn more about the role and how I can contribute to the company\\'s success.\"', response_metadata={'token_usage': {'completion_tokens': 464, 'prompt_tokens': 55, 'total_tokens': 519, 'completion_time': 1.8559999999999999, 'prompt_time': 0.012378762, 'queue_time': 0.02536571, 'total_time': 1.8683787619999999}, 'model_name': 'llama-3.2-90b-text-preview', 'system_fingerprint': 'fp_5c5d1b5cfb', 'finish_reason': 'stop', 'logprobs': None}, id='run-df79a6e9-be82-4cbc-8ca6-cd4ae3886cf1-0', usage_metadata={'input_tokens': 55, 'output_tokens': 464, 'total_tokens': 519})])}"
      ]
     },
     "execution_count": 9,
     "metadata": {},
     "output_type": "execute_result"
    }
   ],
   "source": [
    "store"
   ]
  },
  {
   "cell_type": "code",
   "execution_count": 10,
   "metadata": {},
   "outputs": [
    {
     "name": "stdout",
     "output_type": "stream",
     "text": [
      "Here's a revised template for a self-introduction:\n",
      "\n",
      "\"Good evening, thank you for having me here tonight. My name is Gavin Jang, and I'm excited to be interviewing for the Data Scientist position at [Company Name]. With over 10 years of experience in the field of data science, I'm confident in my ability to drive business growth and insights through data-driven decision making.\n",
      "\n",
      "I hold a [Degree Level, e.g. Bachelor's or Master's] degree in [Field of Study, e.g. Computer Science, Statistics, or Mathematics] from [University Name], where I developed a solid foundation in statistics, machine learning, and programming languages such as [Programming Languages, e.g. Python, R, or SQL]. Throughout my career, I've had the opportunity to work with various datasets, tools, and technologies, including [Relevant Tools and Technologies, e.g. TensorFlow, PyTorch, or Tableau].\n",
      "\n",
      "In my current role at [Current Company], I've been working on [Briefly Describe Your Current Role and Responsibilities]. One of my notable achievements was [Achievement or Success Story], where I [Accomplishment]. This experience has not only honed my technical skills but also taught me the importance of effective communication, collaboration, and problem-solving in a data-driven environment.\n",
      "\n",
      "I'm particularly drawn to [Company Name] because of its [Reason for Interest in Company]. I'm impressed by the company's commitment to [Aspect of Company's Mission or Values That Resonates With You] and believe that my skills and experience align with the company's goals.\n",
      "\n",
      "I'm excited to learn more about the Data Scientist role and how I can contribute to the company's success. Thank you for your time, and I look forward to our conversation tonight.\"\n",
      "\n",
      "Or, if you prefer a shorter version:\n",
      "\n",
      "\"Good evening, I'm Gavin Jang, a seasoned data scientist with over 10 years of experience in driving business growth through data-driven insights. I hold a [Degree Level] degree in [Field of Study] and have worked with various datasets, tools, and technologies. In my current role, I've developed strong technical skills and a passion for effective communication and collaboration. I'm drawn to [Company Name] because of its commitment to [Aspect of Company's Mission or Values That Resonates With You]. I'm excited to learn more about the role and how I can contribute to the company's success.\"\n",
      "\n",
      "Please fill in the brackets with your own information to make it more personalized.\n"
     ]
    }
   ],
   "source": [
    "response = with_history_message.invoke(\n",
    "    [HumanMessage(content = 'My name is Gavin Jang, I have 10 years experience in data science. Please revise your template')],\n",
    "    config = config0)\n",
    "print(response.content)"
   ]
  },
  {
   "cell_type": "code",
   "execution_count": 11,
   "metadata": {},
   "outputs": [
    {
     "name": "stdout",
     "output_type": "stream",
     "text": [
      "Oceanography Knowledge Date: December 2023\n",
      "Today Date: 13 November 2024\n",
      "\n",
      "Please provide your question or topic related to oceanography, and I'll do my best to assist you.\n"
     ]
    }
   ],
   "source": [
    "config1 = {'configurable' : {'session_id' : 'chat1'}}\n",
    "response = with_history_message.invoke(\n",
    "    [HumanMessage(content = 'My expertise is oceanography. Please revise your template')],\n",
    "    config = config1)\n",
    "print(response.content)"
   ]
  },
  {
   "cell_type": "code",
   "execution_count": 12,
   "metadata": {},
   "outputs": [
    {
     "name": "stdout",
     "output_type": "stream",
     "text": [
      "Here's a template for a self-introduction based on your expertise in oceanography:\n",
      "\n",
      "\"Hello, my name is [Your Name], and I'm an oceanographer with a passion for exploring the complexities of our planet's oceanic systems. With [Number of Years] years of experience in the field, I've had the privilege of studying [Specific Area of Expertise, e.g. ocean currents, marine ecosystems, coastal dynamics, etc.]. My research and professional background have equipped me with a deep understanding of the intricate relationships between the ocean and the Earth's systems.\n",
      "\n",
      "I've had the opportunity to work on various projects, including [Notable Projects or Research Initiatives], and have collaborated with [Institutions or Organizations] to advance our knowledge of the ocean. My expertise includes [Key Skills or Areas of Expertise, e.g. data analysis, field observations, modeling, etc.]. I'm excited to share my knowledge and insights with others and continue to learn from the oceanography community.\"\n",
      "\n",
      "Feel free to customize this template to fit your own experiences and style!\n"
     ]
    }
   ],
   "source": [
    "response = with_history_message.invoke(\n",
    "    [HumanMessage(content = 'Give me a template of self-introduction based on my expertise')],\n",
    "    config = config1)\n",
    "print(response.content)"
   ]
  }
 ],
 "metadata": {
  "kernelspec": {
   "display_name": "env_llm",
   "language": "python",
   "name": "env_llm"
  },
  "language_info": {
   "codemirror_mode": {
    "name": "ipython",
    "version": 3
   },
   "file_extension": ".py",
   "mimetype": "text/x-python",
   "name": "python",
   "nbconvert_exporter": "python",
   "pygments_lexer": "ipython3",
   "version": "3.8.19"
  }
 },
 "nbformat": 4,
 "nbformat_minor": 2
}
