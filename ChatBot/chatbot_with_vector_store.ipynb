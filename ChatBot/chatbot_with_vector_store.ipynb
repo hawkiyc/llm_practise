{
 "cells": [
  {
   "cell_type": "code",
   "execution_count": 1,
   "metadata": {},
   "outputs": [],
   "source": [
    "from langchain_core.documents import Document\n",
    "\n",
    "docs = [Document(page_content = 'Get ready for turbo-charged fun with our brand-new 1:32 scale RC car! Designed for kids, this speedy little car is perfect for indoor and outdoor adventures. With its easy-to-use controls and durable design, your little ones will be racing in no time. Watch them develop their fine motor skills and hand-eye coordination as they zoom around. Collect all the exciting colors and designs to start your own RC car racing team! Get ready, set, and go!',\n",
    "                 metadata = {'source' : 'toy-en-docs'}), \n",
    "        Document(page_content = \"Préparez-vous pour des heures de plaisir avec notre tout nouveau bolide RC à l'échelle 1:48 ! Conçu pour les enfants, cette petite voiture rapide est parfaite pour les aventures en intérieur et en extérieur. Avec ses commandes faciles à utiliser et sa conception robuste, vos petits seront bientôt prêts à prendre le départ. Observez-les développer leurs compétences motrices et leur coordination œil-main tandis qu'ils zigzaguent partout. Collectez toutes les couleurs et les designs excitants pour créer votre propre équipe de course RC ! Prêts, partez !\",\n",
    "                 metadata = {'source' : 'toy-fr-docs'}), \n",
    "        Document(page_content = \"A seafood feast in one bowl! Our newest seafood flavor instant noodle brings you the real taste of shrimp! We've added actual shrimp bits to every pack, so you can taste the sweetness of shrimp in every bite! Combined with our special seasoning sauce, your taste buds will be immersed in the ocean's goodness. Simple and convenient, enjoy a delicious seafood feast anytime, anywhere!\",\n",
    "                 metadata = {'source' : 'instant_noodle'}), \n",
    "        Document(page_content = \"Rich and savory beef flavor that will leave you craving for more! Our newest beef flavor instant noodle brings you a rich and savory beef flavor and a satisfying texture. Every bite is filled with the flavor of meat juice, giving you a truly authentic beef experience! Simple and convenient, enjoy a delicious beef feast anytime, anywhere!\",\n",
    "                 metadata = {'source' : 'instant_noodle'})]"
   ]
  },
  {
   "cell_type": "code",
   "execution_count": 2,
   "metadata": {},
   "outputs": [
    {
     "data": {
      "text/plain": [
       "[Document(metadata={'source': 'toy-en-docs'}, page_content='Get ready for turbo-charged fun with our brand-new 1:32 scale RC car! Designed for kids, this speedy little car is perfect for indoor and outdoor adventures. With its easy-to-use controls and durable design, your little ones will be racing in no time. Watch them develop their fine motor skills and hand-eye coordination as they zoom around. Collect all the exciting colors and designs to start your own RC car racing team! Get ready, set, and go!'),\n",
       " Document(metadata={'source': 'toy-fr-docs'}, page_content=\"Préparez-vous pour des heures de plaisir avec notre tout nouveau bolide RC à l'échelle 1:48 ! Conçu pour les enfants, cette petite voiture rapide est parfaite pour les aventures en intérieur et en extérieur. Avec ses commandes faciles à utiliser et sa conception robuste, vos petits seront bientôt prêts à prendre le départ. Observez-les développer leurs compétences motrices et leur coordination œil-main tandis qu'ils zigzaguent partout. Collectez toutes les couleurs et les designs excitants pour créer votre propre équipe de course RC ! Prêts, partez !\"),\n",
       " Document(metadata={'source': 'instant_noodle'}, page_content=\"A seafood feast in one bowl! Our newest seafood flavor instant noodle brings you the real taste of shrimp! We've added actual shrimp bits to every pack, so you can taste the sweetness of shrimp in every bite! Combined with our special seasoning sauce, your taste buds will be immersed in the ocean's goodness. Simple and convenient, enjoy a delicious seafood feast anytime, anywhere!\"),\n",
       " Document(metadata={'source': 'instant_noodle'}, page_content='Rich and savory beef flavor that will leave you craving for more! Our newest beef flavor instant noodle brings you a rich and savory beef flavor and a satisfying texture. Every bite is filled with the flavor of meat juice, giving you a truly authentic beef experience! Simple and convenient, enjoy a delicious beef feast anytime, anywhere!')]"
      ]
     },
     "execution_count": 2,
     "metadata": {},
     "output_type": "execute_result"
    }
   ],
   "source": [
    "docs"
   ]
  },
  {
   "cell_type": "code",
   "execution_count": 3,
   "metadata": {},
   "outputs": [],
   "source": [
    "import os\n",
    "from langchain_groq import ChatGroq\n",
    "from dotenv import load_dotenv\n",
    "\n",
    "load_dotenv()\n",
    "groq_api_key = os.getenv(\"GROQ_SPI_KEY\")\n",
    "os.environ[\"HF_TOKEN\"] = os.getenv(\"HUGGINGFACE_TOKEN\")\n",
    "\n",
    "llm = ChatGroq(model=\"llama-3.2-90b-text-preview\", api_key = groq_api_key,)"
   ]
  },
  {
   "cell_type": "code",
   "execution_count": 4,
   "metadata": {},
   "outputs": [],
   "source": [
    "from langchain_chroma import Chroma"
   ]
  },
  {
   "cell_type": "code",
   "execution_count": 5,
   "metadata": {},
   "outputs": [
    {
     "name": "stderr",
     "output_type": "stream",
     "text": [
      "/home/revlis_ai/anaconda3/envs/env_llm/lib/python3.8/site-packages/sentence_transformers/cross_encoder/CrossEncoder.py:13: TqdmExperimentalWarning: Using `tqdm.autonotebook.tqdm` in notebook mode. Use `tqdm.tqdm` instead to force console mode (e.g. in jupyter console)\n",
      "  from tqdm.autonotebook import tqdm, trange\n"
     ]
    }
   ],
   "source": [
    "from langchain_huggingface import HuggingFaceEmbeddings\n",
    "embeddings = HuggingFaceEmbeddings(model_name = 'all-MiniLM-L6-v2')"
   ]
  },
  {
   "cell_type": "code",
   "execution_count": 6,
   "metadata": {},
   "outputs": [],
   "source": [
    "vector_db = Chroma.from_documents(docs, embeddings)"
   ]
  },
  {
   "cell_type": "code",
   "execution_count": 7,
   "metadata": {},
   "outputs": [
    {
     "data": {
      "text/plain": [
       "[Document(metadata={'source': 'toy-en-docs'}, page_content='Get ready for turbo-charged fun with our brand-new 1:32 scale RC car! Designed for kids, this speedy little car is perfect for indoor and outdoor adventures. With its easy-to-use controls and durable design, your little ones will be racing in no time. Watch them develop their fine motor skills and hand-eye coordination as they zoom around. Collect all the exciting colors and designs to start your own RC car racing team! Get ready, set, and go!'),\n",
       " Document(metadata={'source': 'toy-fr-docs'}, page_content=\"Préparez-vous pour des heures de plaisir avec notre tout nouveau bolide RC à l'échelle 1:48 ! Conçu pour les enfants, cette petite voiture rapide est parfaite pour les aventures en intérieur et en extérieur. Avec ses commandes faciles à utiliser et sa conception robuste, vos petits seront bientôt prêts à prendre le départ. Observez-les développer leurs compétences motrices et leur coordination œil-main tandis qu'ils zigzaguent partout. Collectez toutes les couleurs et les designs excitants pour créer votre propre équipe de course RC ! Prêts, partez !\"),\n",
       " Document(metadata={'source': 'instant_noodle'}, page_content='Rich and savory beef flavor that will leave you craving for more! Our newest beef flavor instant noodle brings you a rich and savory beef flavor and a satisfying texture. Every bite is filled with the flavor of meat juice, giving you a truly authentic beef experience! Simple and convenient, enjoy a delicious beef feast anytime, anywhere!'),\n",
       " Document(metadata={'source': 'instant_noodle'}, page_content=\"A seafood feast in one bowl! Our newest seafood flavor instant noodle brings you the real taste of shrimp! We've added actual shrimp bits to every pack, so you can taste the sweetness of shrimp in every bite! Combined with our special seasoning sauce, your taste buds will be immersed in the ocean's goodness. Simple and convenient, enjoy a delicious seafood feast anytime, anywhere!\")]"
      ]
     },
     "execution_count": 7,
     "metadata": {},
     "output_type": "execute_result"
    }
   ],
   "source": [
    "vector_db.similarity_search('rc car')"
   ]
  },
  {
   "cell_type": "code",
   "execution_count": 8,
   "metadata": {},
   "outputs": [
    {
     "data": {
      "text/plain": [
       "[Document(metadata={'source': 'toy-en-docs'}, page_content='Get ready for turbo-charged fun with our brand-new 1:32 scale RC car! Designed for kids, this speedy little car is perfect for indoor and outdoor adventures. With its easy-to-use controls and durable design, your little ones will be racing in no time. Watch them develop their fine motor skills and hand-eye coordination as they zoom around. Collect all the exciting colors and designs to start your own RC car racing team! Get ready, set, and go!'),\n",
       " Document(metadata={'source': 'toy-fr-docs'}, page_content=\"Préparez-vous pour des heures de plaisir avec notre tout nouveau bolide RC à l'échelle 1:48 ! Conçu pour les enfants, cette petite voiture rapide est parfaite pour les aventures en intérieur et en extérieur. Avec ses commandes faciles à utiliser et sa conception robuste, vos petits seront bientôt prêts à prendre le départ. Observez-les développer leurs compétences motrices et leur coordination œil-main tandis qu'ils zigzaguent partout. Collectez toutes les couleurs et les designs excitants pour créer votre propre équipe de course RC ! Prêts, partez !\"),\n",
       " Document(metadata={'source': 'instant_noodle'}, page_content='Rich and savory beef flavor that will leave you craving for more! Our newest beef flavor instant noodle brings you a rich and savory beef flavor and a satisfying texture. Every bite is filled with the flavor of meat juice, giving you a truly authentic beef experience! Simple and convenient, enjoy a delicious beef feast anytime, anywhere!'),\n",
       " Document(metadata={'source': 'instant_noodle'}, page_content=\"A seafood feast in one bowl! Our newest seafood flavor instant noodle brings you the real taste of shrimp! We've added actual shrimp bits to every pack, so you can taste the sweetness of shrimp in every bite! Combined with our special seasoning sauce, your taste buds will be immersed in the ocean's goodness. Simple and convenient, enjoy a delicious seafood feast anytime, anywhere!\")]"
      ]
     },
     "execution_count": 8,
     "metadata": {},
     "output_type": "execute_result"
    }
   ],
   "source": [
    "await vector_db.asimilarity_search('rc car')"
   ]
  },
  {
   "cell_type": "code",
   "execution_count": 9,
   "metadata": {},
   "outputs": [
    {
     "data": {
      "text/plain": [
       "[(Document(metadata={'source': 'toy-en-docs'}, page_content='Get ready for turbo-charged fun with our brand-new 1:32 scale RC car! Designed for kids, this speedy little car is perfect for indoor and outdoor adventures. With its easy-to-use controls and durable design, your little ones will be racing in no time. Watch them develop their fine motor skills and hand-eye coordination as they zoom around. Collect all the exciting colors and designs to start your own RC car racing team! Get ready, set, and go!'),\n",
       "  0.857628345489502),\n",
       " (Document(metadata={'source': 'toy-fr-docs'}, page_content=\"Préparez-vous pour des heures de plaisir avec notre tout nouveau bolide RC à l'échelle 1:48 ! Conçu pour les enfants, cette petite voiture rapide est parfaite pour les aventures en intérieur et en extérieur. Avec ses commandes faciles à utiliser et sa conception robuste, vos petits seront bientôt prêts à prendre le départ. Observez-les développer leurs compétences motrices et leur coordination œil-main tandis qu'ils zigzaguent partout. Collectez toutes les couleurs et les designs excitants pour créer votre propre équipe de course RC ! Prêts, partez !\"),\n",
       "  1.4593595266342163),\n",
       " (Document(metadata={'source': 'instant_noodle'}, page_content='Rich and savory beef flavor that will leave you craving for more! Our newest beef flavor instant noodle brings you a rich and savory beef flavor and a satisfying texture. Every bite is filled with the flavor of meat juice, giving you a truly authentic beef experience! Simple and convenient, enjoy a delicious beef feast anytime, anywhere!'),\n",
       "  1.972188949584961),\n",
       " (Document(metadata={'source': 'instant_noodle'}, page_content=\"A seafood feast in one bowl! Our newest seafood flavor instant noodle brings you the real taste of shrimp! We've added actual shrimp bits to every pack, so you can taste the sweetness of shrimp in every bite! Combined with our special seasoning sauce, your taste buds will be immersed in the ocean's goodness. Simple and convenient, enjoy a delicious seafood feast anytime, anywhere!\"),\n",
       "  2.174344778060913)]"
      ]
     },
     "execution_count": 9,
     "metadata": {},
     "output_type": "execute_result"
    }
   ],
   "source": [
    "vector_db.similarity_search_with_score('rc car')"
   ]
  },
  {
   "cell_type": "code",
   "execution_count": 10,
   "metadata": {},
   "outputs": [],
   "source": [
    "from typing import List\n",
    "from langchain_core.runnables import RunnableLambda"
   ]
  },
  {
   "cell_type": "code",
   "execution_count": 11,
   "metadata": {},
   "outputs": [
    {
     "data": {
      "text/plain": [
       "[[Document(metadata={'source': 'toy-en-docs'}, page_content='Get ready for turbo-charged fun with our brand-new 1:32 scale RC car! Designed for kids, this speedy little car is perfect for indoor and outdoor adventures. With its easy-to-use controls and durable design, your little ones will be racing in no time. Watch them develop their fine motor skills and hand-eye coordination as they zoom around. Collect all the exciting colors and designs to start your own RC car racing team! Get ready, set, and go!'),\n",
       "  Document(metadata={'source': 'toy-fr-docs'}, page_content=\"Préparez-vous pour des heures de plaisir avec notre tout nouveau bolide RC à l'échelle 1:48 ! Conçu pour les enfants, cette petite voiture rapide est parfaite pour les aventures en intérieur et en extérieur. Avec ses commandes faciles à utiliser et sa conception robuste, vos petits seront bientôt prêts à prendre le départ. Observez-les développer leurs compétences motrices et leur coordination œil-main tandis qu'ils zigzaguent partout. Collectez toutes les couleurs et les designs excitants pour créer votre propre équipe de course RC ! Prêts, partez !\"),\n",
       "  Document(metadata={'source': 'instant_noodle'}, page_content=\"A seafood feast in one bowl! Our newest seafood flavor instant noodle brings you the real taste of shrimp! We've added actual shrimp bits to every pack, so you can taste the sweetness of shrimp in every bite! Combined with our special seasoning sauce, your taste buds will be immersed in the ocean's goodness. Simple and convenient, enjoy a delicious seafood feast anytime, anywhere!\")],\n",
       " [Document(metadata={'source': 'instant_noodle'}, page_content=\"A seafood feast in one bowl! Our newest seafood flavor instant noodle brings you the real taste of shrimp! We've added actual shrimp bits to every pack, so you can taste the sweetness of shrimp in every bite! Combined with our special seasoning sauce, your taste buds will be immersed in the ocean's goodness. Simple and convenient, enjoy a delicious seafood feast anytime, anywhere!\"),\n",
       "  Document(metadata={'source': 'instant_noodle'}, page_content='Rich and savory beef flavor that will leave you craving for more! Our newest beef flavor instant noodle brings you a rich and savory beef flavor and a satisfying texture. Every bite is filled with the flavor of meat juice, giving you a truly authentic beef experience! Simple and convenient, enjoy a delicious beef feast anytime, anywhere!'),\n",
       "  Document(metadata={'source': 'toy-en-docs'}, page_content='Get ready for turbo-charged fun with our brand-new 1:32 scale RC car! Designed for kids, this speedy little car is perfect for indoor and outdoor adventures. With its easy-to-use controls and durable design, your little ones will be racing in no time. Watch them develop their fine motor skills and hand-eye coordination as they zoom around. Collect all the exciting colors and designs to start your own RC car racing team! Get ready, set, and go!')],\n",
       " [Document(metadata={'source': 'toy-fr-docs'}, page_content=\"Préparez-vous pour des heures de plaisir avec notre tout nouveau bolide RC à l'échelle 1:48 ! Conçu pour les enfants, cette petite voiture rapide est parfaite pour les aventures en intérieur et en extérieur. Avec ses commandes faciles à utiliser et sa conception robuste, vos petits seront bientôt prêts à prendre le départ. Observez-les développer leurs compétences motrices et leur coordination œil-main tandis qu'ils zigzaguent partout. Collectez toutes les couleurs et les designs excitants pour créer votre propre équipe de course RC ! Prêts, partez !\"),\n",
       "  Document(metadata={'source': 'toy-en-docs'}, page_content='Get ready for turbo-charged fun with our brand-new 1:32 scale RC car! Designed for kids, this speedy little car is perfect for indoor and outdoor adventures. With its easy-to-use controls and durable design, your little ones will be racing in no time. Watch them develop their fine motor skills and hand-eye coordination as they zoom around. Collect all the exciting colors and designs to start your own RC car racing team! Get ready, set, and go!'),\n",
       "  Document(metadata={'source': 'instant_noodle'}, page_content='Rich and savory beef flavor that will leave you craving for more! Our newest beef flavor instant noodle brings you a rich and savory beef flavor and a satisfying texture. Every bite is filled with the flavor of meat juice, giving you a truly authentic beef experience! Simple and convenient, enjoy a delicious beef feast anytime, anywhere!')]]"
      ]
     },
     "execution_count": 11,
     "metadata": {},
     "output_type": "execute_result"
    }
   ],
   "source": [
    "retriever = RunnableLambda(vector_db.similarity_search).bind(k = 3)\n",
    "retriever.batch(['toy','seafeed','bolide RC'])"
   ]
  },
  {
   "cell_type": "code",
   "execution_count": 12,
   "metadata": {},
   "outputs": [
    {
     "data": {
      "text/plain": [
       "[[Document(metadata={'source': 'toy-en-docs'}, page_content='Get ready for turbo-charged fun with our brand-new 1:32 scale RC car! Designed for kids, this speedy little car is perfect for indoor and outdoor adventures. With its easy-to-use controls and durable design, your little ones will be racing in no time. Watch them develop their fine motor skills and hand-eye coordination as they zoom around. Collect all the exciting colors and designs to start your own RC car racing team! Get ready, set, and go!'),\n",
       "  Document(metadata={'source': 'toy-fr-docs'}, page_content=\"Préparez-vous pour des heures de plaisir avec notre tout nouveau bolide RC à l'échelle 1:48 ! Conçu pour les enfants, cette petite voiture rapide est parfaite pour les aventures en intérieur et en extérieur. Avec ses commandes faciles à utiliser et sa conception robuste, vos petits seront bientôt prêts à prendre le départ. Observez-les développer leurs compétences motrices et leur coordination œil-main tandis qu'ils zigzaguent partout. Collectez toutes les couleurs et les designs excitants pour créer votre propre équipe de course RC ! Prêts, partez !\"),\n",
       "  Document(metadata={'source': 'instant_noodle'}, page_content=\"A seafood feast in one bowl! Our newest seafood flavor instant noodle brings you the real taste of shrimp! We've added actual shrimp bits to every pack, so you can taste the sweetness of shrimp in every bite! Combined with our special seasoning sauce, your taste buds will be immersed in the ocean's goodness. Simple and convenient, enjoy a delicious seafood feast anytime, anywhere!\")],\n",
       " [Document(metadata={'source': 'instant_noodle'}, page_content=\"A seafood feast in one bowl! Our newest seafood flavor instant noodle brings you the real taste of shrimp! We've added actual shrimp bits to every pack, so you can taste the sweetness of shrimp in every bite! Combined with our special seasoning sauce, your taste buds will be immersed in the ocean's goodness. Simple and convenient, enjoy a delicious seafood feast anytime, anywhere!\"),\n",
       "  Document(metadata={'source': 'instant_noodle'}, page_content='Rich and savory beef flavor that will leave you craving for more! Our newest beef flavor instant noodle brings you a rich and savory beef flavor and a satisfying texture. Every bite is filled with the flavor of meat juice, giving you a truly authentic beef experience! Simple and convenient, enjoy a delicious beef feast anytime, anywhere!'),\n",
       "  Document(metadata={'source': 'toy-en-docs'}, page_content='Get ready for turbo-charged fun with our brand-new 1:32 scale RC car! Designed for kids, this speedy little car is perfect for indoor and outdoor adventures. With its easy-to-use controls and durable design, your little ones will be racing in no time. Watch them develop their fine motor skills and hand-eye coordination as they zoom around. Collect all the exciting colors and designs to start your own RC car racing team! Get ready, set, and go!')],\n",
       " [Document(metadata={'source': 'toy-fr-docs'}, page_content=\"Préparez-vous pour des heures de plaisir avec notre tout nouveau bolide RC à l'échelle 1:48 ! Conçu pour les enfants, cette petite voiture rapide est parfaite pour les aventures en intérieur et en extérieur. Avec ses commandes faciles à utiliser et sa conception robuste, vos petits seront bientôt prêts à prendre le départ. Observez-les développer leurs compétences motrices et leur coordination œil-main tandis qu'ils zigzaguent partout. Collectez toutes les couleurs et les designs excitants pour créer votre propre équipe de course RC ! Prêts, partez !\"),\n",
       "  Document(metadata={'source': 'toy-en-docs'}, page_content='Get ready for turbo-charged fun with our brand-new 1:32 scale RC car! Designed for kids, this speedy little car is perfect for indoor and outdoor adventures. With its easy-to-use controls and durable design, your little ones will be racing in no time. Watch them develop their fine motor skills and hand-eye coordination as they zoom around. Collect all the exciting colors and designs to start your own RC car racing team! Get ready, set, and go!'),\n",
       "  Document(metadata={'source': 'instant_noodle'}, page_content='Rich and savory beef flavor that will leave you craving for more! Our newest beef flavor instant noodle brings you a rich and savory beef flavor and a satisfying texture. Every bite is filled with the flavor of meat juice, giving you a truly authentic beef experience! Simple and convenient, enjoy a delicious beef feast anytime, anywhere!')]]"
      ]
     },
     "execution_count": 12,
     "metadata": {},
     "output_type": "execute_result"
    }
   ],
   "source": [
    "retriever = vector_db.as_retriever(search_type = 'similarity', search_kwargs = {'k':3})\n",
    "retriever.batch(['toy','seafeed','bolide RC'])"
   ]
  },
  {
   "cell_type": "code",
   "execution_count": 13,
   "metadata": {},
   "outputs": [],
   "source": [
    "from langchain_core.prompts import ChatPromptTemplate\n",
    "from langchain_core.runnables import RunnablePassthrough"
   ]
  },
  {
   "cell_type": "code",
   "execution_count": 14,
   "metadata": {},
   "outputs": [
    {
     "name": "stdout",
     "output_type": "stream",
     "text": [
      "The ratio of the RC car is not consistent in the provided context. \n",
      "\n",
      "In the English document, it is 1:32 scale.\n",
      "In the French document, it is 1:48 scale.\n"
     ]
    }
   ],
   "source": [
    "message = \"\"\"\n",
    "    Answer the question using the provided context only\n",
    "    \n",
    "    {question}\n",
    "    \n",
    "    Context:\n",
    "    {context}\n",
    "    \n",
    "    \"\"\"\n",
    "\n",
    "prompt = ChatPromptTemplate([('human', message)])\n",
    "rag_chain = {'context': retriever, 'question': RunnablePassthrough()}|prompt|llm\n",
    "response = rag_chain.invoke(\"what's the ratio of the rc car\")\n",
    "print(response.content)"
   ]
  },
  {
   "cell_type": "code",
   "execution_count": 15,
   "metadata": {},
   "outputs": [
    {
     "name": "stdout",
     "output_type": "stream",
     "text": [
      "The flavor of the seafood noodle is shrimp.\n"
     ]
    }
   ],
   "source": [
    "response = rag_chain.invoke(\"what's the flavor of the seafood noodle\")\n",
    "print(response.content)"
   ]
  }
 ],
 "metadata": {
  "kernelspec": {
   "display_name": "env_llm",
   "language": "python",
   "name": "env_llm"
  },
  "language_info": {
   "codemirror_mode": {
    "name": "ipython",
    "version": 3
   },
   "file_extension": ".py",
   "mimetype": "text/x-python",
   "name": "python",
   "nbconvert_exporter": "python",
   "pygments_lexer": "ipython3",
   "version": "3.8.19"
  }
 },
 "nbformat": 4,
 "nbformat_minor": 2
}
