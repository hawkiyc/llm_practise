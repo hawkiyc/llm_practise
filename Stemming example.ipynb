{
 "cells": [
  {
   "cell_type": "code",
   "execution_count": 1,
   "id": "50d3699c-b8fe-4e50-b391-3cefc594e3c9",
   "metadata": {
    "tags": []
   },
   "outputs": [],
   "source": [
    "from nltk.stem import PorterStemmer, RegexpStemmer, SnowballStemmer"
   ]
  },
  {
   "cell_type": "code",
   "execution_count": 2,
   "id": "e977d140-e76b-44e5-8f30-7c1bb926ce6e",
   "metadata": {
    "tags": []
   },
   "outputs": [],
   "source": [
    "words = [\"eat\", \"eaten\", \"eating\", \"ate\", \"write\", \"writing\", \"wrote\", \"written\",\n",
    "         \"final\", \"finally\", \"finalize\", \"history\", \"program\", \"programing\", \"programer\",\n",
    "        \"countable\", \"available\", \"believable\", \"stoppable\", \"uncountable\", \"unavailable\", \"unbelievable\", \"unstoppable\"]"
   ]
  },
  {
   "cell_type": "markdown",
   "id": "dc91233c-6d2a-4101-bcee-5147bac07d13",
   "metadata": {},
   "source": [
    "## Porter Stemmer"
   ]
  },
  {
   "cell_type": "code",
   "execution_count": 3,
   "id": "b653766f-edf3-4660-bc14-839685afa6c3",
   "metadata": {
    "tags": []
   },
   "outputs": [],
   "source": [
    "stemmer = PorterStemmer()"
   ]
  },
  {
   "cell_type": "code",
   "execution_count": 4,
   "id": "d9866498-d76f-42c6-b097-0afd200ba19d",
   "metadata": {
    "tags": []
   },
   "outputs": [
    {
     "name": "stdout",
     "output_type": "stream",
     "text": [
      "eat---->eat\n",
      "eaten---->eaten\n",
      "eating---->eat\n",
      "ate---->ate\n",
      "write---->write\n",
      "writing---->write\n",
      "wrote---->wrote\n",
      "written---->written\n",
      "final---->final\n",
      "finally---->final\n",
      "finalize---->final\n",
      "history---->histori\n",
      "program---->program\n",
      "programing---->program\n",
      "programer---->program\n",
      "countable---->countabl\n",
      "available---->avail\n",
      "believable---->believ\n",
      "stoppable---->stoppabl\n",
      "uncountable---->uncount\n",
      "unavailable---->unavail\n",
      "unbelievable---->unbeliev\n",
      "unstoppable---->unstopp\n"
     ]
    }
   ],
   "source": [
    "for w in words:\n",
    "    print(f\"{w}---->{stemmer.stem(w)}\")"
   ]
  },
  {
   "cell_type": "code",
   "execution_count": 5,
   "id": "fcb28f00-18ce-456f-ace9-64a4440fe01a",
   "metadata": {
    "tags": []
   },
   "outputs": [
    {
     "data": {
      "text/plain": [
       "'congratul'"
      ]
     },
     "execution_count": 5,
     "metadata": {},
     "output_type": "execute_result"
    }
   ],
   "source": [
    "stemmer.stem(\"congratulations\") # problem of stemming, some word would transform incorrect"
   ]
  },
  {
   "cell_type": "markdown",
   "id": "0c23c11a-37ce-4c84-9d5f-5488a0a72594",
   "metadata": {},
   "source": [
    "## Regexp Stemmer"
   ]
  },
  {
   "cell_type": "code",
   "execution_count": 6,
   "id": "3a4e1fce-23a4-4e5c-a70e-582071e5bfa6",
   "metadata": {
    "tags": []
   },
   "outputs": [],
   "source": [
    "reg_stemmer = RegexpStemmer('ing$|s$|e$|able$', min=4)"
   ]
  },
  {
   "cell_type": "code",
   "execution_count": 7,
   "id": "5b9658ee-e69f-445d-89f0-701f2ac9c2f3",
   "metadata": {
    "tags": []
   },
   "outputs": [
    {
     "name": "stdout",
     "output_type": "stream",
     "text": [
      "eat---->eat\n",
      "eaten---->eaten\n",
      "eating---->eat\n",
      "ate---->ate\n",
      "write---->writ\n",
      "writing---->writ\n",
      "wrote---->wrot\n",
      "written---->written\n",
      "final---->final\n",
      "finally---->finally\n",
      "finalize---->finaliz\n",
      "history---->history\n",
      "program---->program\n",
      "programing---->program\n",
      "programer---->programer\n",
      "countable---->count\n",
      "available---->avail\n",
      "believable---->believ\n",
      "stoppable---->stopp\n",
      "uncountable---->uncount\n",
      "unavailable---->unavail\n",
      "unbelievable---->unbeliev\n",
      "unstoppable---->unstopp\n"
     ]
    }
   ],
   "source": [
    "for w in words:\n",
    "    print(f\"{w}---->{reg_stemmer.stem(w)}\")"
   ]
  },
  {
   "cell_type": "markdown",
   "id": "f94389f2-2e77-4204-89d2-580e6ebdd1fd",
   "metadata": {},
   "source": [
    "## Snowball Stemmer"
   ]
  },
  {
   "cell_type": "code",
   "execution_count": 8,
   "id": "74417139-2899-483d-9221-f6e617b15d2e",
   "metadata": {
    "tags": []
   },
   "outputs": [],
   "source": [
    "snowball_stemmer = SnowballStemmer(\"english\")"
   ]
  },
  {
   "cell_type": "code",
   "execution_count": 9,
   "id": "c9a1c06f-0f82-48b7-9c04-7de680057d3b",
   "metadata": {
    "tags": []
   },
   "outputs": [
    {
     "name": "stdout",
     "output_type": "stream",
     "text": [
      "eat---->eat\n",
      "eaten---->eaten\n",
      "eating---->eat\n",
      "ate---->ate\n",
      "write---->write\n",
      "writing---->write\n",
      "wrote---->wrote\n",
      "written---->written\n",
      "final---->final\n",
      "finally---->final\n",
      "finalize---->final\n",
      "history---->histori\n",
      "program---->program\n",
      "programing---->program\n",
      "programer---->program\n",
      "countable---->countabl\n",
      "available---->avail\n",
      "believable---->believ\n",
      "stoppable---->stoppabl\n",
      "uncountable---->uncount\n",
      "unavailable---->unavail\n",
      "unbelievable---->unbeliev\n",
      "unstoppable---->unstopp\n"
     ]
    }
   ],
   "source": [
    "for w in words:\n",
    "    print(f\"{w}---->{snowball_stemmer.stem(w)}\")"
   ]
  },
  {
   "cell_type": "code",
   "execution_count": 10,
   "id": "8506acc9-dcb4-41c9-8da4-c95de3fdbac5",
   "metadata": {
    "tags": []
   },
   "outputs": [
    {
     "name": "stdout",
     "output_type": "stream",
     "text": [
      "fairli sportingli\n",
      "fair sport\n"
     ]
    }
   ],
   "source": [
    "print(stemmer.stem(\"fairly\"),stemmer.stem(\"sportingly\"))\n",
    "print(snowball_stemmer.stem(\"fairly\"),snowball_stemmer.stem(\"sportingly\")) #Sonwball perform better than Porter"
   ]
  },
  {
   "cell_type": "code",
   "execution_count": 11,
   "id": "9ece313c-8d48-4aed-a2c8-3cb8df2db082",
   "metadata": {
    "tags": []
   },
   "outputs": [
    {
     "data": {
      "text/plain": [
       "('goe', 'goe')"
      ]
     },
     "execution_count": 11,
     "metadata": {},
     "output_type": "execute_result"
    }
   ],
   "source": [
    "snowball_stemmer.stem(\"goes\"), stemmer.stem('goes') # However, Snowball still sometimes transform word incorrectly."
   ]
  }
 ],
 "metadata": {
  "kernelspec": {
   "display_name": "env_llm",
   "language": "python",
   "name": "env_llm"
  },
  "language_info": {
   "codemirror_mode": {
    "name": "ipython",
    "version": 3
   },
   "file_extension": ".py",
   "mimetype": "text/x-python",
   "name": "python",
   "nbconvert_exporter": "python",
   "pygments_lexer": "ipython3",
   "version": "3.11.9"
  }
 },
 "nbformat": 4,
 "nbformat_minor": 5
}
