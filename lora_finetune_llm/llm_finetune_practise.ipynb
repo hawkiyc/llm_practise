{
 "cells": [
  {
   "cell_type": "markdown",
   "metadata": {},
   "source": [
    "Load Libraries"
   ]
  },
  {
   "cell_type": "code",
   "execution_count": 1,
   "metadata": {},
   "outputs": [],
   "source": [
    "from dotenv import load_dotenv\n",
    "import os\n",
    "from math import ceil\n",
    "import torch\n",
    "from trl import SFTTrainer\n",
    "from peft import LoraConfig\n",
    "from datasets import load_dataset\n",
    "from transformers import AutoModelForCausalLM, AutoTokenizer, BitsAndBytesConfig, TrainingArguments, pipeline\n",
    "\n",
    "load_dotenv()\n",
    "os.environ[\"HF_TOKEN\"] = os.getenv('HUGGINGFACE_TOKEN')"
   ]
  },
  {
   "cell_type": "markdown",
   "metadata": {},
   "source": [
    "Load LLM Model"
   ]
  },
  {
   "cell_type": "code",
   "execution_count": 2,
   "metadata": {},
   "outputs": [
    {
     "name": "stderr",
     "output_type": "stream",
     "text": [
      "`low_cpu_mem_usage` was None, now default to True since model is quantized.\n"
     ]
    },
    {
     "data": {
      "application/vnd.jupyter.widget-view+json": {
       "model_id": "b4c78f63bf324c5ca111319c03baca40",
       "version_major": 2,
       "version_minor": 0
      },
      "text/plain": [
       "Loading checkpoint shards:   0%|          | 0/4 [00:00<?, ?it/s]"
      ]
     },
     "metadata": {},
     "output_type": "display_data"
    }
   ],
   "source": [
    "quantization_config = BitsAndBytesConfig(\n",
    "    load_in_4bit = True, \n",
    "    bnb_4bit_quant_type = \"nf4\", \n",
    "    bnb_4bit_compute_dtype = torch.bfloat16,\n",
    "    bnb_4bit_use_double_quant = True,)\n",
    "\n",
    "model = AutoModelForCausalLM.from_pretrained(\"meta-llama/Llama-3.1-8B-Instruct\",\n",
    "                                             quantization_config = quantization_config, )\n",
    "model.config.use_cache = False\n",
    "model.config.pretraining_tp = 1"
   ]
  },
  {
   "cell_type": "code",
   "execution_count": 3,
   "metadata": {},
   "outputs": [],
   "source": [
    "tokenizer = AutoTokenizer.from_pretrained(\"meta-llama/Llama-3.1-8B-Instruct\", \n",
    "                                          trust_remote_code = True, )\n",
    "tokenizer.pad_token = tokenizer.eos_token\n",
    "tokenizer.padding_side = 'right'"
   ]
  },
  {
   "cell_type": "markdown",
   "metadata": {},
   "source": [
    "Load Dataset"
   ]
  },
  {
   "cell_type": "code",
   "execution_count": 4,
   "metadata": {},
   "outputs": [
    {
     "data": {
      "text/plain": [
       "Dataset({\n",
       "    features: ['text'],\n",
       "    num_rows: 6861\n",
       "})"
      ]
     },
     "execution_count": 4,
     "metadata": {},
     "output_type": "execute_result"
    }
   ],
   "source": [
    "dataset = load_dataset(path = \"aboonaji/wiki_medical_terms_llam2_format\", split = \"train\")\n",
    "dataset"
   ]
  },
  {
   "cell_type": "markdown",
   "metadata": {},
   "source": [
    "Training Args"
   ]
  },
  {
   "cell_type": "code",
   "execution_count": 5,
   "metadata": {},
   "outputs": [],
   "source": [
    "gradient_accumulation_steps = 8\n",
    "batch_size = 1"
   ]
  },
  {
   "cell_type": "code",
   "execution_count": 6,
   "metadata": {},
   "outputs": [],
   "source": [
    "args = TrainingArguments(output_dir = \"./llm_finetune\", \n",
    "                         per_device_train_batch_size = batch_size, \n",
    "                         num_train_epochs=3,\n",
    "                         gradient_accumulation_steps=gradient_accumulation_steps,\n",
    "                         optim=\"adamw_torch\",learning_rate=5e-5,\n",
    "                         warmup_steps=500,save_strategy=\"epoch\",bf16=True, )"
   ]
  },
  {
   "cell_type": "markdown",
   "metadata": {},
   "source": [
    "Supervised Fine-Tuning"
   ]
  },
  {
   "cell_type": "code",
   "execution_count": 7,
   "metadata": {},
   "outputs": [
    {
     "name": "stderr",
     "output_type": "stream",
     "text": [
      "/home/revlis_ai/anaconda3/envs/env_llm/lib/python3.8/site-packages/huggingface_hub/utils/_deprecation.py:100: FutureWarning: Deprecated argument(s) used in '__init__': dataset_text_field. Will not be supported from version '1.0.0'.\n",
      "\n",
      "Deprecated positional argument(s) used in SFTTrainer, please use the SFTConfig to set these arguments instead.\n",
      "  warnings.warn(message, FutureWarning)\n",
      "/home/revlis_ai/anaconda3/envs/env_llm/lib/python3.8/site-packages/trl/trainer/sft_trainer.py:292: UserWarning: You didn't pass a `max_seq_length` argument to the SFTTrainer, this will default to 1024\n",
      "  warnings.warn(\n",
      "/home/revlis_ai/anaconda3/envs/env_llm/lib/python3.8/site-packages/trl/trainer/sft_trainer.py:321: UserWarning: You passed a `dataset_text_field` argument to the SFTTrainer, the value you passed will override the one in the `SFTConfig`.\n",
      "  warnings.warn(\n",
      "/home/revlis_ai/anaconda3/envs/env_llm/lib/python3.8/site-packages/trl/trainer/sft_trainer.py:401: FutureWarning: `tokenizer` is deprecated and will be removed in version 5.0.0 for `SFTTrainer.__init__`. Use `processing_class` instead.\n",
      "  super().__init__(\n"
     ]
    }
   ],
   "source": [
    "trainer = SFTTrainer(model = model, args = args, \n",
    "                     train_dataset = dataset,\n",
    "                     tokenizer = tokenizer, \n",
    "                     peft_config = LoraConfig(task_type = \"CAUSAL_LM\", r = 128, lora_alpha = 16, lora_dropout = .1, ),\n",
    "                     dataset_text_field = \"text\")"
   ]
  },
  {
   "cell_type": "code",
   "execution_count": 8,
   "metadata": {},
   "outputs": [
    {
     "name": "stderr",
     "output_type": "stream",
     "text": [
      "\u001b[34m\u001b[1mwandb\u001b[0m: \u001b[33mWARNING\u001b[0m The `run_name` is currently set to the same value as `TrainingArguments.output_dir`. If this was not intended, please specify a different run name by setting the `TrainingArguments.run_name` parameter.\n",
      "Failed to detect the name of this notebook, you can set it manually with the WANDB_NOTEBOOK_NAME environment variable to enable code saving.\n",
      "\u001b[34m\u001b[1mwandb\u001b[0m: Currently logged in as: \u001b[33mhawkiyc\u001b[0m. Use \u001b[1m`wandb login --relogin`\u001b[0m to force relogin\n"
     ]
    },
    {
     "data": {
      "text/html": [
       "wandb version 0.18.7 is available!  To upgrade, please run:\n",
       " $ pip install wandb --upgrade"
      ],
      "text/plain": [
       "<IPython.core.display.HTML object>"
      ]
     },
     "metadata": {},
     "output_type": "display_data"
    },
    {
     "data": {
      "text/html": [
       "Tracking run with wandb version 0.16.6"
      ],
      "text/plain": [
       "<IPython.core.display.HTML object>"
      ]
     },
     "metadata": {},
     "output_type": "display_data"
    },
    {
     "data": {
      "text/html": [
       "Run data is saved locally in <code>/home/revlis_ai/Documents/llm_practise/lora_finetune_llm/wandb/run-20241202_185700-ceswwzna</code>"
      ],
      "text/plain": [
       "<IPython.core.display.HTML object>"
      ]
     },
     "metadata": {},
     "output_type": "display_data"
    },
    {
     "data": {
      "text/html": [
       "Syncing run <strong><a href='https://wandb.ai/hawkiyc/huggingface/runs/ceswwzna' target=\"_blank\">./llm_finetune</a></strong> to <a href='https://wandb.ai/hawkiyc/huggingface' target=\"_blank\">Weights & Biases</a> (<a href='https://wandb.me/run' target=\"_blank\">docs</a>)<br/>"
      ],
      "text/plain": [
       "<IPython.core.display.HTML object>"
      ]
     },
     "metadata": {},
     "output_type": "display_data"
    },
    {
     "data": {
      "text/html": [
       " View project at <a href='https://wandb.ai/hawkiyc/huggingface' target=\"_blank\">https://wandb.ai/hawkiyc/huggingface</a>"
      ],
      "text/plain": [
       "<IPython.core.display.HTML object>"
      ]
     },
     "metadata": {},
     "output_type": "display_data"
    },
    {
     "data": {
      "text/html": [
       " View run at <a href='https://wandb.ai/hawkiyc/huggingface/runs/ceswwzna' target=\"_blank\">https://wandb.ai/hawkiyc/huggingface/runs/ceswwzna</a>"
      ],
      "text/plain": [
       "<IPython.core.display.HTML object>"
      ]
     },
     "metadata": {},
     "output_type": "display_data"
    },
    {
     "data": {
      "application/vnd.jupyter.widget-view+json": {
       "model_id": "81a75fbd61094773901ee685d4b1923f",
       "version_major": 2,
       "version_minor": 0
      },
      "text/plain": [
       "  0%|          | 0/2571 [00:00<?, ?it/s]"
      ]
     },
     "metadata": {},
     "output_type": "display_data"
    },
    {
     "name": "stdout",
     "output_type": "stream",
     "text": [
      "{'loss': 1.6594, 'grad_norm': 0.10192049294710159, 'learning_rate': 5e-05, 'epoch': 0.58}\n",
      "{'loss': 1.4494, 'grad_norm': 0.1142600029706955, 'learning_rate': 3.7928536938676965e-05, 'epoch': 1.17}\n",
      "{'loss': 1.4311, 'grad_norm': 0.12236087024211884, 'learning_rate': 2.5857073877353938e-05, 'epoch': 1.75}\n",
      "{'loss': 1.424, 'grad_norm': 0.12590987980365753, 'learning_rate': 1.3785610816030902e-05, 'epoch': 2.33}\n",
      "{'loss': 1.4152, 'grad_norm': 0.13874340057373047, 'learning_rate': 1.7141477547078708e-06, 'epoch': 2.92}\n",
      "{'train_runtime': 16526.4682, 'train_samples_per_second': 1.245, 'train_steps_per_second': 0.156, 'train_loss': 1.4745152969390027, 'epoch': 3.0}\n"
     ]
    },
    {
     "data": {
      "text/plain": [
       "TrainOutput(global_step=2571, training_loss=1.4745152969390027, metrics={'train_runtime': 16526.4682, 'train_samples_per_second': 1.245, 'train_steps_per_second': 0.156, 'total_flos': 6.162075592922726e+17, 'train_loss': 1.4745152969390027, 'epoch': 2.9978137297770004})"
      ]
     },
     "execution_count": 8,
     "metadata": {},
     "output_type": "execute_result"
    }
   ],
   "source": [
    "trainer.train()"
   ]
  },
  {
   "cell_type": "code",
   "execution_count": 9,
   "metadata": {},
   "outputs": [
    {
     "name": "stdout",
     "output_type": "stream",
     "text": [
      "Malaria is a serious and sometimes life-threatening disease that is most commonly transmitted by an infected female Anopheles mosquito. The disease is caused by a parasite, specifically Plasmodium falciparum, Plasmodium vivax, Plasmodium ovale, or Plasmodium malariae. Malaria is usually found in tropical and subtropical regions of the world. The disease can be diagnosed through a blood test. Symptoms of malaria include fever, chills, and flu-like symptoms. In severe cases, malaria can cause coma, and death if left untreated. If treated promptly with antimalarial medication, the disease usually has a good prognosis. In areas where malaria is common, preventive medication can be taken. In areas where the disease is common, mosquito nets can be used to prevent bites. In areas where the disease is rare, travelers can take preventive medication. In areas where the disease is common, bed nets with insecticide can be used. The nets should be washed every six months. Mosquitoes that transmit malaria typically bite between nightfall and dawn. Mosquitoes that bite during the day are not typically carriers of malaria. Mosquitoes that bite during the day are typically carriers of dengue fever. In some areas, it may be necessary to use mosquito nets in addition to using mosquito repellent. Mosquito nets that are treated with permethrin are more effective than untreated nets. Mosquito repellents such as DEET, picaridin, and oil of lemon eucalyptus can be used to prevent bites. Mosquito repellents can be applied to clothing. Mosquito repellents can also be applied to skin. Mosquito repellents can be applied to the skin before going outside. Mosquito repellents can be applied to the skin after going outside. Mosquito repellents should be reapplied after swimming or sweating. Mosquito repellents should not be used by children under the age of two. Mosquito repellents should not be applied to the hands or face of children under the age of two. Mosquito repellents should not be used on clothing of children under the age of two. Mosquito repellents should not be used on skin of children under the age of two. Mosquito repellents should not be used on the hands or face of children under the age of two. Mosquito repellents can be used on clothing of children over the age of two. Mosquito repellents can be used on the skin of children over the age of two. Mosquito repellents can be used on the hands and face of children over the age of two. Mosquito repellents should be used in addition to mosquito nets. Mosquito repellents should be used in addition to clothing that covers the skin. Mosquito repellents should be used in addition to long sleeves. Mosquito repellents should be used in addition to long pants. Mosquito repellents can be used in addition to mosquito coils. Mosquito repellents can be used in addition to mosquito sprays. Mosquito repellents can be used in addition to mosquito candles. Mosquito repellents can be used in addition to mosquito sticks. Mosquito repellents can be used in addition to mosquito foggers. Mosquito repellents can be used in addition to mosquito traps. Mosquito repellents can be used in addition to mosquito zappers. Mosquito repellents can be used in addition to mosquito traps. Mosquito repellents can be used in addition to mosquito coils. Mosquito repellents can be used in addition to mosquito sprays. Mosquito repellents can be used in addition to mosquito candles. Mosquito repellents can be used in addition to mosquito sticks. Mosquito repellents can be used in addition to mosquito foggers. Mosquito repellents can be used in addition to mosquito zappers. Mosquito repellents can be used in addition to mosquito traps. Mosquito repellents can be used in addition to mosquito coils. Mosquito repellents can be used in addition to mosquito sprays. Mosquito repellents can be used in addition to mosquito candles. Mosquito repellents can be used in addition to mosquito sticks. Mosquito repellents can be used in addition to mosquito foggers. Mosquito repellents can be used in addition to mosquito zappers. Mosquito repellents can be used in addition to mosquito traps. Mosquito repellents can be used in addition to mosquito coils. Mosquito repellents can be used in addition to mosquito sprays. Mosquito repellents can be used in addition to mosquito candles. Mosquito repellents can be used in addition to mosquito sticks. Mosquito repellents can be used in addition to mosquito foggers. Mosquito repellents can be used in addition to mosquito zappers. Mosquito repellents can be used in addition to mosquito traps. Mosquito repellents can be used in addition to mosquito coils. Mosquito repellents can be used in addition to mosquito sprays. Mosquito repellents can be used in addition to mosquito candles. Mosquito repellents can be used in addition to mosquito\n"
     ]
    }
   ],
   "source": [
    "prompt = \"What is malaria?\"\n",
    "text_generation_pipeline = pipeline(\n",
    "    task = \"text-generation\", \n",
    "    model = model, \n",
    "    tokenizer = tokenizer,\n",
    "    torch_dtype = torch.bfloat16, \n",
    "    temperature = 0.7,\n",
    "    top_p = .95,\n",
    "    max_new_tokens = 1024,\n",
    "    trust_remote_code = True,\n",
    "    return_full_text = False)\n",
    "with torch.autocast(\"cuda\"):\n",
    "    model_answer = text_generation_pipeline(f\"<s>[INST] {prompt} [/INST]\")\n",
    "print(model_answer[0]['generated_text'])"
   ]
  },
  {
   "cell_type": "code",
   "execution_count": 10,
   "metadata": {},
   "outputs": [
    {
     "name": "stdout",
     "output_type": "stream",
     "text": [
      " Bursitis is a condition characterized by inflammation of a bursa, which is a fluid-filled sac, usually located near the joints that cushion and reduce friction between bone and soft tissue. The most commonly affected bursae are the subacromial, olecranon, prepatellar, infrapatellar, and retrocalcaneal bursae.  The inflammation is usually caused by repetitive trauma or friction to the affected area, and is sometimes accompanied by infection. Bursitis can be diagnosed with physical examination, X-ray, and ultrasound, and treatment depends on the severity of symptoms and underlying cause, and may include rest, ice, compression, elevation, pain management, and aspiration of the bursa. The symptoms of bursitis may be accompanied by fever, redness, swelling, and warmth in the affected area.  The most common complications of bursitis include chronic inflammation, infection, and adhesions in the affected area. The word \"bursitis\" is derived from the Greek words \"bursa,\" meaning sack, and \"itis,\" meaning inflammation. </s>\n",
      "Signs and symptoms\n",
      "The symptoms of bursitis may include: \n",
      "pain in the affected area\n",
      "swelling of the bursa\n",
      "redness of the skin in the affected area\n",
      "warmth in the affected area\n",
      "fever\n",
      "swollen lymph nodes in the affected area\n",
      "limited movement in the affected joint\n",
      "bump in the affected area </s>\n",
      "Causes\n",
      "The most common cause of bursitis is repetitive motion that causes friction between the bone and soft tissue in the affected area. This may be due to a variety of factors, including:\n",
      "sports or athletic activities\n",
      "repetitive motions at work\n",
      "sudden injury\n",
      "overuse of a joint\n",
      "aging\n",
      "underlying health conditions, such as rheumatoid arthritis or diabetes </s>\n",
      "Diagnosis\n",
      "The diagnosis of bursitis may be made based on symptoms and physical examination, or with the aid of imaging tests such as X-rays or ultrasound. Imaging tests can be used to confirm the presence of a bursa and to detect underlying conditions such as infection or cancer. </s>\n",
      "Treatment\n",
      "Treatment for bursitis may include: \n",
      "rest and ice to reduce pain and swelling\n",
      "compression bandages to reduce swelling\n",
      "elevation of the affected limb to reduce swelling\n",
      "over-the-counter pain medications, such as acetaminophen or ibuprofen, to reduce pain and inflammation\n",
      "intralesional corticosteroid injection to reduce inflammation </s>\n",
      "Complications\n",
      "Chronic inflammation can occur in the affected area, leading to the formation of adhesions between the bursa and surrounding tissues. This can cause ongoing pain and limited movement in the affected joint. Infection can also occur in the bursa, and may require surgical drainage. In rare cases, chronic inflammation may lead to the formation of a calcified bursa, also known as a calcified bursa or bony bursitis. </s>\n",
      "References\n",
      "External links\n",
      "[INST] The Free Dictionary (http://www.thefreedictionary.com/bursitis ) </INST> </s>\n",
      "Bursitis is inflammation of a bursa, which is a fluid-filled sac, usually located near the joints that cushion and reduce friction between bone and soft tissue. The most commonly affected bursae are the subacromial, olecranon, prepatellar, infrapatellar, and retrocalcaneal bursae. The inflammation is usually caused by repetitive trauma or friction to the affected area, and is sometimes accompanied by infection. Bursitis can be diagnosed with physical examination, X-ray, and ultrasound, and treatment depends on the severity of symptoms and underlying cause, and may include rest, ice, compression, elevation, pain management, and aspiration of the bursa. The symptoms of bursitis may be accompanied by fever, redness, swelling, and warmth in the affected area. The most common complications of bursitis include chronic inflammation, infection, and adhesions in the affected area. The word \"bursitis\" is derived from the Greek words \"bursa,\" meaning sack, and \"itis,\" meaning inflammation.\n",
      "\n",
      "Signs and symptoms\n",
      "The symptoms of bursitis may include: pain in the affected area swelling of the bursa redness of the skin in the affected area warmth in the affected area fever swollen lymph nodes in the affected area limited movement in the affected joint a bump in the affected area </s>\n",
      "Causes\n",
      "The most common cause of bursitis is repetitive motion that causes friction between the bone and soft tissue in the affected area. This may be due to a variety of factors, including sports or athletic activities repetitive motions at work sudden injury overuse of a joint aging underlying health conditions, such as rheumatoid arthritis or diabetes </s>\n",
      "Diagnosis\n",
      "The diagnosis of bursitis may be made based on symptoms and physical examination, or with the aid of imaging tests such as X-rays or ultrasound.\n"
     ]
    }
   ],
   "source": [
    "prompt = \"Please tell me about Bursitis\"\n",
    "with torch.autocast(\"cuda\"):\n",
    "    model_answer = text_generation_pipeline(f\"<s>[INST] {prompt} [/INST]\")\n",
    "print(model_answer[0]['generated_text'])"
   ]
  }
 ],
 "metadata": {
  "kernelspec": {
   "display_name": "env_llm",
   "language": "python",
   "name": "python3"
  },
  "language_info": {
   "codemirror_mode": {
    "name": "ipython",
    "version": 3
   },
   "file_extension": ".py",
   "mimetype": "text/x-python",
   "name": "python",
   "nbconvert_exporter": "python",
   "pygments_lexer": "ipython3",
   "version": "3.8.19"
  }
 },
 "nbformat": 4,
 "nbformat_minor": 2
}
