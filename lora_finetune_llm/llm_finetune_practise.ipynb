{
 "cells": [
  {
   "cell_type": "markdown",
   "metadata": {},
   "source": [
    "Load Libraries"
   ]
  },
  {
   "cell_type": "code",
   "execution_count": 1,
   "metadata": {},
   "outputs": [],
   "source": [
    "from dotenv import load_dotenv\n",
    "import os\n",
    "from math import ceil\n",
    "import torch\n",
    "from trl import SFTTrainer\n",
    "from peft import LoraConfig\n",
    "from datasets import load_dataset\n",
    "from transformers import AutoModelForCausalLM, AutoTokenizer, BitsAndBytesConfig, TrainingArguments, pipeline\n",
    "\n",
    "load_dotenv()\n",
    "os.environ[\"HF_TOKEN\"] = os.getenv('HUGGINGFACE_TOKEN')"
   ]
  },
  {
   "cell_type": "markdown",
   "metadata": {},
   "source": [
    "Load LLM Model"
   ]
  },
  {
   "cell_type": "code",
   "execution_count": 2,
   "metadata": {},
   "outputs": [
    {
     "name": "stderr",
     "output_type": "stream",
     "text": [
      "`low_cpu_mem_usage` was None, now set to True since model is quantized.\n"
     ]
    },
    {
     "data": {
      "application/vnd.jupyter.widget-view+json": {
       "model_id": "657641afc06943238ae6c4fd4d6e8181",
       "version_major": 2,
       "version_minor": 0
      },
      "text/plain": [
       "Loading checkpoint shards:   0%|          | 0/4 [00:00<?, ?it/s]"
      ]
     },
     "metadata": {},
     "output_type": "display_data"
    }
   ],
   "source": [
    "quantization_config = BitsAndBytesConfig(\n",
    "    load_in_4bit = True, \n",
    "    bnb_4bit_quant_type = \"nf4\", \n",
    "    bnb_4bit_compute_dtype = torch.bfloat16,)\n",
    "\n",
    "model = AutoModelForCausalLM.from_pretrained(\"meta-llama/Llama-3.1-8B-Instruct\",\n",
    "                                             quantization_config = quantization_config, )\n",
    "model.config.use_cache = False\n",
    "model.config.pretraining_tp = 1"
   ]
  },
  {
   "cell_type": "code",
   "execution_count": 3,
   "metadata": {},
   "outputs": [],
   "source": [
    "tokenizer = AutoTokenizer.from_pretrained(\"meta-llama/Llama-3.1-8B-Instruct\", \n",
    "                                          trust_remote_code = True, )\n",
    "tokenizer.pad_token = tokenizer.eos_token\n",
    "tokenizer.padding_side = 'right'"
   ]
  },
  {
   "cell_type": "markdown",
   "metadata": {},
   "source": [
    "Load Dataset"
   ]
  },
  {
   "cell_type": "code",
   "execution_count": 4,
   "metadata": {},
   "outputs": [
    {
     "data": {
      "text/plain": [
       "Dataset({\n",
       "    features: ['text'],\n",
       "    num_rows: 6861\n",
       "})"
      ]
     },
     "execution_count": 4,
     "metadata": {},
     "output_type": "execute_result"
    }
   ],
   "source": [
    "dataset = load_dataset(path = \"aboonaji/wiki_medical_terms_llam2_format\", split = \"train\")\n",
    "dataset"
   ]
  },
  {
   "cell_type": "markdown",
   "metadata": {},
   "source": [
    "Training Args"
   ]
  },
  {
   "cell_type": "code",
   "execution_count": 5,
   "metadata": {},
   "outputs": [],
   "source": [
    "gradient_accumulation_steps = 8\n",
    "batch_size = 1"
   ]
  },
  {
   "cell_type": "code",
   "execution_count": 6,
   "metadata": {},
   "outputs": [],
   "source": [
    "args = TrainingArguments(output_dir = \"./llama_finetune\", \n",
    "                         per_device_train_batch_size = batch_size, \n",
    "                         num_train_epochs=3,\n",
    "                         gradient_accumulation_steps=gradient_accumulation_steps,\n",
    "                         optim=\"adamw_torch\",learning_rate=5e-5,\n",
    "                         warmup_steps=500,save_strategy=\"epoch\",bf16=True, )"
   ]
  },
  {
   "cell_type": "markdown",
   "metadata": {},
   "source": [
    "Supervised Fine-Tuning"
   ]
  },
  {
   "cell_type": "code",
   "execution_count": 7,
   "metadata": {},
   "outputs": [
    {
     "name": "stderr",
     "output_type": "stream",
     "text": [
      "/home/revlis_ai/anaconda3/envs/env_llm/lib/python3.8/site-packages/huggingface_hub/utils/_deprecation.py:100: FutureWarning: Deprecated argument(s) used in '__init__': dataset_text_field. Will not be supported from version '1.0.0'.\n",
      "\n",
      "Deprecated positional argument(s) used in SFTTrainer, please use the SFTConfig to set these arguments instead.\n",
      "  warnings.warn(message, FutureWarning)\n",
      "/home/revlis_ai/anaconda3/envs/env_llm/lib/python3.8/site-packages/trl/trainer/sft_trainer.py:292: UserWarning: You didn't pass a `max_seq_length` argument to the SFTTrainer, this will default to 1024\n",
      "  warnings.warn(\n",
      "/home/revlis_ai/anaconda3/envs/env_llm/lib/python3.8/site-packages/trl/trainer/sft_trainer.py:321: UserWarning: You passed a `dataset_text_field` argument to the SFTTrainer, the value you passed will override the one in the `SFTConfig`.\n",
      "  warnings.warn(\n"
     ]
    }
   ],
   "source": [
    "trainer = SFTTrainer(model = model, args = args, \n",
    "                     train_dataset = dataset,\n",
    "                     tokenizer = tokenizer, \n",
    "                     peft_config = LoraConfig(task_type = \"CAUSAL_LM\", r = 128, lora_alpha = 16, lora_dropout = .1, ),\n",
    "                     dataset_text_field = \"text\")"
   ]
  },
  {
   "cell_type": "code",
   "execution_count": 8,
   "metadata": {},
   "outputs": [
    {
     "name": "stderr",
     "output_type": "stream",
     "text": [
      "\u001b[34m\u001b[1mwandb\u001b[0m: \u001b[33mWARNING\u001b[0m The `run_name` is currently set to the same value as `TrainingArguments.output_dir`. If this was not intended, please specify a different run name by setting the `TrainingArguments.run_name` parameter.\n",
      "Failed to detect the name of this notebook, you can set it manually with the WANDB_NOTEBOOK_NAME environment variable to enable code saving.\n",
      "\u001b[34m\u001b[1mwandb\u001b[0m: Currently logged in as: \u001b[33mhawkiyc\u001b[0m. Use \u001b[1m`wandb login --relogin`\u001b[0m to force relogin\n"
     ]
    },
    {
     "data": {
      "text/html": [
       "wandb version 0.18.7 is available!  To upgrade, please run:\n",
       " $ pip install wandb --upgrade"
      ],
      "text/plain": [
       "<IPython.core.display.HTML object>"
      ]
     },
     "metadata": {},
     "output_type": "display_data"
    },
    {
     "data": {
      "text/html": [
       "Tracking run with wandb version 0.16.6"
      ],
      "text/plain": [
       "<IPython.core.display.HTML object>"
      ]
     },
     "metadata": {},
     "output_type": "display_data"
    },
    {
     "data": {
      "text/html": [
       "Run data is saved locally in <code>/home/revlis_ai/Documents/llm_practise/lora_finetune_llm/wandb/run-20241129_161631-c74u90x1</code>"
      ],
      "text/plain": [
       "<IPython.core.display.HTML object>"
      ]
     },
     "metadata": {},
     "output_type": "display_data"
    },
    {
     "data": {
      "text/html": [
       "Syncing run <strong><a href='https://wandb.ai/hawkiyc/huggingface/runs/c74u90x1' target=\"_blank\">./llama_finetune</a></strong> to <a href='https://wandb.ai/hawkiyc/huggingface' target=\"_blank\">Weights & Biases</a> (<a href='https://wandb.me/run' target=\"_blank\">docs</a>)<br/>"
      ],
      "text/plain": [
       "<IPython.core.display.HTML object>"
      ]
     },
     "metadata": {},
     "output_type": "display_data"
    },
    {
     "data": {
      "text/html": [
       " View project at <a href='https://wandb.ai/hawkiyc/huggingface' target=\"_blank\">https://wandb.ai/hawkiyc/huggingface</a>"
      ],
      "text/plain": [
       "<IPython.core.display.HTML object>"
      ]
     },
     "metadata": {},
     "output_type": "display_data"
    },
    {
     "data": {
      "text/html": [
       " View run at <a href='https://wandb.ai/hawkiyc/huggingface/runs/c74u90x1' target=\"_blank\">https://wandb.ai/hawkiyc/huggingface/runs/c74u90x1</a>"
      ],
      "text/plain": [
       "<IPython.core.display.HTML object>"
      ]
     },
     "metadata": {},
     "output_type": "display_data"
    },
    {
     "data": {
      "application/vnd.jupyter.widget-view+json": {
       "model_id": "9be052d3e10142d6a031f63ba5fc8179",
       "version_major": 2,
       "version_minor": 0
      },
      "text/plain": [
       "  0%|          | 0/2571 [00:00<?, ?it/s]"
      ]
     },
     "metadata": {},
     "output_type": "display_data"
    },
    {
     "name": "stdout",
     "output_type": "stream",
     "text": [
      "{'loss': 1.5151, 'grad_norm': 0.1564282327890396, 'learning_rate': 5e-05, 'epoch': 0.58}\n",
      "{'loss': 1.1573, 'grad_norm': 0.16565777361392975, 'learning_rate': 3.7928536938676965e-05, 'epoch': 1.17}\n",
      "{'loss': 1.1089, 'grad_norm': 0.13002827763557434, 'learning_rate': 2.5857073877353938e-05, 'epoch': 1.75}\n",
      "{'loss': 1.108, 'grad_norm': 0.13994261622428894, 'learning_rate': 1.3785610816030902e-05, 'epoch': 2.33}\n",
      "{'loss': 1.0926, 'grad_norm': 0.17559672892093658, 'learning_rate': 1.7141477547078708e-06, 'epoch': 2.92}\n",
      "{'train_runtime': 15876.7396, 'train_samples_per_second': 1.296, 'train_steps_per_second': 0.162, 'train_loss': 1.193868968701001, 'epoch': 3.0}\n"
     ]
    },
    {
     "data": {
      "text/plain": [
       "TrainOutput(global_step=2571, training_loss=1.193868968701001, metrics={'train_runtime': 15876.7396, 'train_samples_per_second': 1.296, 'train_steps_per_second': 0.162, 'total_flos': 6.162075592922726e+17, 'train_loss': 1.193868968701001, 'epoch': 2.9978137297770004})"
      ]
     },
     "execution_count": 8,
     "metadata": {},
     "output_type": "execute_result"
    }
   ],
   "source": [
    "trainer.train()"
   ]
  },
  {
   "cell_type": "code",
   "execution_count": 42,
   "metadata": {},
   "outputs": [
    {
     "name": "stdout",
     "output_type": "stream",
     "text": [
      "<s>[INST] What is malaria? [/INST] Malaria is a serious disease caused by a parasite that is transmitted to humans through the bite of an infected mosquito. There are four different species of the malaria parasite, and they cause different types of malaria. The most common type is Plasmodium falciparum, which is found primarily in sub-Saharan Africa. Malaria is caused by the bite of an infected female Anopheles mosquito. The parasite is transmitted when the mosquito bites a person, and the parasite is then transmitted to the person’s liver. The parasite then multiplies in the liver and is released into the bloodstream, where it causes illness. Malaria is typically characterized by fever, chills, and flu-like symptoms. In severe cases, malaria can cause coma, seizures, and death. Malaria is treated with antimalarial medication, and in severe cases, hospitalization may be necessary. Malaria is a major cause of illness and death in tropical and subtropical regions of the world, particularly in sub-Saharan Africa. According to the World Health Organization, there were an estimated 228 million cases of malaria in 2019, resulting in 405,000 deaths. Malaria is a major public health problem, particularly in areas where the disease is endemic. The World Health Organization estimates that malaria causes 228 million cases of illness and 405,000 deaths each year. Malaria is a major cause of illness and death in tropical and subtropical regions of the world, particularly in sub-Saharan Africa. The disease is caused by the bite of an infected female Anopheles mosquito, which transmits the parasite to the person’s liver, where it multiplies and is released into the bloodstream. The parasite then causes illness, which can range from mild to severe. Malaria is typically characterized by fever, chills, and flu-like symptoms. In severe cases, malaria can cause coma, seizures, and death. Malaria is treated with antimalarial medication, and in severe cases, hospitalization may be necessary. The most common type of malaria is Plasmodium falciparum, which is found primarily in sub-Saharan Africa. Malaria is a major public health problem, particularly in areas where the disease is endemic. The World Health Organization estimates that malaria causes 228 million cases of illness and 405,000 deaths each year. Malaria is a major cause of illness and death in tropical and subtropical regions of the world, particularly in sub-Saharan Africa. The disease is caused by the bite of an infected female Anopheles mosquito, which transmits the\n"
     ]
    }
   ],
   "source": [
    "prompt = \"What is malaria?\"\n",
    "text_generation_pipeline = pipeline(\n",
    "    task = \"text-generation\", \n",
    "    model = model, \n",
    "    tokenizer = tokenizer, \n",
    "    max_new_tokens = 512, )\n",
    "with torch.autocast(\"cuda\"):\n",
    "    model_answer = text_generation_pipeline(f\"<s>[INST] {prompt} [/INST]\")\n",
    "print(model_answer[0]['generated_text'])"
   ]
  },
  {
   "cell_type": "code",
   "execution_count": 43,
   "metadata": {},
   "outputs": [
    {
     "name": "stdout",
     "output_type": "stream",
     "text": [
      "<s>[INST] Please tell me about Bursitis [/INST] Bursitis is inflammation of a bursa, which is a fluid-filled sac or cavity that cushions and reduces friction between soft tissues and bones in the body. Bursae are located around joints and in areas prone to friction. The inflammation of a bursa can be caused by injury, infection, or overuse. Bursitis can cause pain, swelling, and redness of the affected area. The pain may be sharp and stabbing, or it may be a dull ache. The pain may be constant, or it may come and go. The pain may be worse with movement of the affected joint or area. Bursitis can be acute or chronic. Acute bursitis is sudden and short-lived. Chronic bursitis is long-lasting and may be caused by a chronic condition. Bursitis can be caused by a bacterial infection, which is known as septic bursitis. Septic bursitis is a medical emergency that requires immediate treatment. Bursitis can be treated with rest, ice, compression, and elevation (RICE). Pain relievers may be prescribed to help reduce pain. In some cases, corticosteroid injections may be used to reduce inflammation. In severe cases, surgery may be necessary. Bursitis is a common condition that can be treated with rest and pain relief medication. It is usually not serious and does not cause long-term problems. However, if left untreated, bursitis can lead to chronic pain and limited mobility\n"
     ]
    }
   ],
   "source": [
    "user_prompt = \"Please tell me about Bursitis\"\n",
    "text_generation_pipeline = pipeline(task = \"text-generation\", model = model, tokenizer = tokenizer, max_new_tokens = 300)\n",
    "with torch.autocast(\"cuda\"):\n",
    "    model_answer = text_generation_pipeline(f\"<s>[INST] {user_prompt} [/INST]\")\n",
    "print(model_answer[0]['generated_text'])"
   ]
  }
 ],
 "metadata": {
  "kernelspec": {
   "display_name": "env_llm",
   "language": "python",
   "name": "env_llm"
  },
  "language_info": {
   "codemirror_mode": {
    "name": "ipython",
    "version": 3
   },
   "file_extension": ".py",
   "mimetype": "text/x-python",
   "name": "python",
   "nbconvert_exporter": "python",
   "pygments_lexer": "ipython3",
   "version": "3.8.19"
  }
 },
 "nbformat": 4,
 "nbformat_minor": 2
}
