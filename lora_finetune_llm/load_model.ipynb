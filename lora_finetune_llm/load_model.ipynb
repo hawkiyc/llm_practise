{
 "cells": [
  {
   "cell_type": "code",
   "execution_count": 1,
   "metadata": {},
   "outputs": [
    {
     "name": "stderr",
     "output_type": "stream",
     "text": [
      "/home/revlis_ai/anaconda3/envs/env_llm/lib/python3.8/site-packages/tqdm/auto.py:21: TqdmWarning: IProgress not found. Please update jupyter and ipywidgets. See https://ipywidgets.readthedocs.io/en/stable/user_install.html\n",
      "  from .autonotebook import tqdm as notebook_tqdm\n"
     ]
    },
    {
     "data": {
      "text/plain": [
       "True"
      ]
     },
     "execution_count": 1,
     "metadata": {},
     "output_type": "execute_result"
    }
   ],
   "source": [
    "from dotenv import load_dotenv\n",
    "import os\n",
    "import torch\n",
    "from transformers import AutoModelForCausalLM, AutoTokenizer, BitsAndBytesConfig, pipeline\n",
    "load_dotenv()"
   ]
  },
  {
   "cell_type": "code",
   "execution_count": 2,
   "metadata": {},
   "outputs": [
    {
     "name": "stderr",
     "output_type": "stream",
     "text": [
      "The `load_in_4bit` and `load_in_8bit` arguments are deprecated and will be removed in the future versions. Please, pass a `BitsAndBytesConfig` object in `quantization_config` argument instead.\n",
      "`low_cpu_mem_usage` was None, now set to True since model is quantized.\n"
     ]
    }
   ],
   "source": [
    "tokenizer = AutoTokenizer.from_pretrained(\"llama_finetune/checkpoint-8580\")\n",
    "model = AutoModelForCausalLM.from_pretrained(\"llama_finetune/checkpoint-8580\", load_in_8bit = True,)"
   ]
  },
  {
   "cell_type": "code",
   "execution_count": 3,
   "metadata": {},
   "outputs": [
    {
     "name": "stderr",
     "output_type": "stream",
     "text": [
      "Truncation was not explicitly activated but `max_length` is provided a specific value, please use `truncation=True` to explicitly truncate examples to max length. Defaulting to 'longest_first' truncation strategy. If you encode pairs of sequences (GLUE-style) with the tokenizer you can select this strategy more precisely by providing a specific strategy to `truncation`.\n",
      "Starting from v4.46, the `logits` model output will have the same type as the model (except at train time, where it will always be FP32)\n"
     ]
    },
    {
     "name": "stdout",
     "output_type": "stream",
     "text": [
      "<s>[INST] What is AFib? [/INST] AFib is an arrhythmia that affects the electrical activity of the heart. In people with AFib, the heart's electrical conduction system is abnormally fast, causing the heart to beat too quickly. AFib is characterized by an irregular, rapid heart rate with a normal or slightly decreased heart rate on a 12-lead electrocardiogram (ECG). The irregular heartbeat is often described as a \"skipped beat\" or \"flutter.\" The rapid heartbeat is usually not life-threatening, but can cause symptoms such as palpitations, fatigue, shortness of breath, and chest pain. AFib is a common heart condition that affects up to 4% of people over the age of 65 and up to 20% of people over the age of 40. It is most commonly seen in people over the age of 60, and is more common in men than women. AFib is often associated with other heart conditions, such as coronary artery disease, high blood pressure, and atrial myxoma. The risk of developing AFib is higher in people who have a history of high blood pressure, diabetes, or a history of heart attack. The exact cause of AFib is unknown, but it is thought to be related to the way in which electrical signals are transmitted through the heart. It is a type of supraventricular tachycardia (SVT) and is often referred to as a \"fast heart rate.\" AFib is a type of arrhythmia, which is a disturbance in the normal electrical activity of the heart. The irregular heartbeat is usually caused by an abnormality in the electrical conduction system of the heart, which is the electrical pathway that allows the heart to beat.\n",
      "\n",
      "Signs and symptoms\n",
      "The symptoms of AFib can vary depending on the severity of the condition and the individual's overall health. Some people with AFib may not experience any symptoms at all. People with a more severe form of AFib may experience symptoms such as:\n",
      " palpitations (a rapid heartbeat)\n",
      " shortness of breath\n",
      " chest pain\n",
      " fatigue\n",
      " dizziness\n",
      " lightheadedness\n",
      " nausea\n",
      " muscle weakness\n",
      " skin rash\n",
      " hair loss\n",
      " vision changes\n",
      " headache\n",
      " muscle weakness\n",
      " muscle pain\n",
      " heart palpitations (a rapid heartbeat)\n",
      " chest pain\n",
      " dizziness\n",
      " lightheadedness\n",
      " nausea\n",
      " muscle weakness\n",
      " skin rash\n",
      " hair loss\n",
      " vision changes\n",
      " headache\n",
      " muscle weakness\n",
      " muscle pain\n",
      " heart palpitations (a\n"
     ]
    }
   ],
   "source": [
    "prompt = \"What is AFib?\"\n",
    "text_generation_pipeline = pipeline(task = \"text-generation\", model = model, tokenizer = tokenizer, max_length = 512)\n",
    "model_answer = text_generation_pipeline(f\"<s>[INST] {prompt} [/INST]\")\n",
    "print(model_answer[0]['generated_text'])"
   ]
  }
 ],
 "metadata": {
  "kernelspec": {
   "display_name": "env_llm",
   "language": "python",
   "name": "env_llm"
  },
  "language_info": {
   "codemirror_mode": {
    "name": "ipython",
    "version": 3
   },
   "file_extension": ".py",
   "mimetype": "text/x-python",
   "name": "python",
   "nbconvert_exporter": "python",
   "pygments_lexer": "ipython3",
   "version": "3.8.19"
  }
 },
 "nbformat": 4,
 "nbformat_minor": 2
}
