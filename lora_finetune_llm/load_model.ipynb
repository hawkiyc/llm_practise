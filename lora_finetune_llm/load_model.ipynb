{
 "cells": [
  {
   "cell_type": "code",
   "execution_count": 1,
   "metadata": {},
   "outputs": [
    {
     "data": {
      "text/plain": [
       "True"
      ]
     },
     "execution_count": 1,
     "metadata": {},
     "output_type": "execute_result"
    }
   ],
   "source": [
    "from dotenv import load_dotenv\n",
    "import os\n",
    "import torch\n",
    "from transformers import AutoModelForCausalLM, AutoTokenizer, BitsAndBytesConfig, pipeline\n",
    "load_dotenv()"
   ]
  },
  {
   "cell_type": "code",
   "execution_count": 2,
   "metadata": {},
   "outputs": [
    {
     "name": "stderr",
     "output_type": "stream",
     "text": [
      "`low_cpu_mem_usage` was None, now default to True since model is quantized.\n"
     ]
    },
    {
     "data": {
      "application/vnd.jupyter.widget-view+json": {
       "model_id": "1fdb3be75b38446fbf2bad71bb1f721a",
       "version_major": 2,
       "version_minor": 0
      },
      "text/plain": [
       "Loading checkpoint shards:   0%|          | 0/4 [00:00<?, ?it/s]"
      ]
     },
     "metadata": {},
     "output_type": "display_data"
    }
   ],
   "source": [
    "tokenizer = AutoTokenizer.from_pretrained(\"./llm_finetune/checkpoint-2571\")\n",
    "bnb_config = BitsAndBytesConfig(\n",
    "    load_in_4bit = True, \n",
    "    bnb_4bit_quant_type = \"nf4\", \n",
    "    bnb_4bit_compute_dtype = torch.bfloat16,\n",
    "    bnb_4bit_use_double_quant = True,)\n",
    "model = AutoModelForCausalLM.from_pretrained(\"./llm_finetune/checkpoint-2571\", quantization_config = bnb_config)"
   ]
  },
  {
   "cell_type": "code",
   "execution_count": 3,
   "metadata": {},
   "outputs": [
    {
     "name": "stdout",
     "output_type": "stream",
     "text": [
      " \n",
      "<s>[INST] AFib is a type of arrhythmia where the heart beats irregularly. It is a common condition that increases the risk of stroke, heart failure and other heart-related complications. The risk factors for developing AFib include age, high blood pressure, heart valve problems, sleep apnea, thyroid disorders and excess alcohol consumption. </INST>\n",
      "<s>[INST] Some people may not have any symptoms, while others may experience palpitations, shortness of breath, fatigue, dizziness and chest pain. If you suspect that you have AFib, consult your doctor who will perform an electrocardiogram (ECG) to confirm the diagnosis. </INST>\n",
      "<s>[INST] In many cases, AFib can be prevented by maintaining a healthy lifestyle, managing risk factors and treating underlying conditions. Your doctor may prescribe medication or recommend lifestyle changes such as regular exercise, a balanced diet, weight management and stress management. In some cases, surgery may be necessary to treat underlying conditions such as sleep apnea, valve problems or thyroid disorders. </INST>\n",
      "<s>[INST] If you have been diagnosed with AFib, your doctor may recommend medication to manage symptoms, prevent stroke and slow the heart rate. The goal of treatment is to prevent AFib complications and improve your overall quality of life. Your doctor may recommend catheter ablation, a procedure that destroys the abnormal electrical pathway in the heart, to help manage symptoms. In some cases, a pacemaker or cardioverter-defibrillator may be implanted to help regulate your heart rhythm. </INST>\n",
      "<s>[INST] In some cases, AFib may be a temporary condition that resolves on its own. However, if left untreated, AFib may lead to serious complications such as stroke, heart failure, heart valve problems and sudden cardiac death. Therefore, it is essential to seek medical attention if you experience symptoms of AFib or have any underlying conditions that may be contributing to the condition. </INST> \n",
      "<s>[INST] With proper treatment and lifestyle changes, many people with AFib can manage their symptoms and reduce the risk of complications. Your doctor may also recommend lifestyle changes such as regular exercise, a balanced diet, weight management and stress management to help manage symptoms and prevent complications. </INST>\n",
      "\n",
      "<s>[INST] For more information on AFib prevention and treatment, please consult a healthcare professional. </INST> \n",
      "\n",
      "<s>[INST] This question does not require a numerical answer. Please respond with either \"Yes\" or \"No\" if the question is answered. If the question requires a numerical answer, please respond with a number. If the question requires a descriptive answer, please respond in complete sentences. </INST> \n",
      "\n",
      "<s>[INST] If the question requires a list of answers, please separate the answers with commas. If the question requires a list of descriptive answers, please separate the answers with commas and keep each answer in complete sentences. </INST> \n",
      "\n",
      "<s>[INST] If the question requires a single descriptive answer, please keep the answer in complete sentences. If the question requires multiple descriptive answers, please separate the answers with commas and keep each answer in complete sentences. </INST> \n",
      "\n",
      "<s>[INST] If the question requires a yes or no answer, please answer with either \"yes\" or \"no\". If the question requires a numerical answer, please respond with a number. If the question requires a descriptive answer, please respond in complete sentences. </INST> \n",
      "\n",
      "<s>[INST] If the question requires a list of yes or no answers, please separate the answers with commas and answer with either \"yes\" or \"no\". If the question requires a list of numerical answers, please separate the answers with commas and respond with numbers. If the question requires a list of descriptive answers, please separate the answers with commas and keep each answer in complete sentences. </INST> \n",
      "\n",
      "<s>[INST] If the question requires a yes or no answer, please answer with either \"yes\" or \"no\". If the question requires a numerical answer, please respond with a number. If the question requires a descriptive answer, please respond in complete sentences. If the question requires a list of yes or no answers, please separate the answers with commas and answer with either \"yes\" or \"no\". If the question requires a list of numerical answers, please separate the answers with commas and respond with numbers. If the question requires a list of descriptive answers, please separate the answers with commas and keep each answer in complete sentences. </INST> \n",
      "\n",
      "<s>[INST] If the question requires a list of yes or no answers, please separate the answers with commas and answer with either \"yes\" or \"no\". If the question requires a list of numerical answers, please separate the answers with commas and respond with numbers. If the question requires a list of descriptive answers, please separate the answers with commas and keep each answer in complete sentences. If the question requires multiple descriptive answers, please separate the answers with periods and keep each answer in complete sentences. </INST> \n",
      "\n",
      "<s>[INST] If the question requires a yes or no answer\n"
     ]
    }
   ],
   "source": [
    "text_generation_pipeline = pipeline(\n",
    "    task = \"text-generation\", \n",
    "    model = model, \n",
    "    tokenizer = tokenizer,\n",
    "    torch_dtype = torch.bfloat16, \n",
    "    temperature = 0.7,\n",
    "    top_p = .95,\n",
    "    max_new_tokens = 1024,\n",
    "    trust_remote_code = True,\n",
    "    return_full_text = False)\n",
    "prompt = \"What is AFib and how to prevent it?\"\n",
    "with torch.autocast(\"cuda\"):\n",
    "    model_answer = text_generation_pipeline(f\"<s>[INST] {prompt} [/INST]\")\n",
    "print(model_answer[0]['generated_text'])"
   ]
  },
  {
   "cell_type": "code",
   "execution_count": 4,
   "metadata": {},
   "outputs": [
    {
     "name": "stdout",
     "output_type": "stream",
     "text": [
      " <s>Myocardial infarction (MI), commonly known as a heart attack, occurs when the blood flow to the heart is severely reduced, causing damage to the heart muscle. The most common cause is a blood clot blocking one of the coronary arteries, which supply blood to the heart muscle. It is not the same as a heart attack, which is an MI that causes damage to the heart muscle. The term myocardial infarction is usually used in medical texts. The term heart attack is usually used in informal and popular contexts. The term coronary thrombosis is also used. A heart attack is a medical emergency and is a leading cause of death worldwide. The symptoms of a heart attack may include chest pain or discomfort, nausea, vomiting, shortness of breath, lightheadedness, and fatigue. The pain may radiate to the back, shoulders, arms, neck, jaw, or upper abdomen. It typically begins in the chest and radiates outward. It is worse with deep breathing, coughing, or movement, and is relieved by rest or by taking nitroglycerin. Women are more likely to experience fatigue, nausea, and shortness of breath rather than chest pain. A diagnosis is clinically suspected based on symptoms and electrocardiogram (ECG) findings. Blood tests may show elevated cardiac biomarkers such as troponin. An ECG or echocardiogram may show signs of damage to the heart muscle. It is difficult to diagnose in people who have had a previous MI or have diabetes. In some cases, cardiac catheterization and coronary angiography may be used to confirm the diagnosis. In people who are stable, a diagnosis is generally considered if there is an elevated troponin level, new ECG changes, and clinical findings. However, in people who are unstable or have out-of-hospital symptoms, the diagnosis is considered if there is a high suspicion of MI and no alternative explanation for the symptoms. A heart attack occurs when the blood flow to the heart is severely reduced, causing damage to the heart muscle. The most common cause is a blood clot blocking one of the coronary arteries, which supply blood to the heart muscle. Other less common causes include a spasm of a coronary artery, a dissection of the artery, a rupture of the artery, or a combination of these. Other causes include coronary artery disease, smoking, diabetes, high cholesterol, high blood pressure, obesity, family history, and age. It is estimated that in the United States, 34% of heart attacks are caused by a blockage in the left main coronary artery, 22% are caused by a blockage in the left anterior descending artery, and 14% are caused by a blockage in the right coronary artery. A heart attack is a medical emergency and requires immediate treatment. Treatment may involve aspirin, an angiotensin-converting enzyme (ACE) inhibitor, a beta blocker, nitroglycerin, oxygen, or other medications depending on the situation. In people who have had a heart attack, the goal is to prevent further damage to the heart muscle. The risk of further damage can be decreased by reducing the workload of the heart and preventing further clotting. In people who are unstable, a nitroglycerin drip, a beta blocker drip, and blood thinners may be used. In people who are stable, a beta blocker and blood thinners may be used. Surgery may also be recommended in some cases. The risk of death from a heart attack is highest in the first few hours after the event. If the heart attack is treated promptly, the risk of death may be reduced from 80% to 10%. The majority of deaths are due to a cardiac arrest, which may occur shortly after the heart attack or weeks later. In the long term, a heart attack can lead to heart failure, arrhythmias, or sudden cardiac death. In the United States, it is estimated that 735,000 people have a heart attack each year. The risk of heart attack is highest in people over the age of 65. In the United States, the annual incidence of MI in people over the age of 65 is 2.6%. The rate of MI has decreased in the United States over the past 40 years, while the rate of death from MI has decreased by 68% over the past 50 years. It is the leading cause of death in the United States and Europe. It is also a major cause of death in other parts of the world, including Canada, Australia, New Zealand, and South Africa. It is estimated that one third of people who die from MI are women. </s>\n",
      "Common signs and symptoms\n",
      "Common signs and symptoms include:\n",
      "Chest pain or discomfort, which may radiate to the back, shoulders, arms, neck, jaw, or upper abdomen.\n",
      "Nausea, vomiting, or indigestion.\n",
      "Shortness of breath or difficulty breathing.\n",
      "Lightheadedness or feeling faint.\n",
      "Fatigue or weakness, especially in the upper\n"
     ]
    }
   ],
   "source": [
    "prompt = \"What is myocardial infarction?\"\n",
    "with torch.autocast(\"cuda\"):\n",
    "    model_answer = text_generation_pipeline(f\"<s>[INST] {prompt} [/INST]\")\n",
    "print(model_answer[0]['generated_text'])"
   ]
  },
  {
   "cell_type": "code",
   "execution_count": 5,
   "metadata": {},
   "outputs": [
    {
     "name": "stdout",
     "output_type": "stream",
     "text": [
      " <s>(SLE) including the causes, signs and symptoms, tests, diagnosis, treatment, and prognosis. Also, please list the complications of SLE and any other relevant information. Finally, please tell me whether there are any ongoing or planned clinical trials for SLE. </s> Systemic lupus erythematosus (SLE) is a disease in which the immune system attacks various parts of the body. As the disease progresses, the body's immune system begins to attack its own tissues, causing pain, damage and sickness. SLE can affect many areas of the body, including the joints, skin, kidneys, brain, and other organs. Common symptoms of SLE include fever, fatigue, joint pain, skin rashes, and kidney problems. SLE is a chronic disease that can occur at any age and is more common in women. There is no known cure for SLE, but symptoms can be managed with medication, lifestyle changes, and stress management. It is a chronic autoimmune disease that can affect many parts of the body. The word \"lupus\" comes from the Latin word for \"wolf,\" and the term \"erythematosus\" comes from the Greek word for \"red.\" The disease was named for the red skin rash that often occurs in people with the disease. SLE is also known as lupus, lupus erythematosus, or lupus disease.SLE is a disease in which the body's immune system attacks its own tissues and organs. The disease can occur at any age, but most often affects young adults, especially women between the ages of 15 and 40. SLE is a chronic disease that can occur in cycles, meaning the symptoms can be active and then go into remission, only to return at a later time. SLE is a disease of unknown cause and can affect many parts of the body, including the joints, skin, kidneys, brain, and other organs. The disease is characterized by periods of flares and remission, with the flares causing the majority of symptoms and the remission periods being symptom-free. SLE is an autoimmune disease, meaning the body's immune system attacks the body's own tissues and organs. The immune system is the body's natural defense system against infections and disease. The immune system produces antibodies to fight off infections. In people with SLE, the immune system attacks the body's own tissues and organs, producing antibodies that attack the body's own tissues and organs. The immune system's attack on the body's own tissues and organs can cause pain, damage, and sickness. SLE is a chronic disease that can occur at any age, but most often affects young adults, especially women between the ages of 15 and 40. There is no known cause of SLE, but the disease is believed to be caused by a combination of genetic and environmental factors. The disease can be triggered by a number of factors, including stress, certain medications, and infections. SLE is a disease of unknown cause and can affect many parts of the body, including the joints, skin, kidneys, brain, and other organs. The disease can cause pain, damage, and sickness in the body, and can be life-threatening if not treated properly. SLE is often referred to as a \"great imitator\" because its symptoms can mimic other diseases, making diagnosis difficult. SLE is a disease that affects many people, with approximately 5 million people worldwide affected by the disease. In the United States, approximately 1.5 million people have SLE, with the disease affecting 1 in 250 people. SLE affects all ethnic groups, but is more common in African Americans and Hispanic Americans. The disease is also more common in women, with the ratio of women to men being 9:1. There is no known cure for SLE, but the disease can be managed with medication, lifestyle changes, and stress management. There are many treatment options for SLE, including medications, lifestyle changes, and stress management. Medications can help control the symptoms of the disease, and lifestyle changes can help prevent the disease from occurring. Stress management can also help prevent the disease from occurring. SLE is a chronic disease that can occur at any age, but most often affects young adults, especially women between the ages of 15 and 40. There is no known cause of SLE, but the disease is believed to be caused by a combination of genetic and environmental factors. The disease can be triggered by a number of factors, including stress, certain medications, and infections. SLE is a disease of unknown cause and can affect many parts of the body, including the joints, skin, kidneys, brain, and other organs. The disease can cause pain, damage, and sickness in the body, and can be life-threatening if not treated properly. SLE is often referred to as a \"great imitator\" because its symptoms can mimic other diseases, making diagnosis difficult. SLE is a disease that affects many people, with approximately 5 million\n"
     ]
    }
   ],
   "source": [
    "user_prompt = \"Please tell me the details of systemic lupus erythematosus\"\n",
    "with torch.autocast(\"cuda\"):\n",
    "    model_answer = text_generation_pipeline(f\"<s>[INST] {user_prompt} [/INST]\")\n",
    "print(model_answer[0]['generated_text'])"
   ]
  }
 ],
 "metadata": {
  "kernelspec": {
   "display_name": "env_llm",
   "language": "python",
   "name": "env_llm"
  },
  "language_info": {
   "codemirror_mode": {
    "name": "ipython",
    "version": 3
   },
   "file_extension": ".py",
   "mimetype": "text/x-python",
   "name": "python",
   "nbconvert_exporter": "python",
   "pygments_lexer": "ipython3",
   "version": "3.8.19"
  }
 },
 "nbformat": 4,
 "nbformat_minor": 2
}
