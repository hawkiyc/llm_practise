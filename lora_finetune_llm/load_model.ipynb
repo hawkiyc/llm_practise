{
 "cells": [
  {
   "cell_type": "code",
   "execution_count": 1,
   "metadata": {},
   "outputs": [
    {
     "data": {
      "text/plain": [
       "True"
      ]
     },
     "execution_count": 1,
     "metadata": {},
     "output_type": "execute_result"
    }
   ],
   "source": [
    "from dotenv import load_dotenv\n",
    "import os\n",
    "import torch\n",
    "from transformers import AutoModelForCausalLM, AutoTokenizer, BitsAndBytesConfig, pipeline\n",
    "load_dotenv()"
   ]
  },
  {
   "cell_type": "code",
   "execution_count": 2,
   "metadata": {},
   "outputs": [
    {
     "name": "stderr",
     "output_type": "stream",
     "text": [
      "`low_cpu_mem_usage` was None, now set to True since model is quantized.\n"
     ]
    },
    {
     "data": {
      "application/vnd.jupyter.widget-view+json": {
       "model_id": "d41329511a6d411e96ff969decc2e3a6",
       "version_major": 2,
       "version_minor": 0
      },
      "text/plain": [
       "Loading checkpoint shards:   0%|          | 0/4 [00:00<?, ?it/s]"
      ]
     },
     "metadata": {},
     "output_type": "display_data"
    }
   ],
   "source": [
    "tokenizer = AutoTokenizer.from_pretrained(\"./llama_finetune/checkpoint-2571\")\n",
    "bnb_config = BitsAndBytesConfig(\n",
    "    load_in_4bit = True, bnb_4bit_quant_type = \"nf4\", \n",
    "    bnb_4bit_compute_dtype = torch.bfloat16,)\n",
    "model = AutoModelForCausalLM.from_pretrained(\"./llama_finetune/checkpoint-2571\", quantization_config = bnb_config)"
   ]
  },
  {
   "cell_type": "code",
   "execution_count": 3,
   "metadata": {},
   "outputs": [
    {
     "name": "stderr",
     "output_type": "stream",
     "text": [
      "Starting from v4.46, the `logits` model output will have the same type as the model (except at train time, where it will always be FP32)\n"
     ]
    },
    {
     "name": "stdout",
     "output_type": "stream",
     "text": [
      "<s>[INST] What is AFib? [/INST] </s> Atrial fibrillation (AFib or AF) is an irregular and often rapid heart rhythm, characterized by rapid and irregular beating of the atria, resulting in an irregular pulse. AFib is the most common sustained cardiac arrhythmia, and is associated with an increased risk of stroke, heart failure, and other heart-related complications. The irregular heart rhythm is due to abnormal electrical activity in the atria, which are the upper chambers of the heart. The condition is also known as fibrillation, or cardiac arrhythmia.\n",
      "AFib is often referred to as a \"silent\" condition because it may not cause symptoms, or the symptoms may be mild and not easily recognized. Symptoms may include palpitations, shortness of breath, and fatigue. The risk of developing AFib increases with age, and the condition is more common in people with high blood pressure, heart valve disease, or previous heart attacks. AFib is diagnosed with an electrocardiogram (ECG or EKG), which is a test that measures the electrical activity of the heart.\n",
      "AFib is typically treated with medications that control the heart rhythm, blood thinners to prevent stroke, or electrical cardioversion, which involves a shock to the chest to restore a normal heart rhythm. AFib is often associated with blood clots, which can travel to the brain and cause a stroke. AFib is also associated with a decrease in the heart's pumping efficiency, which can lead to heart failure. AFib is also a risk factor for the development of dementia.\n",
      "AFib is the most common type of heart arrhythmia, and affects approximately 1% to 2% of the general population. The prevalence of AFib increases with age, and the condition is more common in people over the age of 60. AFib is more common in men than women, and is associated with a higher risk of stroke, heart failure, and death. The economic burden of AFib is significant, with an estimated annual cost of $6 billion in the United States.\n",
      "AFib is a condition in which the upper chambers of the heart, known as the atria, beat irregularly and rapidly. The condition is also known as fibrillation, or cardiac arrhythmia. AFib is characterized by an irregular and rapid heart rhythm, which can be caused by a variety of factors, including high blood pressure, heart valve disease, or previous heart attacks.\n",
      "The symptoms of AFib may be mild and not easily recognized. The condition may not cause any symptoms at all, or\n"
     ]
    }
   ],
   "source": [
    "prompt = \"What is AFib?\"\n",
    "text_generation_pipeline = pipeline(task = \"text-generation\", model = model, tokenizer = tokenizer, max_new_tokens = 512)\n",
    "with torch.autocast(\"cuda\"):\n",
    "    model_answer = text_generation_pipeline(f\"<s>[INST] {prompt} [/INST]\")\n",
    "print(model_answer[0]['generated_text'])"
   ]
  },
  {
   "cell_type": "code",
   "execution_count": 4,
   "metadata": {},
   "outputs": [
    {
     "name": "stdout",
     "output_type": "stream",
     "text": [
      "<s>[INST] What is malaria? [/INST] </s> Malaria is a serious and sometimes life-threatening disease that is most commonly transmitted by an infected female Anopheles mosquito. The disease is caused by a parasite, Plasmodium, which is transmitted through the bite of an infected mosquito. The parasite lives and multiplies in the liver and red blood cells of the host. The symptoms of malaria include fever, chills, flu-like symptoms, and in severe cases, coma or death. Malaria is one of the most devastating diseases in the world and is a leading cause of illness and death in many developing countries. It is estimated that there are over 200 million cases of malaria worldwide each year, resulting in over 600,000 deaths, mostly among children under the age of five. Malaria is a major public health problem in many parts of the world, particularly in sub-Saharan Africa, where it is a leading cause of illness and death. Malaria is also a significant economic burden on many countries, with an estimated annual economic loss of over $12 billion.\n",
      "The parasite that causes malaria is transmitted through the bite of an infected Anopheles mosquito. The mosquito becomes infected with the parasite when it bites an infected person, and the parasite then develops into a form that can be transmitted to another person through the mosquito's bite. The parasite multiplies in the mosquito's saliva and is transmitted to the person through the mosquito's bite. The parasite then enters the person's bloodstream and multiplies in the liver and red blood cells. The symptoms of malaria begin to appear within a few days to a week after the parasite enters the person's body. The symptoms include fever, chills, flu-like symptoms, and in severe cases, coma or death. The symptoms of malaria are caused by the parasite's release of toxins into the person's body, which can cause damage to the liver, spleen, and other organs.\n",
      "The symptoms of malaria can vary depending on the severity of the infection and the age of the person. In mild cases, the symptoms may be similar to those of the flu, including fever, chills, headache, muscle aches, and fatigue. In more severe cases, the symptoms can be life-threatening, including seizures, coma, and death. The symptoms of malaria can also be similar to those of other diseases, such as typhoid fever, dengue fever, and yellow fever, making it difficult to diagnose the disease.\n",
      "There are four different types of Plasmodium that can cause malaria: Plasmodium falciparum, Pl\n"
     ]
    }
   ],
   "source": [
    "prompt = \"What is malaria?\"\n",
    "text_generation_pipeline = pipeline(\n",
    "    task = \"text-generation\", \n",
    "    model = model, \n",
    "    tokenizer = tokenizer, \n",
    "    max_new_tokens = 512, )\n",
    "with torch.autocast(\"cuda\"):\n",
    "    model_answer = text_generation_pipeline(f\"<s>[INST] {prompt} [/INST]\")\n",
    "print(model_answer[0]['generated_text'])"
   ]
  },
  {
   "cell_type": "code",
   "execution_count": 5,
   "metadata": {},
   "outputs": [
    {
     "name": "stdout",
     "output_type": "stream",
     "text": [
      "<s>[INST] Please tell me about Bursitis [/INST] Bursitis is inflammation of a bursa, which is a fluid-filled synovial cavity, usually associated with a tendon or a joint. The most commonly affected bursae are those near the shoulder, elbow, hip, knee, and ankle. Bursitis can be acute or chronic and is often associated with repetitive motion or direct trauma. The most common cause of acute bursitis is infection, and the most common cause of chronic bursitis is repetitive motion. Bursitis can be diagnosed clinically or by imaging studies. Treatment may include rest, ice, compression, and elevation (RICE) and physical therapy, as well as anti-inflammatory medications. In severe cases, surgery may be necessary. Bursitis can cause pain and swelling in the affected area, which may be limited by movement. Bursitis can also cause systemic symptoms, such as fever and malaise. Bursitis is a common condition that affects people of all ages. Bursae are fluid-filled synovial sacs that are located between bones, muscles, tendons, and ligaments. They act as shock absorbers, reducing the friction between these structures as they move. The most common bursae are the olecranon bursa at the elbow, the prepatellar bursa in front of the knee, the subacromial bursa above the shoulder, and the retrocalcaneal bursa behind the ankle. Bursitis occurs when a bursa becomes inflamed. This can be caused by a variety of factors, including infection, repetitive motion, and trauma. The most common cause of acute bursitis is infection, which is usually caused by a bacterial infection. The most common cause of chronic bursitis is repetitive motion. Bursitis can be diagnosed clinically or by imaging studies. Treatment may include rest, ice, compression, and elevation (RICE) and physical therapy, as well as anti-inflammatory medications. In severe cases, surgery may be necessary. Bursitis can cause pain and swelling in the affected area, which may be limited by movement. Bursitis can also cause systemic symptoms, such as fever and malaise. Bursitis is a common condition that affects people of all ages. Bursae are fluid-filled synovial sacs that are located between bones, muscles, tendons, and ligaments. They act as shock absorbers, reducing the friction between these structures as they move. The most common bursae are the olecranon burs\n"
     ]
    }
   ],
   "source": [
    "user_prompt = \"Please tell me about Bursitis\"\n",
    "text_generation_pipeline = pipeline(task = \"text-generation\", model = model, tokenizer = tokenizer, max_new_tokens = 512)\n",
    "with torch.autocast(\"cuda\"):\n",
    "    model_answer = text_generation_pipeline(f\"<s>[INST] {user_prompt} [/INST]\")\n",
    "print(model_answer[0]['generated_text'])"
   ]
  }
 ],
 "metadata": {
  "kernelspec": {
   "display_name": "env_llm",
   "language": "python",
   "name": "env_llm"
  },
  "language_info": {
   "codemirror_mode": {
    "name": "ipython",
    "version": 3
   },
   "file_extension": ".py",
   "mimetype": "text/x-python",
   "name": "python",
   "nbconvert_exporter": "python",
   "pygments_lexer": "ipython3",
   "version": "3.8.19"
  }
 },
 "nbformat": 4,
 "nbformat_minor": 2
}
