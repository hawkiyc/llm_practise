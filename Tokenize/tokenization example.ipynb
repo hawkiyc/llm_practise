{
 "cells": [
  {
   "cell_type": "code",
   "execution_count": 1,
   "id": "31e68c25-fabc-4b98-a2b4-1c03e6950bc3",
   "metadata": {
    "tags": []
   },
   "outputs": [
    {
     "name": "stderr",
     "output_type": "stream",
     "text": [
      "[nltk_data] Downloading package punkt_tab to\n",
      "[nltk_data]     C:\\Users\\revlis_user\\AppData\\Roaming\\nltk_data...\n",
      "[nltk_data]   Package punkt_tab is already up-to-date!\n"
     ]
    },
    {
     "data": {
      "text/plain": [
       "True"
      ]
     },
     "execution_count": 1,
     "metadata": {},
     "output_type": "execute_result"
    }
   ],
   "source": [
    "import nltk\n",
    "from nltk.tokenize import sent_tokenize, word_tokenize, wordpunct_tokenize, TreebankWordTokenizer\n",
    "nltk.download('punkt_tab')"
   ]
  },
  {
   "cell_type": "code",
   "execution_count": 2,
   "id": "116daab7-a34a-4fb0-803a-2f46e707feb4",
   "metadata": {
    "tags": []
   },
   "outputs": [],
   "source": [
    "corpus = \"\"\"\n",
    "Hello, this is finest greeting from hawkiyc. Here is hawkiyc's lalaland.\n",
    "Please enjoy and relax in this place! we take care all your need.\n",
    "\"\"\""
   ]
  },
  {
   "cell_type": "markdown",
   "id": "18c4e61d-226a-45c0-bade-d8104da7ff8a",
   "metadata": {
    "tags": []
   },
   "source": [
    "## Tokenization\n",
    "## Sentence --> paragraphs"
   ]
  },
  {
   "cell_type": "code",
   "execution_count": 3,
   "id": "d5106383-9a31-4f84-9449-29b66fddc908",
   "metadata": {
    "tags": []
   },
   "outputs": [
    {
     "data": {
      "text/plain": [
       "['\\nHello, this is finest greeting from hawkiyc.',\n",
       " \"Here is hawkiyc's lalaland.\",\n",
       " 'Please enjoy and relax in this place!',\n",
       " 'we take care all your need.']"
      ]
     },
     "execution_count": 3,
     "metadata": {},
     "output_type": "execute_result"
    }
   ],
   "source": [
    "documents = sent_tokenize(corpus)\n",
    "documents"
   ]
  },
  {
   "cell_type": "markdown",
   "id": "10d3a966-814e-4277-8820-a2b0896ed3b6",
   "metadata": {},
   "source": [
    "## Tokenization\n",
    "## Paragraphs --> words\n",
    "## Sentence --> words"
   ]
  },
  {
   "cell_type": "code",
   "execution_count": 4,
   "id": "ace17013-5bc3-4cca-a206-229ded4602e7",
   "metadata": {
    "tags": []
   },
   "outputs": [
    {
     "data": {
      "text/plain": [
       "['Hello',\n",
       " ',',\n",
       " 'this',\n",
       " 'is',\n",
       " 'finest',\n",
       " 'greeting',\n",
       " 'from',\n",
       " 'hawkiyc',\n",
       " '.',\n",
       " 'Here',\n",
       " 'is',\n",
       " 'hawkiyc',\n",
       " \"'s\",\n",
       " 'lalaland',\n",
       " '.',\n",
       " 'Please',\n",
       " 'enjoy',\n",
       " 'and',\n",
       " 'relax',\n",
       " 'in',\n",
       " 'this',\n",
       " 'place',\n",
       " '!',\n",
       " 'we',\n",
       " 'take',\n",
       " 'care',\n",
       " 'all',\n",
       " 'your',\n",
       " 'need',\n",
       " '.']"
      ]
     },
     "execution_count": 4,
     "metadata": {},
     "output_type": "execute_result"
    }
   ],
   "source": [
    "words = word_tokenize(corpus)\n",
    "words"
   ]
  },
  {
   "cell_type": "code",
   "execution_count": 5,
   "id": "19771978-1059-433d-9329-92290a30f946",
   "metadata": {
    "tags": []
   },
   "outputs": [
    {
     "data": {
      "text/plain": [
       "['Hello',\n",
       " ',',\n",
       " 'this',\n",
       " 'is',\n",
       " 'finest',\n",
       " 'greeting',\n",
       " 'from',\n",
       " 'hawkiyc',\n",
       " '.',\n",
       " 'Here',\n",
       " 'is',\n",
       " 'hawkiyc',\n",
       " \"'\",\n",
       " 's',\n",
       " 'lalaland',\n",
       " '.',\n",
       " 'Please',\n",
       " 'enjoy',\n",
       " 'and',\n",
       " 'relax',\n",
       " 'in',\n",
       " 'this',\n",
       " 'place',\n",
       " '!',\n",
       " 'we',\n",
       " 'take',\n",
       " 'care',\n",
       " 'all',\n",
       " 'your',\n",
       " 'need',\n",
       " '.']"
      ]
     },
     "execution_count": 5,
     "metadata": {},
     "output_type": "execute_result"
    }
   ],
   "source": [
    "words2 = wordpunct_tokenize(corpus)\n",
    "words2"
   ]
  },
  {
   "cell_type": "code",
   "execution_count": 8,
   "id": "a63fecdb-a3a0-4f3d-88bb-0ac4419c0711",
   "metadata": {
    "tags": []
   },
   "outputs": [],
   "source": [
    "tokenizer = TreebankWordTokenizer()"
   ]
  },
  {
   "cell_type": "code",
   "execution_count": 9,
   "id": "85fa8d98-1760-4cd6-bde5-3d7050908809",
   "metadata": {
    "tags": []
   },
   "outputs": [
    {
     "data": {
      "text/plain": [
       "['Hello',\n",
       " ',',\n",
       " 'this',\n",
       " 'is',\n",
       " 'finest',\n",
       " 'greeting',\n",
       " 'from',\n",
       " 'hawkiyc.',\n",
       " 'Here',\n",
       " 'is',\n",
       " 'hawkiyc',\n",
       " \"'s\",\n",
       " 'lalaland.',\n",
       " 'Please',\n",
       " 'enjoy',\n",
       " 'and',\n",
       " 'relax',\n",
       " 'in',\n",
       " 'this',\n",
       " 'place',\n",
       " '!',\n",
       " 'we',\n",
       " 'take',\n",
       " 'care',\n",
       " 'all',\n",
       " 'your',\n",
       " 'need',\n",
       " '.']"
      ]
     },
     "execution_count": 9,
     "metadata": {},
     "output_type": "execute_result"
    }
   ],
   "source": [
    "words3 = tokenizer.tokenize(corpus)\n",
    "words3"
   ]
  },
  {
   "cell_type": "code",
   "execution_count": null,
   "id": "4152f073-a374-4be7-b6a4-c99b0c78a96c",
   "metadata": {},
   "outputs": [],
   "source": []
  },
  {
   "cell_type": "code",
   "execution_count": null,
   "id": "e9442cbc-02c4-4a15-b664-2eddc9eddb5d",
   "metadata": {},
   "outputs": [],
   "source": []
  },
  {
   "cell_type": "code",
   "execution_count": null,
   "id": "18fcea58-affe-4eb3-a3b9-99117c447f71",
   "metadata": {},
   "outputs": [],
   "source": []
  },
  {
   "cell_type": "code",
   "execution_count": null,
   "id": "c21a3815-87ef-4194-b54f-676556b4c8cf",
   "metadata": {},
   "outputs": [],
   "source": []
  }
 ],
 "metadata": {
  "kernelspec": {
   "display_name": "env_llm",
   "language": "python",
   "name": "env_llm"
  },
  "language_info": {
   "codemirror_mode": {
    "name": "ipython",
    "version": 3
   },
   "file_extension": ".py",
   "mimetype": "text/x-python",
   "name": "python",
   "nbconvert_exporter": "python",
   "pygments_lexer": "ipython3",
   "version": "3.11.9"
  }
 },
 "nbformat": 4,
 "nbformat_minor": 5
}
