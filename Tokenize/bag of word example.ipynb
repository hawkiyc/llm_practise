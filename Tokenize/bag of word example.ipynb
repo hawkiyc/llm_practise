{
 "cells": [
  {
   "cell_type": "code",
   "execution_count": 1,
   "id": "56f2d9ac-9405-41a8-b5d2-6942995c061b",
   "metadata": {
    "tags": []
   },
   "outputs": [
    {
     "name": "stderr",
     "output_type": "stream",
     "text": [
      "[nltk_data] Downloading package stopwords to\n",
      "[nltk_data]     C:\\Users\\revlis_user\\AppData\\Roaming\\nltk_data...\n",
      "[nltk_data]   Package stopwords is already up-to-date!\n"
     ]
    },
    {
     "data": {
      "text/plain": [
       "True"
      ]
     },
     "execution_count": 1,
     "metadata": {},
     "output_type": "execute_result"
    }
   ],
   "source": [
    "import nltk\n",
    "from nltk.corpus import stopwords\n",
    "from nltk.stem.porter import PorterStemmer\n",
    "import numpy as np\n",
    "import pandas as pd\n",
    "import re\n",
    "from sklearn.feature_extraction.text import CountVectorizer\n",
    "nltk.download('stopwords')"
   ]
  },
  {
   "cell_type": "markdown",
   "id": "e333128e-48cb-4b40-a833-fc31c76e7bba",
   "metadata": {},
   "source": [
    "## Load dataset"
   ]
  },
  {
   "cell_type": "code",
   "execution_count": 2,
   "id": "958182fe-b1b2-4cb5-bf91-ed28637c39f1",
   "metadata": {
    "tags": []
   },
   "outputs": [
    {
     "data": {
      "text/html": [
       "<div>\n",
       "<style scoped>\n",
       "    .dataframe tbody tr th:only-of-type {\n",
       "        vertical-align: middle;\n",
       "    }\n",
       "\n",
       "    .dataframe tbody tr th {\n",
       "        vertical-align: top;\n",
       "    }\n",
       "\n",
       "    .dataframe thead th {\n",
       "        text-align: right;\n",
       "    }\n",
       "</style>\n",
       "<table border=\"1\" class=\"dataframe\">\n",
       "  <thead>\n",
       "    <tr style=\"text-align: right;\">\n",
       "      <th></th>\n",
       "      <th>label</th>\n",
       "      <th>message</th>\n",
       "    </tr>\n",
       "  </thead>\n",
       "  <tbody>\n",
       "    <tr>\n",
       "      <th>0</th>\n",
       "      <td>ham</td>\n",
       "      <td>Go until jurong point, crazy.. Available only ...</td>\n",
       "    </tr>\n",
       "    <tr>\n",
       "      <th>1</th>\n",
       "      <td>ham</td>\n",
       "      <td>Ok lar... Joking wif u oni...</td>\n",
       "    </tr>\n",
       "    <tr>\n",
       "      <th>2</th>\n",
       "      <td>spam</td>\n",
       "      <td>Free entry in 2 a wkly comp to win FA Cup fina...</td>\n",
       "    </tr>\n",
       "    <tr>\n",
       "      <th>3</th>\n",
       "      <td>ham</td>\n",
       "      <td>U dun say so early hor... U c already then say...</td>\n",
       "    </tr>\n",
       "    <tr>\n",
       "      <th>4</th>\n",
       "      <td>ham</td>\n",
       "      <td>Nah I don't think he goes to usf, he lives aro...</td>\n",
       "    </tr>\n",
       "    <tr>\n",
       "      <th>...</th>\n",
       "      <td>...</td>\n",
       "      <td>...</td>\n",
       "    </tr>\n",
       "    <tr>\n",
       "      <th>5567</th>\n",
       "      <td>spam</td>\n",
       "      <td>This is the 2nd time we have tried 2 contact u...</td>\n",
       "    </tr>\n",
       "    <tr>\n",
       "      <th>5568</th>\n",
       "      <td>ham</td>\n",
       "      <td>Will Ì_ b going to esplanade fr home?</td>\n",
       "    </tr>\n",
       "    <tr>\n",
       "      <th>5569</th>\n",
       "      <td>ham</td>\n",
       "      <td>Pity, * was in mood for that. So...any other s...</td>\n",
       "    </tr>\n",
       "    <tr>\n",
       "      <th>5570</th>\n",
       "      <td>ham</td>\n",
       "      <td>The guy did some bitching but I acted like i'd...</td>\n",
       "    </tr>\n",
       "    <tr>\n",
       "      <th>5571</th>\n",
       "      <td>ham</td>\n",
       "      <td>Rofl. Its true to its name</td>\n",
       "    </tr>\n",
       "  </tbody>\n",
       "</table>\n",
       "<p>5572 rows × 2 columns</p>\n",
       "</div>"
      ],
      "text/plain": [
       "     label                                            message\n",
       "0      ham  Go until jurong point, crazy.. Available only ...\n",
       "1      ham                      Ok lar... Joking wif u oni...\n",
       "2     spam  Free entry in 2 a wkly comp to win FA Cup fina...\n",
       "3      ham  U dun say so early hor... U c already then say...\n",
       "4      ham  Nah I don't think he goes to usf, he lives aro...\n",
       "...    ...                                                ...\n",
       "5567  spam  This is the 2nd time we have tried 2 contact u...\n",
       "5568   ham              Will Ì_ b going to esplanade fr home?\n",
       "5569   ham  Pity, * was in mood for that. So...any other s...\n",
       "5570   ham  The guy did some bitching but I acted like i'd...\n",
       "5571   ham                         Rofl. Its true to its name\n",
       "\n",
       "[5572 rows x 2 columns]"
      ]
     },
     "execution_count": 2,
     "metadata": {},
     "output_type": "execute_result"
    }
   ],
   "source": [
    "message = pd.read_csv('spam.csv', skiprows = [0], usecols=[0, 1], names = [\"label\",\"message\"], encoding = 'ISO-8859-1')\n",
    "message"
   ]
  },
  {
   "cell_type": "markdown",
   "id": "d622352c-f919-4795-ac4d-358f7c0a8c48",
   "metadata": {},
   "source": [
    "## Data Cleaning and Preprocessing"
   ]
  },
  {
   "cell_type": "code",
   "execution_count": 3,
   "id": "dc9e3014-f7e8-4453-b4c2-d75067d1a509",
   "metadata": {
    "tags": []
   },
   "outputs": [],
   "source": [
    "stemmer = PorterStemmer()"
   ]
  },
  {
   "cell_type": "code",
   "execution_count": 4,
   "id": "1852b647-b644-46bb-bc60-e799e3914aa8",
   "metadata": {
    "tags": []
   },
   "outputs": [],
   "source": [
    "corpus = []\n",
    "for i in range(len(message)):\n",
    "    review = re.sub(\"[^a-zA-Z]\", \" \", message[\"message\"][i])\n",
    "    review = review.lower()\n",
    "    review = review.split()\n",
    "    review = [stemmer.stem(w) for w in review if w not in stopwords.words(\"english\")]\n",
    "    review = \" \".join(review)\n",
    "    corpus.append(review)"
   ]
  },
  {
   "cell_type": "code",
   "execution_count": 5,
   "id": "9cf8064f-df44-4670-98e3-de7164b658db",
   "metadata": {
    "tags": []
   },
   "outputs": [
    {
     "data": {
      "text/plain": [
       "['go jurong point crazi avail bugi n great world la e buffet cine got amor wat',\n",
       " 'ok lar joke wif u oni',\n",
       " 'free entri wkli comp win fa cup final tkt st may text fa receiv entri question std txt rate c appli',\n",
       " 'u dun say earli hor u c alreadi say',\n",
       " 'nah think goe usf live around though',\n",
       " 'freemsg hey darl week word back like fun still tb ok xxx std chg send rcv',\n",
       " 'even brother like speak treat like aid patent',\n",
       " 'per request mell mell oru minnaminungint nurungu vettam set callertun caller press copi friend callertun',\n",
       " 'winner valu network custom select receivea prize reward claim call claim code kl valid hour',\n",
       " 'mobil month u r entitl updat latest colour mobil camera free call mobil updat co free',\n",
       " 'gonna home soon want talk stuff anymor tonight k cri enough today',\n",
       " 'six chanc win cash pound txt csh send cost p day day tsandc appli repli hl info',\n",
       " 'urgent week free membership prize jackpot txt word claim c www dbuk net lccltd pobox ldnw rw',\n",
       " 'search right word thank breather promis wont take help grant fulfil promis wonder bless time',\n",
       " 'date sunday',\n",
       " 'xxxmobilemovieclub use credit click wap link next txt messag click http wap xxxmobilemovieclub com n qjkgighjjgcbl',\n",
       " 'oh k watch',\n",
       " 'eh u rememb spell name ye v naughti make v wet',\n",
       " 'fine way u feel way gota b',\n",
       " 'england v macedonia dont miss goal team news txt ur nation team eg england tri wale scotland txt poboxox w wq']"
      ]
     },
     "execution_count": 5,
     "metadata": {},
     "output_type": "execute_result"
    }
   ],
   "source": [
    "corpus[:20]"
   ]
  },
  {
   "cell_type": "markdown",
   "id": "480524e3-e251-4568-a59c-6bdb0ae3741f",
   "metadata": {},
   "source": [
    "## Create the bag of word model"
   ]
  },
  {
   "cell_type": "code",
   "execution_count": 6,
   "id": "551f96ee-f850-451e-8c94-9f436c947437",
   "metadata": {
    "tags": []
   },
   "outputs": [],
   "source": [
    "cv = CountVectorizer(max_features = 2500) # take top 2500 words with highest frequency"
   ]
  },
  {
   "cell_type": "code",
   "execution_count": 7,
   "id": "2b021884-674d-433e-ae94-79eebd5f8d14",
   "metadata": {
    "tags": []
   },
   "outputs": [],
   "source": [
    "x = cv.fit_transform(corpus).toarray()"
   ]
  },
  {
   "cell_type": "code",
   "execution_count": 8,
   "id": "85673591-4e1d-4b81-8ae8-f01519409167",
   "metadata": {
    "tags": []
   },
   "outputs": [
    {
     "data": {
      "text/plain": [
       "[('go', 870),\n",
       " ('point', 1613),\n",
       " ('crazi', 493),\n",
       " ('avail', 140),\n",
       " ('bugi', 272),\n",
       " ('great', 894),\n",
       " ('world', 2440),\n",
       " ('la', 1131),\n",
       " ('cine', 391),\n",
       " ('got', 885),\n",
       " ('wat', 2370),\n",
       " ('ok', 1509),\n",
       " ('lar', 1143),\n",
       " ('joke', 1089),\n",
       " ('wif', 2408),\n",
       " ('oni', 1517),\n",
       " ('free', 809),\n",
       " ('entri', 679),\n",
       " ('wkli', 2429),\n",
       " ('comp', 431)]"
      ]
     },
     "execution_count": 8,
     "metadata": {},
     "output_type": "execute_result"
    }
   ],
   "source": [
    "list(cv.vocabulary_.items())[:20] # word and index of column"
   ]
  },
  {
   "cell_type": "code",
   "execution_count": 9,
   "id": "7d508a11-94cc-4d15-a5fa-6959ae808413",
   "metadata": {
    "tags": []
   },
   "outputs": [
    {
     "data": {
      "text/plain": [
       "array([[0, 0, 0, ..., 0, 0, 0],\n",
       "       [0, 0, 0, ..., 0, 0, 0],\n",
       "       [0, 0, 0, ..., 0, 0, 0],\n",
       "       ...,\n",
       "       [0, 0, 0, ..., 0, 0, 0],\n",
       "       [0, 0, 0, ..., 0, 0, 0],\n",
       "       [0, 0, 0, ..., 0, 0, 0]], dtype=int64)"
      ]
     },
     "execution_count": 9,
     "metadata": {},
     "output_type": "execute_result"
    }
   ],
   "source": [
    "x[:30]"
   ]
  },
  {
   "cell_type": "code",
   "execution_count": 10,
   "id": "94e17ab0",
   "metadata": {},
   "outputs": [
    {
     "data": {
      "text/plain": [
       "18"
      ]
     },
     "execution_count": 10,
     "metadata": {},
     "output_type": "execute_result"
    }
   ],
   "source": [
    "np.max(x) # highest frequency of words is 18"
   ]
  },
  {
   "cell_type": "code",
   "execution_count": 11,
   "id": "d28538be-2018-49a2-9b91-249dae70bec1",
   "metadata": {},
   "outputs": [],
   "source": [
    "cv1 = CountVectorizer(max_features = 2500, binary = True) # take top 2500 words with highest frequency, binary bow"
   ]
  },
  {
   "cell_type": "code",
   "execution_count": 12,
   "id": "2872566b-df2d-454d-a554-7364d5aca031",
   "metadata": {
    "tags": []
   },
   "outputs": [],
   "source": [
    "x1 = cv1.fit_transform(corpus).toarray()"
   ]
  },
  {
   "cell_type": "code",
   "execution_count": 13,
   "id": "f385f7f7-e8e6-42d9-a18f-74845fb90a88",
   "metadata": {},
   "outputs": [
    {
     "data": {
      "text/plain": [
       "array([[0, 0, 0, ..., 0, 0, 0],\n",
       "       [0, 0, 0, ..., 0, 0, 0],\n",
       "       [0, 0, 0, ..., 0, 0, 0],\n",
       "       ...,\n",
       "       [0, 0, 0, ..., 0, 0, 0],\n",
       "       [0, 0, 0, ..., 0, 0, 0],\n",
       "       [0, 0, 0, ..., 0, 0, 0]], dtype=int64)"
      ]
     },
     "execution_count": 13,
     "metadata": {},
     "output_type": "execute_result"
    }
   ],
   "source": [
    "x1[:30]"
   ]
  },
  {
   "cell_type": "code",
   "execution_count": 14,
   "id": "db11667e",
   "metadata": {
    "tags": []
   },
   "outputs": [
    {
     "data": {
      "text/plain": [
       "1"
      ]
     },
     "execution_count": 14,
     "metadata": {},
     "output_type": "execute_result"
    }
   ],
   "source": [
    "np.max(x1) # no frequency, only exist or not"
   ]
  },
  {
   "cell_type": "markdown",
   "id": "6fd52b47-227d-42ce-b9af-88b7d147ef70",
   "metadata": {},
   "source": [
    "## N-grams"
   ]
  },
  {
   "cell_type": "markdown",
   "id": "d083b026-eaf8-4008-a648-e6391a86242e",
   "metadata": {},
   "source": [
    "N-grams can increase the variance between sentences to get better model performance"
   ]
  },
  {
   "cell_type": "code",
   "execution_count": 15,
   "id": "6bae467d-efcd-4ba3-8f98-e4e0cc68ee86",
   "metadata": {},
   "outputs": [],
   "source": [
    "cv2 = CountVectorizer(max_features = 2500, ngram_range = (1,2))"
   ]
  },
  {
   "cell_type": "code",
   "execution_count": 16,
   "id": "3629f9dd-e3d2-496f-b679-f42fe37ad965",
   "metadata": {},
   "outputs": [],
   "source": [
    "x2 = cv2.fit_transform(corpus).toarray()"
   ]
  },
  {
   "cell_type": "code",
   "execution_count": 17,
   "id": "5c8285a6-f6dd-4882-be8f-f80ecdc29800",
   "metadata": {},
   "outputs": [
    {
     "data": {
      "text/plain": [
       "array([[0, 0, 0, ..., 0, 0, 0],\n",
       "       [0, 0, 0, ..., 0, 0, 0],\n",
       "       [0, 0, 0, ..., 0, 0, 0],\n",
       "       ...,\n",
       "       [0, 0, 0, ..., 0, 0, 0],\n",
       "       [0, 0, 0, ..., 0, 0, 0],\n",
       "       [0, 0, 0, ..., 0, 0, 0]], dtype=int64)"
      ]
     },
     "execution_count": 17,
     "metadata": {},
     "output_type": "execute_result"
    }
   ],
   "source": [
    "x2[:30]"
   ]
  },
  {
   "cell_type": "code",
   "execution_count": 18,
   "id": "4421d57e-f8ea-420a-b579-f713b7108812",
   "metadata": {},
   "outputs": [
    {
     "data": {
      "text/plain": [
       "18"
      ]
     },
     "execution_count": 18,
     "metadata": {},
     "output_type": "execute_result"
    }
   ],
   "source": [
    "np.max(x2)"
   ]
  },
  {
   "cell_type": "code",
   "execution_count": 19,
   "id": "bf72c605-02e6-48bb-8cfa-94363026323d",
   "metadata": {},
   "outputs": [
    {
     "data": {
      "text/plain": [
       "[('go', 801),\n",
       " ('point', 1605),\n",
       " ('crazi', 452),\n",
       " ('avail', 123),\n",
       " ('bugi', 230),\n",
       " ('great', 855),\n",
       " ('world', 2430),\n",
       " ('la', 1084),\n",
       " ('cine', 349),\n",
       " ('got', 843),\n",
       " ('wat', 2338),\n",
       " ('ok', 1472),\n",
       " ('lar', 1096),\n",
       " ('joke', 1051),\n",
       " ('wif', 2395),\n",
       " ('free', 723),\n",
       " ('entri', 617),\n",
       " ('wkli', 2419),\n",
       " ('comp', 400),\n",
       " ('win', 2400),\n",
       " ('fa', 653),\n",
       " ('cup', 466),\n",
       " ('final', 688),\n",
       " ('st', 1961),\n",
       " ('may', 1265),\n",
       " ('text', 2074),\n",
       " ('receiv', 1699),\n",
       " ('question', 1664),\n",
       " ('std', 1976),\n",
       " ('txt', 2203),\n",
       " ('rate', 1679),\n",
       " ('appli', 86),\n",
       " ('free entri', 728),\n",
       " ('entri wkli', 619),\n",
       " ('std txt', 1977),\n",
       " ('txt rate', 2209),\n",
       " ('rate appli', 1680),\n",
       " ('dun', 577),\n",
       " ('say', 1795),\n",
       " ('earli', 583),\n",
       " ('alreadi', 55),\n",
       " ('nah', 1386),\n",
       " ('think', 2100),\n",
       " ('goe', 823),\n",
       " ('usf', 2273),\n",
       " ('live', 1163),\n",
       " ('around', 99),\n",
       " ('though', 2110),\n",
       " ('freemsg', 735),\n",
       " ('hey', 921),\n",
       " ('darl', 483),\n",
       " ('week', 2363),\n",
       " ('word', 2425),\n",
       " ('back', 140),\n",
       " ('like', 1148),\n",
       " ('fun', 755),\n",
       " ('still', 1979),\n",
       " ('tb', 2052),\n",
       " ('xxx', 2465),\n",
       " ('send', 1826),\n",
       " ('even', 627),\n",
       " ('brother', 220),\n",
       " ('speak', 1942),\n",
       " ('treat', 2178),\n",
       " ('per', 1543),\n",
       " ('request', 1733),\n",
       " ('mell', 1278),\n",
       " ('oru', 1511),\n",
       " ('set', 1842),\n",
       " ('callertun', 279),\n",
       " ('caller', 276),\n",
       " ('press', 1632),\n",
       " ('copi', 435),\n",
       " ('friend', 740),\n",
       " ('per request', 1547),\n",
       " ('set callertun', 1843),\n",
       " ('callertun caller', 280),\n",
       " ('caller press', 277),\n",
       " ('press copi', 1633),\n",
       " ('copi friend', 436),\n",
       " ('friend callertun', 741),\n",
       " ('winner', 2405),\n",
       " ('valu', 2280),\n",
       " ('network', 1405),\n",
       " ('custom', 471),\n",
       " ('select', 1820),\n",
       " ('prize', 1644),\n",
       " ('reward', 1746),\n",
       " ('claim', 352),\n",
       " ('call', 246),\n",
       " ('code', 371),\n",
       " ('valid', 2278),\n",
       " ('hour', 964),\n",
       " ('claim call', 353),\n",
       " ('call claim', 251),\n",
       " ('claim code', 354),\n",
       " ('mobil', 1325),\n",
       " ('month', 1345),\n",
       " ('entitl', 615),\n",
       " ('updat', 2238)]"
      ]
     },
     "execution_count": 19,
     "metadata": {},
     "output_type": "execute_result"
    }
   ],
   "source": [
    "list(cv2.vocabulary_.items())[:100] # word and index of column"
   ]
  },
  {
   "cell_type": "code",
   "execution_count": null,
   "id": "6b6e8498-19cc-4d3a-8317-c431094179ca",
   "metadata": {},
   "outputs": [],
   "source": []
  },
  {
   "cell_type": "code",
   "execution_count": null,
   "id": "4f9519dc-0958-4c34-898f-7d0a508631e3",
   "metadata": {},
   "outputs": [],
   "source": []
  },
  {
   "cell_type": "code",
   "execution_count": null,
   "id": "f1daf17b-9002-430c-bbaa-b91c340fa6c3",
   "metadata": {},
   "outputs": [],
   "source": []
  }
 ],
 "metadata": {
  "kernelspec": {
   "display_name": "env_llm",
   "language": "python",
   "name": "env_llm"
  },
  "language_info": {
   "codemirror_mode": {
    "name": "ipython",
    "version": 3
   },
   "file_extension": ".py",
   "mimetype": "text/x-python",
   "name": "python",
   "nbconvert_exporter": "python",
   "pygments_lexer": "ipython3",
   "version": "3.11.9"
  }
 },
 "nbformat": 4,
 "nbformat_minor": 5
}
